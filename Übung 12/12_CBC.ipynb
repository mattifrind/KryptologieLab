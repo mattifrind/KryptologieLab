{
 "cells": [
  {
   "cell_type": "markdown",
   "metadata": {},
   "source": [
    "# Kryptologie LAB - CBC"
   ]
  },
  {
   "cell_type": "code",
   "execution_count": 1,
   "metadata": {},
   "outputs": [],
   "source": [
    "import numpy as np\n",
    "import random"
   ]
  },
  {
   "cell_type": "markdown",
   "metadata": {},
   "source": [
    "## AES"
   ]
  },
  {
   "cell_type": "code",
   "execution_count": 2,
   "metadata": {},
   "outputs": [],
   "source": [
    "# helper functions https://stackoverflow.com/a/30375198/6600660\n",
    "\n",
    "def int_to_bytes(x: int) -> bytes:\n",
    "    return x.to_bytes((x.bit_length() + 7) // 8, 'big')\n",
    "\n",
    "def int_from_bytes(xbytes: bytes) -> int:\n",
    "    return int.from_bytes(xbytes, 'big')"
   ]
  },
  {
   "cell_type": "code",
   "execution_count": 3,
   "metadata": {},
   "outputs": [
    {
     "name": "stdout",
     "output_type": "stream",
     "text": [
      "SBox\n",
      "[[ 99 124 119 123 242 107 111 197  48   1 103  43 254 215 171 118]\n",
      " [202 130 201 125 250  89  71 240 173 212 162 175 156 164 114 192]\n",
      " [183 253 147  38  54  63 247 204  52 165 229 241 113 216  49  21]\n",
      " [  4 199  35 195  24 150   5 154   7  18 128 226 235  39 178 117]\n",
      " [  9 131  44  26  27 110  90 160  82  59 214 179  41 227  47 132]\n",
      " [ 83 209   0 237  32 252 177  91 106 203 190  57  74  76  88 207]\n",
      " [208 239 170 251  67  77  51 133  69 249   2 127  80  60 159 168]\n",
      " [ 81 163  64 143 146 157  56 245 188 182 218  33  16 255 243 210]\n",
      " [205  12  19 236  95 151  68  23 196 167 126  61 100  93  25 115]\n",
      " [ 96 129  79 220  34  42 144 136  70 238 184  20 222  94  11 219]\n",
      " [224  50  58  10  73   6  36  92 194 211 172  98 145 149 228 121]\n",
      " [231 200  55 109 141 213  78 169 108  86 244 234 101 122 174   8]\n",
      " [186 120  37  46  28 166 180 198 232 221 116  31  75 189 139 138]\n",
      " [112  62 181 102  72   3 246  14  97  53  87 185 134 193  29 158]\n",
      " [225 248 152  17 105 217 142 148 155  30 135 233 206  85  40 223]\n",
      " [140 161 137  13 191 230  66 104  65 153  45  15 176  84 187  22]]\n",
      "SBox Inverse\n",
      "[[ 82   9 106 213  48  54 165  56 191  64 163 158 129 243 215 251]\n",
      " [124 227  57 130 155  47 255 135  52 142  67  68 196 222 233 203]\n",
      " [ 84 123 148  50 166 194  35  61 238  76 149  11  66 250 195  78]\n",
      " [  8  46 161 102  40 217  36 178 118  91 162  73 109 139 209  37]\n",
      " [114 248 246 100 134 104 152  22 212 164  92 204  93 101 182 146]\n",
      " [108 112  72  80 253 237 185 218  94  21  70  87 167 141 157 132]\n",
      " [144 216 171   0 140 188 211  10 247 228  88   5 184 179  69   6]\n",
      " [208  44  30 143 202  63  15   2 193 175 189   3   1  19 138 107]\n",
      " [ 58 145  17  65  79 103 220 234 151 242 207 206 240 180 230 115]\n",
      " [150 172 116  34 231 173  53 133 226 249  55 232  28 117 223 110]\n",
      " [ 71 241  26 113  29  41 197 137 111 183  98  14 170  24 190  27]\n",
      " [252  86  62  75 198 210 121  32 154 219 192 254 120 205  90 244]\n",
      " [ 31 221 168  51 136   7 199  49 177  18  16  89  39 128 236  95]\n",
      " [ 96  81 127 169  25 181  74  13  45 229 122 159 147 201 156 239]\n",
      " [160 224  59  77 174  42 245 176 200 235 187  60 131  83 153  97]\n",
      " [ 23  43   4 126 186 119 214  38 225 105  20  99  85  33  12 125]]\n"
     ]
    }
   ],
   "source": [
    "encryptGaloisMatrix = np.array([[2,3,1,1],[1,2,3,1],[1,1,2,3],[3,1,1,2]])\n",
    "decryptGaloisMatrix = np.array([[0xE,0xB,0xD,9],[9,0xE,0xB,0xD],[0xD,9,0xE,0xB],[0xB,0xD,9,0xE]])\n",
    "\n",
    "with open('SBox.txt') as f:\n",
    "    lines = f.readlines()\n",
    "    hexValues = \"\".join(lines).replace(\"\\n\", \" \").split(\", \")\n",
    "    byteValues = [int(x, base=16) for x in hexValues]\n",
    "    sbox = np.reshape(np.array(byteValues, dtype=np.dtype('B')), (16,16))\n",
    "    print(\"SBox\")\n",
    "    print(sbox)\n",
    "\n",
    "with open('SBoxInvers.txt') as f:\n",
    "    lines = f.readlines()\n",
    "    hexValues = \"\".join(lines).replace(\"\\n\", \" \").split(\", \")\n",
    "    byteValues = [int(x, base=16) for x in hexValues]\n",
    "    sbox_inverse = np.reshape(np.array(byteValues, dtype=np.dtype('B')), (16,16))\n",
    "    print(\"SBox Inverse\")\n",
    "    print(sbox_inverse)\n",
    "\n",
    "def gfAddition(a,b):\n",
    "    return np.bitwise_xor(a,b)\n",
    "\n",
    "def xTimes(a):\n",
    "    t = a << 1\n",
    "    if a & (1 << 7) != 0:\n",
    "        t = t ^ 0x1b\n",
    "    return t\n",
    "\n",
    "def gfMultiply(a,b):\n",
    "    index = 0\n",
    "    out = 0\n",
    "    while b != 0:\n",
    "        if (b & 1 == 1):\n",
    "            val = a\n",
    "            for i in range(index):\n",
    "                val = xTimes(val)\n",
    "            out = gfAddition(out, val)\n",
    "        index += 1\n",
    "        b = b >> 1\n",
    "    return out\n",
    "\n",
    "def initBlock(textblock):\n",
    "    chars = [ord(c) for c in textblock]\n",
    "    if (len(chars) < 16):\n",
    "        fill = [0 for i in range(16 - len(chars))]\n",
    "        chars.extend(fill)\n",
    "    return np.reshape(np.array(chars, dtype=np.dtype('B')), (4,4),order=\"F\")\n",
    "\n",
    "def blockToText(textblock):\n",
    "    chars = [chr(c) for c in np.nditer(textblock, order=\"F\")]\n",
    "    return \"\".join(chars)\n",
    "\n",
    "def addRoundKey(textblock, key):\n",
    "    return np.bitwise_xor(textblock, key)\n",
    "\n",
    "def subBytes(textblock, reverse=False):\n",
    "    if reverse:\n",
    "        box = sbox_inverse\n",
    "    else:\n",
    "        box = sbox\n",
    "    for y in range(len(textblock)):\n",
    "        for x in range(len(textblock[y])):\n",
    "            row = (textblock[y,x] >> 4) & 0xF\n",
    "            col = textblock[y,x] & 0xF\n",
    "            textblock[y,x] = box[row, col]\n",
    "    return textblock\n",
    "\n",
    "def shiftRows(textblock, reverse=False):\n",
    "    for i in range(4):\n",
    "        if reverse:\n",
    "            shiftAmount = i\n",
    "        else:\n",
    "            shiftAmount = -i\n",
    "        textblock[i] = np.roll(textblock[i], shiftAmount)\n",
    "    return textblock\n",
    "\n",
    "def subColumn(inputColumn, matrix):\n",
    "    outputColumn = np.copy(inputColumn)\n",
    "    for row in range(4):\n",
    "        val = 0\n",
    "        for column in range(4):\n",
    "            val = gfAddition(val, gfMultiply(matrix[row, column], inputColumn[column]))\n",
    "        outputColumn[row] = val\n",
    "    return outputColumn\n",
    "\n",
    "def mixColumns(textblock, reverse=False):\n",
    "    if reverse:\n",
    "        matrix = decryptGaloisMatrix\n",
    "    else:\n",
    "        matrix = encryptGaloisMatrix\n",
    "    for column in range(4):\n",
    "        textblock[:, column] = subColumn(textblock[:, column], matrix)\n",
    "    return textblock\n",
    "\n",
    "def encryptBlock(textblock, keys, inputAsMatrix=False, returnAsBlock=False):\n",
    "    if not inputAsMatrix:\n",
    "        textblock = initBlock(textblock)\n",
    "    textblock = addRoundKey(textblock, keys[0])\n",
    "    for i in range(1, 10):\n",
    "        textblock = subBytes(textblock)\n",
    "        textblock = shiftRows(textblock)\n",
    "        textblock = mixColumns(textblock)\n",
    "        textblock = addRoundKey(textblock, keys[i])\n",
    "    textblock = subBytes(textblock)\n",
    "    textblock = shiftRows(textblock)\n",
    "    textblock = addRoundKey(textblock, keys[10])\n",
    "    if returnAsBlock:\n",
    "        return textblock\n",
    "    return blockToText(textblock)\n",
    "\n",
    "def decryptBlock(textblock, keys):\n",
    "    textblock = initBlock(textblock)\n",
    "    textblock = addRoundKey(textblock, keys[10])\n",
    "    textblock = shiftRows(textblock, reverse=True)\n",
    "    textblock = subBytes(textblock, reverse=True)\n",
    "    for i in range(9, 0, -1):\n",
    "        textblock = addRoundKey(textblock, keys[i])\n",
    "        textblock = mixColumns(textblock, reverse=True)\n",
    "        textblock = shiftRows(textblock, reverse=True)\n",
    "        textblock = subBytes(textblock, reverse=True)\n",
    "    textblock = addRoundKey(textblock, keys[0])\n",
    "    return blockToText(textblock)\n",
    "\n",
    "def encrypt(text, keys):\n",
    "    blocks = [text[i:i+16] for i in range(0, len(text), 16)]\n",
    "    return \"\".join([encryptBlock(block, keys) for block in blocks])\n",
    "\n",
    "def decrypt(text, keys):\n",
    "    blocks = [text[i:i+16] for i in range(0, len(text), 16)]\n",
    "    return \"\".join([decryptBlock(block, keys) for block in blocks])"
   ]
  },
  {
   "cell_type": "code",
   "execution_count": 4,
   "metadata": {},
   "outputs": [],
   "source": [
    "def subByte(byte, box):\n",
    "    row = (byte >> 4) & 0xF\n",
    "    col = byte & 0xF\n",
    "    return box[row, col]\n",
    "\n",
    "def rotWord(word):\n",
    "    return np.roll(word, shift=-1)\n",
    "\n",
    "def subWord(word):\n",
    "    return [subByte(byte, sbox) for byte in word]\n",
    "\n",
    "def rcon(i):\n",
    "    array = [0x1, 0x2, 0x4, 0x8, 0x10, 0x20, 0x40, 0x80, 0x1b, 0x36]\n",
    "    return [array[i], 0,0,0]\n",
    "\n",
    "# input 16 character string\n",
    "def generateKey(key):\n",
    "    block = initBlock(key)\n",
    "    words = []\n",
    "    words.append(block[:,0])\n",
    "    words.append(block[:,1])\n",
    "    words.append(block[:,2])\n",
    "    words.append(block[:,3])\n",
    "    for i in range(4, 44):\n",
    "        if i % 4 == 0:\n",
    "            val = gfAddition(words[i-4], rcon(i // 4 - 1))\n",
    "            val = gfAddition(subWord(rotWord(words[i-1])), val)\n",
    "            words.append(val)\n",
    "        else:\n",
    "            words.append(gfAddition(words[i-4], words[i-1]))\n",
    "    keys = np.empty((11, 4,4), dtype=np.dtype('B'))\n",
    "    for i in range(0, 44):\n",
    "        keys[i // 4, :, i % 4] = words[i]\n",
    "    return keys"
   ]
  },
  {
   "cell_type": "markdown",
   "metadata": {},
   "source": [
    "## CBC\n",
    "![CBC](CBC.PNG)"
   ]
  },
  {
   "cell_type": "code",
   "execution_count": 5,
   "metadata": {},
   "outputs": [],
   "source": [
    "blockLength = 16\n",
    "IV = np.zeros((4,4), dtype=np.dtype('B'))\n",
    "keys = generateKey(\"9876543210987654\")"
   ]
  },
  {
   "cell_type": "code",
   "execution_count": 6,
   "metadata": {},
   "outputs": [],
   "source": [
    "def getChunks(text, blockLength=16):\n",
    "    return [text[i:i+blockLength] for i in range(0, len(text), blockLength)]\n",
    "\n",
    "def CBCMAC(k, chunks):\n",
    "    xorVec = IV\n",
    "    output = \"\"\n",
    "    for chunk in chunks:\n",
    "        chunkAsBytes = initBlock(chunk)\n",
    "        inputBytes = np.bitwise_xor(chunkAsBytes, xorVec)\n",
    "        xorVec = encryptBlock(inputBytes, k, inputAsMatrix=True, returnAsBlock=True)\n",
    "        output = xorVec\n",
    "    return blockToText(output)"
   ]
  },
  {
   "cell_type": "code",
   "execution_count": 7,
   "metadata": {},
   "outputs": [
    {
     "name": "stdout",
     "output_type": "stream",
     "text": [
      "Chunks:\n",
      "\n",
      "['Lorem ipsum dolo', 'r sit amet, cons', 'etetur sadipscin', 'g elitr, sed dia', 'm nonumy eirmod ', 'tempor invidunt ', 'ut labore et dol', 'ore magna aliquy', 'am erat, sed dia', 'm voluptua. At v', 'ero eos et accus', 'am et justo duo ', 'dolores et ea re', 'bum. Stet clita ', 'kasd gubergren, ', 'no sea takimata ', 'sanctus est Lore', 'm ipsum dolor si', 't amet. Lorem ip', 'sum dolor sit am', 'et, consetetur s', 'adipscing elitr,', ' sed diam nonumy', ' eirmod tempor i', 'nvidunt ut labor', 'e et dolore magn', 'a aliquyam erat,', ' sed diam volupt', 'ua. At vero eos ', 'et accusam et ju', 'sto duo dolores ', 'et ea rebum. Ste', 't clita kasd gub', 'ergren, no sea t', 'akimata sanctus ', 'est Lorem ipsum ', 'dolor sit amet.']\n"
     ]
    },
    {
     "data": {
      "text/plain": [
       "'§9ëS\\x94ú\\x9b\\x067»Fþ\\x94\\x87@Ï'"
      ]
     },
     "execution_count": 7,
     "metadata": {},
     "output_type": "execute_result"
    }
   ],
   "source": [
    "text = \"Lorem ipsum dolor sit amet, consetetur sadipscing elitr, sed diam nonumy eirmod tempor invidunt ut labore et dolore magna aliquyam erat, sed diam voluptua. At vero eos et accusam et justo duo dolores et ea rebum. Stet clita kasd gubergren, no sea takimata sanctus est Lorem ipsum dolor sit amet. Lorem ipsum dolor sit amet, consetetur sadipscing elitr, sed diam nonumy eirmod tempor invidunt ut labore et dolore magna aliquyam erat, sed diam voluptua. At vero eos et accusam et justo duo dolores et ea rebum. Stet clita kasd gubergren, no sea takimata sanctus est Lorem ipsum dolor sit amet.\"\n",
    "chunks = getChunks(text, blockLength)\n",
    "print(\"Chunks:\\n\")\n",
    "print(chunks)\n",
    "CBCMAC(keys, chunks)"
   ]
  },
  {
   "cell_type": "markdown",
   "metadata": {},
   "source": [
    "## CCM-Modus (Counter with CBC-MAC)"
   ]
  },
  {
   "cell_type": "code",
   "execution_count": 8,
   "metadata": {},
   "outputs": [],
   "source": [
    "def initBlockFromInt(number: int):\n",
    "    bytes = []\n",
    "    for byte in range(15,-1,-1):\n",
    "        bytes.append((number >> (8 * byte)) & 0xFF)\n",
    "    return np.array(bytes, dtype=np.uint8).reshape((4,4)).transpose()\n",
    "\n",
    "def counter(k, nonce, inputChunks):\n",
    "    output = \"\"\n",
    "    init_ctr = nonce << 64\n",
    "    # Counter encryption\n",
    "    for i in range(len(inputChunks)):\n",
    "        chunkAsBytes = initBlock(inputChunks[i])\n",
    "        T_i = (init_ctr + i + 1) % (2 ** 128)\n",
    "        T_i_matrix = initBlockFromInt(T_i)\n",
    "        encryptedT = encryptBlock(T_i_matrix, k, inputAsMatrix=True, returnAsBlock=True)\n",
    "        output += blockToText(np.bitwise_xor(chunkAsBytes, encryptedT))\n",
    "    return output\n",
    "\n",
    "def encryptAndSignCCM(k, nonce, inputChunks):\n",
    "    # Counter encryption\n",
    "    output = counter(k, nonce, inputChunks)\n",
    "    # CBCMac\n",
    "    hash = CBCMAC(k, inputChunks)\n",
    "    output += hash\n",
    "    return output\n",
    "\n",
    "def decryptAndVerify(k, nonce, inputChunks):\n",
    "    message = counter(k, nonce, inputChunks[:-1])\n",
    "    print(\"Message:\\n\", message)\n",
    "    # CBCMac\n",
    "    hash = CBCMAC(k, getChunks(message))\n",
    "    expectedHash =  inputChunks[-1]\n",
    "    print(\"exctracted: \",expectedHash)\n",
    "    assert hash == expectedHash\n",
    "    return message"
   ]
  },
  {
   "cell_type": "code",
   "execution_count": 9,
   "metadata": {},
   "outputs": [
    {
     "name": "stdout",
     "output_type": "stream",
     "text": [
      "6941386528259508195\n"
     ]
    }
   ],
   "source": [
    "nonce = random.getrandbits(64)\n",
    "print(nonce)"
   ]
  },
  {
   "cell_type": "code",
   "execution_count": 10,
   "metadata": {},
   "outputs": [
    {
     "name": "stdout",
     "output_type": "stream",
     "text": [
      "\n",
      "á\n",
      "õè\u0013X y/5F=i~/DTK7\u001eú\u0013«f½,áõq=]#Ð¯^(Ôôó\"\u000bÊ\u001e¯QÂXzPÆ¿¥$\u001eHÍô`ü³m3.s: 'M\u000fLg®«å¦þ\t©~ 1½~ê¿µfxê +\u001bG\u001b\u0011jÝ®ú*ÔÓÒ{\u0007©Ü±¥6%E\u0011ÀR>ÊV$Y5l\\°ÍgAýÝ\u001edÅ<¼ËmQº\u001a!mõÉúLLÔæäâPüã±1æbËê¦ ¨Ô\tZE)\u0018Fî\u0006l\u0002?¸gPÃAr\u0006BÒ\f]ZZûòJ@ZÖMÍ+Cz\u0007³7â\u0000|ñ \u0001ïL'+2xÈÝS4ãÍ'ÃÙùñ¤4q«\u000f\t¦&E°V\\'\töÖTO£Ýa\u0002\u0006Ëìîõðé6c¸úç¬VRÝ* êY»ò±{ÜP'ÌÀÍÀ5\u00042'ýQÎ?{\u001eGM>Î8Ú ÁòS®ð¯Ä«ä\u0016^SqÞz¸¯gd¯GvüÎ!A2ÊTø?§NQpÙ¦Úê©q+F_§èÅ?\u0000×ó\u0019°»\u0004ÊÑõ'rµÇÃ\u0012ó¹\u0010ø\n",
      "Lorem ipsum dolor sit amet, consetetur sadipscing elitr, sed diam nonumy eirmod tempor invidunt ut labore et dolore magna aliquyam erat, sed diam voluptua. At vero eos et accusam et justo duo dolores et ea rebum. Stet clita kasd gubergren, no sea takimata sanctus est Lorem ipsum dolor sit amet. Lorem ipsum dolor sit amet, consetetur sadipscing elitr, sed diam nonumy eirmod tempor invidunt ut labore et dolore magna aliquyam erat, sed diam voluptua. At vero eos et accusam et justo duo dolores et ea rebum. Stet clita kasd gubergren, no sea takimata sanctus est Lorem ipsum dolor sit amet.\u0000\n"
     ]
    }
   ],
   "source": [
    "# Test\n",
    "chunks = getChunks(text, blockLength)\n",
    "output = counter(keys, nonce, chunks)\n",
    "print(output)\n",
    "print(counter(keys, nonce, getChunks(output, blockLength)))"
   ]
  },
  {
   "cell_type": "code",
   "execution_count": 11,
   "metadata": {},
   "outputs": [
    {
     "data": {
      "text/plain": [
       "'\\n²b\\x011\\x18ÞÃð#|_&Qp\\x9c\\x13\\x97\\x11à§\\x91FJØ(û\\x1d\\x991\\x11Mg¶Ðm|;\\x99\\x86Ñ±yÑ\\x9c¥ô<Cé\\x8fáê\\x80x§.vËR\\x86\\rá\\nÛ\\x951}\\x9a8üÔ\\x01À`Gìî·r\\x9f¦³\\x83Ãn\\x8b×`*\\x819\\x16\\x9d~]æ\\x88ìRðÓ\\x80Úÿ|ýñI\\x82g\\x11¹\\x1e\\x8eá\\x19¹f`\\x8fûhM \\x1bf8þúc©²,\\x95\\x00Ê\\x19/QÁê\\x96öi\\x00<Àâ\\x13wàäÁ¢(\\x8b-Ç\\x00ÇX\\x9a\\x0f½\\\\)bé\\x8c\\rõè\\x13X\\xa0y/5F=i~\\x87\\x7f\\x86/D\\x94TK7\\x84\\x94\\x1e\\x93ú\\x13«f½\\x85,áõ\\x90q=\\x89]#Ð¯^(Ôôó\"\\x0bs\\x08\\x9dÊ\\x1e¯QÂXzPÆ¿¥$\\x8c\\x1eHÍô`ü³m3.s:\\xa0\\'M\\x0fLg®\\x95«å¦þ\\t©~ 1½~ê¿µ\\x9cfxê\\xa0+\\x1bG\\x1b\\x11jÝ®ú*\\x92ÔÓÒ{\\x9b\\x07\\x8c©Ü±¥6%E\\x11ÀR>ÊV\\x85$Y5l\\\\°ÍgAýÝ\\x1edÅ<¼ËmQº\\x1a!mõ\\x8eU\\x08É\\x94\\x9cúLLÔæäâPüã±1æbËÐ\\x08ê¦\\xa0¨\\x93\\x97Ô\\tZE)\\x18Fî\\x06l\\x02?¸gPÃ\\x93Ar\\x97\\x06B\\x8dÒ\\x0c]Z\\x83Zû\\x92òJ@ZÖ\\x97\\x9eMÍ+Cz\\x07³7â\\x8b\\x00|ñ\\xa0\\x01ïL\\'+2xÈÝS4ãÍ\\'ÃÙùñ¤4q\\x8e«\\x7f\\x0f\\t¦&E°\\x8dV\\\\\\'\\töÖTO£\\x95\\x90\\x89Ýa\\x02\\x06Ë\\x86ìîõ\\x88\\x9bð\\x88é6c¸úç¬VRÝ*\\xa0êY»ò\\x97±{ÜP\\'\\x8cÌÀÍÀ5\\x042\\'ýQ\\x8cÎ\\x8a?{\\x1eGM>Î8Ú Á\\x89ò\\x80S®ð¯Ä«ä\\x16^Sq\\x8bÞz¸¯gd¯G\\x98vüÎ!A\\x932Ê\\x9fTø?§\\x84\\x97NQpÙ¦Úê©q+F_§èÅ?\\x00×ó\\x19°»\\x04ÊÑõ\\'rµÇÃ\\x12ó¹\\x8f\\x82\\x10ø§9ëS\\x94ú\\x9b\\x067»Fþ\\x94\\x87@Ï'"
      ]
     },
     "execution_count": 11,
     "metadata": {},
     "output_type": "execute_result"
    }
   ],
   "source": [
    "text = \"Lorem ipsum dolor sit amet, consetetur sadipscing elitr, sed diam nonumy eirmod tempor invidunt ut labore et dolore magna aliquyam erat, sed diam voluptua. At vero eos et accusam et justo duo dolores et ea rebum. Stet clita kasd gubergren, no sea takimata sanctus est Lorem ipsum dolor sit amet. Lorem ipsum dolor sit amet, consetetur sadipscing elitr, sed diam nonumy eirmod tempor invidunt ut labore et dolore magna aliquyam erat, sed diam voluptua. At vero eos et accusam et justo duo dolores et ea rebum. Stet clita kasd gubergren, no sea takimata sanctus est Lorem ipsum dolor sit amet.\"\n",
    "chunks = getChunks(text, blockLength)\n",
    "\n",
    "y = encryptAndSignCCM(keys, nonce, chunks)\n",
    "y"
   ]
  },
  {
   "cell_type": "code",
   "execution_count": 12,
   "metadata": {},
   "outputs": [
    {
     "name": "stdout",
     "output_type": "stream",
     "text": [
      "Message:\n",
      " Lorem ipsum dolor sit amet, consetetur sadipscing elitr, sed diam nonumy eirmod tempor invidunt ut labore et dolore magna aliquyam erat, sed diam voluptua. At vero eos et accusam et justo duo dolores et ea rebum. Stet clita kasd gubergren, no sea takimata sanctus est Lorem ipsum dolor sit amet. Lorem ipsum dolor sit amet, consetetur sadipscing elitr, sed diam nonumy eirmod tempor invidunt ut labore et dolore magna aliquyam erat, sed diam voluptua. At vero eos et accusam et justo duo dolores et ea rebum. Stet clita kasd gubergren, no sea takimata sanctus est Lorem ipsum dolor sit amet.\u0000\n",
      "exctracted:  §9ëSú\u00067»Fþ@Ï\n"
     ]
    }
   ],
   "source": [
    "message = decryptAndVerify(keys, nonce, getChunks(y))"
   ]
  }
 ],
 "metadata": {
  "interpreter": {
   "hash": "2db524e06e9f5f4ffedc911c917cb75e12dbc923643829bf417064a77eb14d37"
  },
  "kernelspec": {
   "display_name": "Python 3.8.3 64-bit",
   "language": "python",
   "name": "python3"
  },
  "language_info": {
   "codemirror_mode": {
    "name": "ipython",
    "version": 3
   },
   "file_extension": ".py",
   "mimetype": "text/x-python",
   "name": "python",
   "nbconvert_exporter": "python",
   "pygments_lexer": "ipython3",
   "version": "3.8.3"
  },
  "orig_nbformat": 4
 },
 "nbformat": 4,
 "nbformat_minor": 2
}
