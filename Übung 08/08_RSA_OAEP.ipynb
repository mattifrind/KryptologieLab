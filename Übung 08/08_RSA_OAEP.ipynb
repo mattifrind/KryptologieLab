{
 "cells": [
  {
   "cell_type": "markdown",
   "metadata": {},
   "source": [
    "# Kryptologie LAB - RSA OAEP\n",
    "\n",
    "## Mask Generating Function MGF1"
   ]
  },
  {
   "cell_type": "code",
   "execution_count": 89,
   "metadata": {},
   "outputs": [],
   "source": [
    "import hashlib\n",
    "import numpy as np"
   ]
  },
  {
   "cell_type": "code",
   "execution_count": 90,
   "metadata": {},
   "outputs": [],
   "source": [
    "\n",
    "def mgf1(seed, target_len, hash_func):\n",
    "    T = bytearray()\n",
    "    counter = 0\n",
    "    while len(T) < target_len:\n",
    "        counter += 1\n",
    "        hashable = bytearray(seed)\n",
    "        for i in range(32, 0, -8):\n",
    "            hashable.append((counter >> i) & 0xFF)\n",
    "        T += hash_func(hashable)\n",
    "    return T[:target_len]"
   ]
  },
  {
   "cell_type": "code",
   "execution_count": 91,
   "metadata": {},
   "outputs": [],
   "source": [
    "hasher = hashlib.sha1()\n",
    "\n",
    "def sha1(input):\n",
    "    hasher.update(input)\n",
    "    return hasher.digest()\n"
   ]
  },
  {
   "cell_type": "markdown",
   "metadata": {},
   "source": [
    "## OAEP Transformation"
   ]
  },
  {
   "cell_type": "code",
   "execution_count": 92,
   "metadata": {},
   "outputs": [],
   "source": [
    "# helper functions https://stackoverflow.com/a/30375198/6600660\n",
    "\n",
    "def int_to_bytes(x: int) -> bytes:\n",
    "    return x.to_bytes((x.bit_length() + 7) // 8, 'big')\n",
    "\n",
    "def int_from_bytes(xbytes: bytes) -> int:\n",
    "    return int.from_bytes(xbytes, 'big')"
   ]
  },
  {
   "cell_type": "code",
   "execution_count": 93,
   "metadata": {},
   "outputs": [],
   "source": [
    "def byte_xor(ba1, ba2):\n",
    "    return bytes([_a ^ _b for _a, _b in zip(ba1, ba2)])\n",
    "\n",
    "def oaepEncode(M:bytes, n:bytes, hash_func, MGF_func, l = bytearray()):\n",
    "    lHash = hash_func(l)\n",
    "    seed = np.random.bytes(len(lHash))\n",
    "    PS = bytearray(len(n) - len(M) - 2*len(lHash) - 2)\n",
    "\n",
    "    DB = lHash + PS +  bytes([1]) + M\n",
    "\n",
    "    maskedDB = byte_xor(DB, MGF_func(seed, len(DB), hash_func))\n",
    "    maskedSeed = byte_xor(seed, MGF_func(maskedDB, len(seed), hash_func))\n",
    "\n",
    "    return bytes([0]) + bytes(maskedSeed) + bytes(maskedDB)"
   ]
  },
  {
   "cell_type": "code",
   "execution_count": 94,
   "metadata": {},
   "outputs": [
    {
     "name": "stdout",
     "output_type": "stream",
     "text": [
      "113307169644683533475961187678164608108540330338719110345159649717645285094809677198976399487047772750066945291442983048536604072727745095552713075727157494054150649743913802212333268334137971151765584468669790839030739067142270543489760080839269846947241604348\n"
     ]
    }
   ],
   "source": [
    "n = 17267074447202277029120701952793902504625643746047991963542015468855897842167043414888566049831303080493992468752546359088183287415529571085155018860200517479849599520982888046932224369683506140133500215566532765640525503765127942585822311152218736882121530113737\n",
    "m = 12345\n",
    "\n",
    "res = oaepEncode(int_to_bytes(m), int_to_bytes(n), sha1, mgf1)\n",
    "print(int_from_bytes(res))"
   ]
  },
  {
   "cell_type": "markdown",
   "metadata": {},
   "source": [
    "## OAEP Transformation - Inverse"
   ]
  },
  {
   "cell_type": "code",
   "execution_count": 95,
   "metadata": {},
   "outputs": [],
   "source": [
    "def oaepDecode(input: bytes, hash_func, MGF_func):\n",
    "    seedLength = len(hash_func(bytearray()))\n",
    "    maskedSeed = input[1:seedLength+1]\n",
    "    maskedDB = input[seedLength+1:]\n",
    "    seed = byte_xor(MGF_func(maskedDB, seedLength, hash_func), maskedSeed)\n",
    "    DB = byte_xor(MGF_func(seed, len(maskedDB), hash_func), maskedDB)\n",
    "\n",
    "    # removing lHash\n",
    "    DB = DB[seedLength:]\n",
    "\n",
    "    # searching first 1\n",
    "    index = 0\n",
    "    while DB[index] == 0:\n",
    "        index += 1\n",
    "    M = DB[index+1:]\n",
    "    return M"
   ]
  },
  {
   "cell_type": "code",
   "execution_count": 96,
   "metadata": {},
   "outputs": [
    {
     "name": "stdout",
     "output_type": "stream",
     "text": [
      "12044958994104171238559991947684956000224808636655657429190174602947653660731699699720572259125941956858699044001472678194803573938632431267976637286465711953767\n"
     ]
    }
   ],
   "source": [
    "decoded = oaepDecode(res, sha1, mgf1)\n",
    "print(int_from_bytes(decoded))"
   ]
  }
 ],
 "metadata": {
  "interpreter": {
   "hash": "2db524e06e9f5f4ffedc911c917cb75e12dbc923643829bf417064a77eb14d37"
  },
  "kernelspec": {
   "display_name": "Python 3.8.3 64-bit",
   "language": "python",
   "name": "python3"
  },
  "language_info": {
   "codemirror_mode": {
    "name": "ipython",
    "version": 3
   },
   "file_extension": ".py",
   "mimetype": "text/x-python",
   "name": "python",
   "nbconvert_exporter": "python",
   "pygments_lexer": "ipython3",
   "version": "3.8.3"
  },
  "orig_nbformat": 4
 },
 "nbformat": 4,
 "nbformat_minor": 2
}
