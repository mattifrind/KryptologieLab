{
 "cells": [
  {
   "cell_type": "markdown",
   "metadata": {},
   "source": [
    "# Kryptologie LAB - RSA OAEP\n",
    "\n",
    "- RSA ist ohne Kenntnis von privatem Schlüssel deterministisch\n",
    "- Einfache Nachrichten können erraten und überprüft werden\n",
    "- Padding Protokolle verhindern dies\n",
    "- Hier: Optimal Asymetric Encryption Padding (OAES)\n",
    "- Benötigen dafür Hash Funktionen\n",
    "\n",
    "## Mask Generating Function MGF1"
   ]
  },
  {
   "cell_type": "code",
   "execution_count": 1,
   "metadata": {},
   "outputs": [],
   "source": [
    "import hashlib\n",
    "import numpy as np"
   ]
  },
  {
   "cell_type": "code",
   "execution_count": 2,
   "metadata": {},
   "outputs": [],
   "source": [
    "# Generate mask with given length from a seed and a hash function\n",
    "# Input: seed als bytearray, Outputlänge, hash funktion\n",
    "# Output: maskierte bits der länge target_len\n",
    "def mgf1(seed, target_len, hash_func):\n",
    "    T = bytearray()\n",
    "    counter = 0\n",
    "    while len(T) < target_len:\n",
    "        counter += 1\n",
    "        hashable = bytearray(seed)\n",
    "        for i in range(32, 0, -8):\n",
    "            hashable.append((counter >> i) & 0xFF)\n",
    "        T += hash_func(hashable)\n",
    "    return T[:target_len]"
   ]
  },
  {
   "cell_type": "code",
   "execution_count": 3,
   "metadata": {},
   "outputs": [],
   "source": [
    "hasher = hashlib.sha1()\n",
    "\n",
    "def sha1(input):\n",
    "    hasher.update(input)\n",
    "    return hasher.digest()\n"
   ]
  },
  {
   "cell_type": "markdown",
   "metadata": {},
   "source": [
    "## OAEP Transformation"
   ]
  },
  {
   "cell_type": "markdown",
   "metadata": {},
   "source": [
    "![OAEP Transformation](OAEP.PNG)"
   ]
  },
  {
   "cell_type": "code",
   "execution_count": 4,
   "metadata": {},
   "outputs": [],
   "source": [
    "# helper functions https://stackoverflow.com/a/30375198/6600660\n",
    "\n",
    "def int_to_bytes(x: int) -> bytes:\n",
    "    return x.to_bytes((x.bit_length() + 7) // 8, 'big')\n",
    "\n",
    "def int_from_bytes(xbytes: bytes) -> int:\n",
    "    return int.from_bytes(xbytes, 'big')"
   ]
  },
  {
   "cell_type": "code",
   "execution_count": 5,
   "metadata": {},
   "outputs": [],
   "source": [
    "def byte_xor(ba1, ba2):\n",
    "    return bytes([_a ^ _b for _a, _b in zip(ba1, ba2)])\n",
    "\n",
    "def oaepEncode(M:bytes, n:bytes, hash_func, MGF_func, l = bytearray()):\n",
    "    lHash = hash_func(l)\n",
    "    seed = np.random.bytes(len(lHash))\n",
    "    PS = bytearray(len(n) - len(M) - 2*len(lHash) - 2)\n",
    "\n",
    "    DB = lHash + PS +  bytes([1]) + M\n",
    "\n",
    "    maskedDB = byte_xor(DB, MGF_func(seed, len(DB), hash_func))\n",
    "    maskedSeed = byte_xor(seed, MGF_func(maskedDB, len(seed), hash_func))\n",
    "\n",
    "    return bytes([0]) + bytes(maskedSeed) + bytes(maskedDB)"
   ]
  },
  {
   "cell_type": "code",
   "execution_count": 6,
   "metadata": {},
   "outputs": [
    {
     "name": "stdout",
     "output_type": "stream",
     "text": [
      "55912887364423109442801851565323646537163559779636276447142919459866894349852262505918490786334332701468718291500851482709358427111318564682607445868713245382027977697855334322594998286583037847418854036069099904394596397109550230842148203739381085884400275365\n"
     ]
    }
   ],
   "source": [
    "n = 17267074447202277029120701952793902504625643746047991963542015468855897842167043414888566049831303080493992468752546359088183287415529571085155018860200517479849599520982888046932224369683506140133500215566532765640525503765127942585822311152218736882121530113737\n",
    "m = 12345\n",
    "\n",
    "res = oaepEncode(int_to_bytes(m), int_to_bytes(n), sha1, mgf1)\n",
    "print(int_from_bytes(res))"
   ]
  },
  {
   "cell_type": "markdown",
   "metadata": {},
   "source": [
    "## OAEP Transformation - Inverse"
   ]
  },
  {
   "cell_type": "code",
   "execution_count": 7,
   "metadata": {},
   "outputs": [],
   "source": [
    "def oaepDecode(input: bytes, hash_func, MGF_func):\n",
    "    seedLength = len(hash_func(bytearray()))\n",
    "    maskedSeed = input[1:seedLength+1]\n",
    "    maskedDB = input[seedLength+1:]\n",
    "    seed = byte_xor(MGF_func(maskedDB, seedLength, hash_func), maskedSeed)\n",
    "    DB = byte_xor(MGF_func(seed, len(maskedDB), hash_func), maskedDB)\n",
    "\n",
    "    # removing lHash\n",
    "    DB = DB[seedLength:]\n",
    "\n",
    "    # searching first 1\n",
    "    index = 0\n",
    "    while DB[index] == 0:\n",
    "        index += 1\n",
    "    M = DB[index+1:]\n",
    "    return M"
   ]
  },
  {
   "cell_type": "code",
   "execution_count": 8,
   "metadata": {},
   "outputs": [
    {
     "name": "stdout",
     "output_type": "stream",
     "text": [
      "67098292150268445274862859198758876816076744650820393394590387647496524810249395932611119479465158009303867699209861611205145915736579393396022015325407438671602\n"
     ]
    }
   ],
   "source": [
    "decoded = oaepDecode(res, sha1, mgf1)\n",
    "print(int_from_bytes(decoded))"
   ]
  }
 ],
 "metadata": {
  "interpreter": {
   "hash": "2db524e06e9f5f4ffedc911c917cb75e12dbc923643829bf417064a77eb14d37"
  },
  "kernelspec": {
   "display_name": "Python 3.8.3 64-bit",
   "language": "python",
   "name": "python3"
  },
  "language_info": {
   "codemirror_mode": {
    "name": "ipython",
    "version": 3
   },
   "file_extension": ".py",
   "mimetype": "text/x-python",
   "name": "python",
   "nbconvert_exporter": "python",
   "pygments_lexer": "ipython3",
   "version": "3.8.3"
  },
  "orig_nbformat": 4
 },
 "nbformat": 4,
 "nbformat_minor": 2
}
