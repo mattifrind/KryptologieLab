{
 "cells": [
  {
   "cell_type": "markdown",
   "source": [
    "# Kryptologie Lab - Übung 06"
   ],
   "metadata": {}
  },
  {
   "cell_type": "markdown",
   "source": [
    "## Quadrieren und Multiplizieren"
   ],
   "metadata": {}
  },
  {
   "cell_type": "code",
   "execution_count": 42,
   "source": [
    "def potModN(x, m, n):\r\n",
    "    y = 1\r\n",
    "    b = m\r\n",
    "    while b != 0:\r\n",
    "        if (b & 0x1) == 1:\r\n",
    "            y = (y * x) % n\r\n",
    "        x = (x*x) % n\r\n",
    "        b = b >> 1\r\n",
    "    return y"
   ],
   "outputs": [],
   "metadata": {}
  },
  {
   "cell_type": "code",
   "execution_count": 43,
   "source": [
    "potModN(10,2, 200)"
   ],
   "outputs": [
    {
     "output_type": "execute_result",
     "data": {
      "text/plain": [
       "100"
      ]
     },
     "metadata": {},
     "execution_count": 43
    }
   ],
   "metadata": {}
  },
  {
   "cell_type": "markdown",
   "source": [
    "## Erweiterter euklidischer Algorithmus"
   ],
   "metadata": {}
  },
  {
   "cell_type": "code",
   "execution_count": 44,
   "source": [
    "def eea(a,b):\r\n",
    "    k = 0\r\n",
    "    r = [a, b]\r\n",
    "    s = [1, 0]\r\n",
    "    t = [0, 1]\r\n",
    "    while r[k+1] != 0:\r\n",
    "        k += 1\r\n",
    "        q_k = r[k-1] // r[k]\r\n",
    "        r.append(r[k-1]-q_k*r[k])\r\n",
    "        s.append(s[k-1]-q_k*s[k])\r\n",
    "        t.append(t[k-1]-q_k*t[k])\r\n",
    "    return (r[k], s[k], t[k])"
   ],
   "outputs": [],
   "metadata": {}
  },
  {
   "cell_type": "code",
   "execution_count": 45,
   "source": [
    "eea(48, 45)"
   ],
   "outputs": [
    {
     "output_type": "execute_result",
     "data": {
      "text/plain": [
       "(3, 1, -1)"
      ]
     },
     "metadata": {},
     "execution_count": 45
    }
   ],
   "metadata": {}
  },
  {
   "cell_type": "code",
   "execution_count": 46,
   "source": [
    "def rsa_encrypt(x, e, n):\r\n",
    "    return potModN(x,e,n)\r\n",
    "\r\n",
    "def rsa_decrypt(x, d, n):\r\n",
    "    return potModN(x,d,n)"
   ],
   "outputs": [],
   "metadata": {}
  },
  {
   "cell_type": "code",
   "execution_count": 47,
   "source": [
    "## determine d\r\n",
    "e = 53\r\n",
    "n = 77\r\n",
    "phi_n = (11-1) * (7-1)\r\n",
    "print(\"phi_n: \", phi_n)\r\n",
    "_, _, d = eea(phi_n, e)\r\n",
    "print(\"d: \", d)\r\n",
    "assert (d*e) % phi_n == 1"
   ],
   "outputs": [
    {
     "output_type": "stream",
     "name": "stdout",
     "text": [
      "phi_n:  60\n",
      "d:  17\n"
     ]
    }
   ],
   "metadata": {}
  },
  {
   "cell_type": "code",
   "execution_count": 57,
   "source": [
    "text = 50\r\n",
    "print(\"text: \", text)\r\n",
    "cipher = rsa_encrypt(text, e, n)\r\n",
    "print(\"cipher: \", cipher)\r\n",
    "decrypted = rsa_decrypt(cipher, d, n)\r\n",
    "print(\"decrypted: \", decrypted)"
   ],
   "outputs": [
    {
     "output_type": "stream",
     "name": "stdout",
     "text": [
      "text:  50\n",
      "cipher:  29\n",
      "decrypted:  50\n"
     ]
    }
   ],
   "metadata": {}
  }
 ],
 "metadata": {
  "orig_nbformat": 4,
  "language_info": {
   "name": "python",
   "version": "3.8.3",
   "mimetype": "text/x-python",
   "codemirror_mode": {
    "name": "ipython",
    "version": 3
   },
   "pygments_lexer": "ipython3",
   "nbconvert_exporter": "python",
   "file_extension": ".py"
  },
  "kernelspec": {
   "name": "python3",
   "display_name": "Python 3.8.3 64-bit"
  },
  "interpreter": {
   "hash": "2db524e06e9f5f4ffedc911c917cb75e12dbc923643829bf417064a77eb14d37"
  }
 },
 "nbformat": 4,
 "nbformat_minor": 2
}