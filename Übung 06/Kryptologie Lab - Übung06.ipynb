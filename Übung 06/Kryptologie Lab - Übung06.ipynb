{
 "cells": [
  {
   "cell_type": "markdown",
   "metadata": {},
   "source": [
    "# Kryptologie Lab - Übung 06 - RSA"
   ]
  },
  {
   "cell_type": "markdown",
   "metadata": {},
   "source": [
    "## Quadrieren und Multiplizieren"
   ]
  },
  {
   "cell_type": "code",
   "execution_count": 42,
   "metadata": {},
   "outputs": [],
   "source": [
    "def potModN(x, m, n):\n",
    "    y = 1\n",
    "    b = m\n",
    "    while b != 0:\n",
    "        if (b & 0x1) == 1:\n",
    "            y = (y * x) % n\n",
    "        x = (x*x) % n\n",
    "        b = b >> 1\n",
    "    return y"
   ]
  },
  {
   "cell_type": "code",
   "execution_count": 43,
   "metadata": {},
   "outputs": [
    {
     "data": {
      "text/plain": [
       "100"
      ]
     },
     "execution_count": 43,
     "metadata": {},
     "output_type": "execute_result"
    }
   ],
   "source": [
    "potModN(10,2, 200)"
   ]
  },
  {
   "cell_type": "markdown",
   "metadata": {},
   "source": [
    "## Erweiterter euklidischer Algorithmus"
   ]
  },
  {
   "cell_type": "code",
   "execution_count": 44,
   "metadata": {},
   "outputs": [],
   "source": [
    "def eea(a,b):\n",
    "    k = 0\n",
    "    r = [a, b]\n",
    "    s = [1, 0]\n",
    "    t = [0, 1]\n",
    "    while r[k+1] != 0:\n",
    "        k += 1\n",
    "        q_k = r[k-1] // r[k]\n",
    "        r.append(r[k-1]-q_k*r[k])\n",
    "        s.append(s[k-1]-q_k*s[k])\n",
    "        t.append(t[k-1]-q_k*t[k])\n",
    "    return (r[k], s[k], t[k])"
   ]
  },
  {
   "cell_type": "code",
   "execution_count": 45,
   "metadata": {},
   "outputs": [
    {
     "data": {
      "text/plain": [
       "(3, 1, -1)"
      ]
     },
     "execution_count": 45,
     "metadata": {},
     "output_type": "execute_result"
    }
   ],
   "source": [
    "eea(48, 45)"
   ]
  },
  {
   "cell_type": "code",
   "execution_count": 46,
   "metadata": {},
   "outputs": [],
   "source": [
    "def rsa_encrypt(x, e, n):\n",
    "    return potModN(x,e,n)\n",
    "\n",
    "def rsa_decrypt(x, d, n):\n",
    "    return potModN(x,d,n)"
   ]
  },
  {
   "cell_type": "code",
   "execution_count": 47,
   "metadata": {},
   "outputs": [
    {
     "name": "stdout",
     "output_type": "stream",
     "text": [
      "phi_n:  60\n",
      "d:  17\n"
     ]
    }
   ],
   "source": [
    "## determine d\n",
    "e = 53\n",
    "n = 77\n",
    "phi_n = (11-1) * (7-1)\n",
    "print(\"phi_n: \", phi_n)\n",
    "_, _, d = eea(phi_n, e)\n",
    "print(\"d: \", d)\n",
    "assert (d*e) % phi_n == 1"
   ]
  },
  {
   "cell_type": "code",
   "execution_count": 57,
   "metadata": {},
   "outputs": [
    {
     "name": "stdout",
     "output_type": "stream",
     "text": [
      "text:  50\n",
      "cipher:  29\n",
      "decrypted:  50\n"
     ]
    }
   ],
   "source": [
    "text = 50\n",
    "print(\"text: \", text)\n",
    "cipher = rsa_encrypt(text, e, n)\n",
    "print(\"cipher: \", cipher)\n",
    "decrypted = rsa_decrypt(cipher, d, n)\n",
    "print(\"decrypted: \", decrypted)"
   ]
  }
 ],
 "metadata": {
  "interpreter": {
   "hash": "2db524e06e9f5f4ffedc911c917cb75e12dbc923643829bf417064a77eb14d37"
  },
  "kernelspec": {
   "display_name": "Python 3.8.3 64-bit",
   "name": "python3"
  },
  "language_info": {
   "codemirror_mode": {
    "name": "ipython",
    "version": 3
   },
   "file_extension": ".py",
   "mimetype": "text/x-python",
   "name": "python",
   "nbconvert_exporter": "python",
   "pygments_lexer": "ipython3",
   "version": "3.8.3"
  },
  "orig_nbformat": 4
 },
 "nbformat": 4,
 "nbformat_minor": 2
}
