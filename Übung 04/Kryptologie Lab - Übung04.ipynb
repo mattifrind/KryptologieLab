{
 "cells": [
  {
   "cell_type": "markdown",
   "metadata": {},
   "source": [
    "# Kryptologie Lab - Übung 04"
   ]
  },
  {
   "cell_type": "code",
   "execution_count": 1,
   "metadata": {},
   "outputs": [],
   "source": [
    "import numpy as np"
   ]
  },
  {
   "cell_type": "code",
   "execution_count": 2,
   "metadata": {},
   "outputs": [],
   "source": [
    "encryptGaloisMatrix = np.array([[2,3,1,1],[1,2,3,1],[1,1,2,3],[3,1,1,2]])\n",
    "decryptGaloisMatrix = np.array([[0xE,0xB,0xD,9],[9,0xE,0xB,0xD],[0xD,9,0xE,0xB],[0xB,0xD,9,0xE]])"
   ]
  },
  {
   "cell_type": "code",
   "execution_count": 3,
   "metadata": {},
   "outputs": [],
   "source": [
    "with open('SBox.txt') as f:\n",
    "    lines = f.readlines()\n",
    "    hexValues = \"\".join(lines).replace(\"\\n\", \" \").split(\", \")\n",
    "    byteValues = [int(x, base=16) for x in hexValues]\n",
    "    sbox = np.reshape(np.array(byteValues, dtype=np.dtype('B')), (16,16))\n",
    "\n",
    "with open('SBoxInvers.txt') as f:\n",
    "    lines = f.readlines()\n",
    "    hexValues = \"\".join(lines).replace(\"\\n\", \" \").split(\", \")\n",
    "    byteValues = [int(x, base=16) for x in hexValues]\n",
    "    sbox_inverse = np.reshape(np.array(byteValues, dtype=np.dtype('B')), (16,16))"
   ]
  },
  {
   "cell_type": "markdown",
   "metadata": {},
   "source": [
    "## Init Galoiskörper-Operationen"
   ]
  },
  {
   "cell_type": "code",
   "execution_count": 4,
   "metadata": {},
   "outputs": [],
   "source": [
    "def gfAddition(a,b):\n",
    "    return np.bitwise_xor(a,b)\n",
    "\n",
    "def xTimes(a):\n",
    "    t = a << 1\n",
    "    if a & (1 << 7) != 0:\n",
    "        t = t ^ 0x1b\n",
    "    return t\n",
    "\n",
    "def gfMultiply(a,b):\n",
    "    index = 0\n",
    "    out = 0\n",
    "    while b != 0:\n",
    "        if (b & 1 == 1):\n",
    "            val = a\n",
    "            for i in range(index):\n",
    "                val = xTimes(val)\n",
    "            out = gfAddition(out, val)\n",
    "        index += 1\n",
    "        b = b >> 1\n",
    "    return out"
   ]
  },
  {
   "cell_type": "markdown",
   "metadata": {},
   "source": [
    "## Init algorithm steps"
   ]
  },
  {
   "cell_type": "code",
   "execution_count": 5,
   "metadata": {},
   "outputs": [],
   "source": [
    "def initBlock(textblock):\n",
    "    chars = [ord(c) for c in textblock]\n",
    "    if (len(chars) < 16):\n",
    "        fill = [0 for i in range(16 - len(chars))]\n",
    "        chars.extend(fill)\n",
    "    return np.reshape(np.array(chars, dtype=np.dtype('B')), (4,4), order=\"F\")\n",
    "\n",
    "def blockToText(textblock):\n",
    "    text = textblock.transpose().flatten()\n",
    "    toChar = lambda c: chr(c)\n",
    "    return \"\".join(np.array([toChar(c) for c in text]))\n",
    "\n",
    "def addRoundKey(textblock, key):\n",
    "    return np.bitwise_xor(textblock, key)\n",
    "    \n",
    "def subByte(byte, box):\n",
    "    row = (byte >> 4) & 0xF\n",
    "    col = byte & 0xF\n",
    "    return box[row, col]\n",
    "\n",
    "def subBytes(textblock, reverse=False):\n",
    "    if reverse:\n",
    "        box = sbox_inverse\n",
    "    else:\n",
    "        box = sbox\n",
    "    for y in range(len(textblock)):\n",
    "        for x in range(len(textblock[y])):\n",
    "            textblock[y,x] = subByte(textblock[y,x], box)\n",
    "    return textblock\n",
    "\n",
    "def shiftRows(textblock, reverse=False):\n",
    "    for i in range(4):\n",
    "        if reverse:\n",
    "            shiftAmount = i\n",
    "        else:\n",
    "            shiftAmount = -i\n",
    "        textblock[i] = np.roll(textblock[i], shiftAmount)\n",
    "    return textblock\n",
    "\n",
    "def subColumn(inputColumn, matrix):\n",
    "    outputColumn = np.copy(inputColumn)\n",
    "    for row in range(4):\n",
    "        val = 0\n",
    "        for column in range(4):\n",
    "            val = gfAddition(val, gfMultiply(matrix[row, column], inputColumn[column]))\n",
    "        outputColumn[row] = val\n",
    "    return outputColumn\n",
    "\n",
    "def mixColumns(textblock, reverse=False):\n",
    "    if reverse:\n",
    "        matrix = decryptGaloisMatrix\n",
    "    else:\n",
    "        matrix = encryptGaloisMatrix\n",
    "    for column in range(4):\n",
    "        textblock[:, column] = subColumn(textblock[:, column], matrix)\n",
    "    return textblock"
   ]
  },
  {
   "cell_type": "markdown",
   "metadata": {},
   "source": [
    "## Init algorithm process"
   ]
  },
  {
   "cell_type": "code",
   "execution_count": 6,
   "metadata": {},
   "outputs": [],
   "source": [
    "def encryptBlock(textblock, keys):\n",
    "    textblock = initBlock(textblock)\n",
    "    textblock = addRoundKey(textblock, keys[0])\n",
    "    for i in range(1, 10):\n",
    "        textblock = subBytes(textblock)\n",
    "        textblock = shiftRows(textblock)\n",
    "        textblock = mixColumns(textblock)\n",
    "        textblock = addRoundKey(textblock, keys[i])\n",
    "    textblock = subBytes(textblock)\n",
    "    textblock = shiftRows(textblock)\n",
    "    textblock = addRoundKey(textblock, keys[10])\n",
    "    return blockToText(textblock)\n",
    "\n",
    "def decryptBlock(textblock, keys):\n",
    "    textblock = initBlock(textblock)\n",
    "    textblock = addRoundKey(textblock, keys[10])\n",
    "    textblock = shiftRows(textblock, reverse=True)\n",
    "    textblock = subBytes(textblock, reverse=True)\n",
    "    for i in range(9, 0, -1):\n",
    "        textblock = addRoundKey(textblock, keys[i])\n",
    "        textblock = mixColumns(textblock, reverse=True)\n",
    "        textblock = shiftRows(textblock, reverse=True)\n",
    "        textblock = subBytes(textblock, reverse=True)\n",
    "    textblock = addRoundKey(textblock, keys[0])\n",
    "    return blockToText(textblock)"
   ]
  },
  {
   "cell_type": "markdown",
   "metadata": {},
   "source": [
    "## Init block splitting"
   ]
  },
  {
   "cell_type": "code",
   "execution_count": 7,
   "metadata": {},
   "outputs": [],
   "source": [
    "def encrypt(text, keys):\n",
    "    blocks = [text[i:i+16] for i in range(0, len(text), 16)]\n",
    "    return \"\".join([encryptBlock(block, keys) for block in blocks])\n",
    "\n",
    "def decrypt(text, keys):\n",
    "    blocks = [text[i:i+16] for i in range(0, len(text), 16)]\n",
    "    return \"\".join([decryptBlock(block, keys) for block in blocks])"
   ]
  },
  {
   "cell_type": "markdown",
   "metadata": {},
   "source": [
    "## Schlüsselgenerierung"
   ]
  },
  {
   "cell_type": "code",
   "execution_count": 8,
   "metadata": {},
   "outputs": [],
   "source": [
    "key = [\"EINSCHLUESSEL123\" for i in range(11)]"
   ]
  },
  {
   "cell_type": "code",
   "execution_count": 22,
   "metadata": {},
   "outputs": [],
   "source": [
    "def rotWord(word):\n",
    "    return np.roll(word, shift=-1)\n",
    "\n",
    "def subWord(word):\n",
    "    return [subByte(byte, sbox) for byte in word]\n",
    "\n",
    "def rcon(i):\n",
    "    array = [0x1, 0x2, 0x4, 0x8, 0x10, 0x20, 0x40, 0x80, 0x1b, 0x36]\n",
    "    return [array[i], 0,0,0]\n",
    "\n",
    "# input 16 character string\n",
    "def generateKey(key):\n",
    "    block = initBlock(key)\n",
    "    words = []\n",
    "    words.append(block[:,0])\n",
    "    words.append(block[:,1])\n",
    "    words.append(block[:,2])\n",
    "    words.append(block[:,3])\n",
    "    for i in range(4, 44):\n",
    "        if i % 4 == 0:\n",
    "            val = gfAddition(words[i-4], rcon(i // 4 - 1))\n",
    "            val = gfAddition(subWord(rotWord(words[i-1])), val)\n",
    "            words.append(val)\n",
    "        else:\n",
    "            words.append(gfAddition(words[i-4], words[i-1]))\n",
    "    keys = np.empty((11, 4,4), dtype=np.dtype('B'))\n",
    "    for i in range(0, 44):\n",
    "        keys[i // 4, :, i % 4] = words[i]\n",
    "    return keys"
   ]
  },
  {
   "cell_type": "code",
   "execution_count": 23,
   "metadata": {},
   "outputs": [
    {
     "name": "stdout",
     "output_type": "stream",
     "text": [
      "[[[ 69  67  69  76]\n",
      "  [ 73  72  83  49]\n",
      "  [ 78  76  83  50]\n",
      "  [ 83  85  69  51]]\n",
      "\n",
      " [[131 192 133 201]\n",
      "  [106  34 113  64]\n",
      "  [141 193 146 160]\n",
      "  [122  47 106  89]]\n",
      "\n",
      " [[136  72 205   4]\n",
      "  [138 168 217 153]\n",
      "  [ 70 135  21 181]\n",
      "  [167 136 226 187]]\n",
      "\n",
      " [[ 98  42 231 227]\n",
      "  [ 95 247  46 183]\n",
      "  [172  43  62 139]\n",
      "  [ 85 221  63 132]]\n",
      "\n",
      " [[195 233  14 237]\n",
      "  [ 98 149 187  12]\n",
      "  [243 216 230 109]\n",
      "  [ 68 153 166  34]]\n",
      "\n",
      " [[ 45 196 202  39]\n",
      "  [ 94 203 112 124]\n",
      "  [ 96 184  94  51]\n",
      "  [ 17 136  46  12]]\n",
      "\n",
      " [[ 29 217  19  52]\n",
      "  [157  86  38  90]\n",
      "  [158  38 120  75]\n",
      "  [221  85 123 119]]\n",
      "\n",
      " [[227  58  41  29]\n",
      "  [ 46 120  94   4]\n",
      "  [107  77  53 126]\n",
      "  [197 144 235 156]]\n",
      "\n",
      " [[145 171 130 159]\n",
      "  [221 165 251 255]\n",
      "  [181 248 205 179]\n",
      "  [ 97 241  26 134]]\n",
      "\n",
      " [[156  55 181  42]\n",
      "  [176  21 238  17]\n",
      "  [241   9 196 119]\n",
      "  [186  75  81 215]]\n",
      "\n",
      " [[ 40  31 170 128]\n",
      "  [ 69  80 190 175]\n",
      "  [255 246  50  69]\n",
      "  [ 95  20  69 146]]]\n",
      "(11, 4, 4)\n"
     ]
    }
   ],
   "source": [
    "keys = generateKey(\"EINSCHLUESSEL123\")\n",
    "print(keys)\n",
    "print(keys.shape)"
   ]
  },
  {
   "cell_type": "code",
   "execution_count": null,
   "metadata": {},
   "outputs": [
    {
     "name": "stdout",
     "output_type": "stream",
     "text": [
      "Input:  Hallo, das ist ein geheimer Text. Mal schauen, ob er geheim bleibt. Der Text ist noch ein Stueck laenger.\n",
      "cypher:  \u0001OFÞè2ï¸£öãYèÖ\\\u000fþ±è\ftî@j\u0007kà¤G5aFúýÆÄf·m\u001d\u0002ÌÖrO\u001b°\u0007xù\u0004cNuV>\u0016yîÂ¹oRyËYþ[!Azæk \u000bÒoH»ó+\u001aÌþ\u0016×äµâ\u001bb\u0017J¶\n",
      "text:  Hallo, das ist ein geheimer Text. Mal schauen, ob er geheim bleibt. Der Text ist noch ein Stueck laenger.\n"
     ]
    }
   ],
   "source": [
    "text = \"Hallo, das ist ein geheimer Text. Mal schauen, ob er geheim bleibt. Der Text ist noch ein Stueck laenger.\"\n",
    "print(\"Input: \", text)\n",
    "cipher = encrypt(text, keys)\n",
    "print(\"cypher: \", cipher)\n",
    "new_text = decrypt(cipher, keys)\n",
    "print(\"text: \", new_text)"
   ]
  }
 ],
 "metadata": {
  "interpreter": {
   "hash": "743cc418bf85dc03c7a8b2e88c0c4a43aa5b803c26546c0935c684a5ec19e593"
  },
  "kernelspec": {
   "display_name": "Python 3.8.5 64-bit ('base': conda)",
   "name": "python3"
  },
  "language_info": {
   "codemirror_mode": {
    "name": "ipython",
    "version": 3
   },
   "file_extension": ".py",
   "mimetype": "text/x-python",
   "name": "python",
   "nbconvert_exporter": "python",
   "pygments_lexer": "ipython3",
   "version": "3.8.5"
  },
  "orig_nbformat": 4
 },
 "nbformat": 4,
 "nbformat_minor": 2
}
