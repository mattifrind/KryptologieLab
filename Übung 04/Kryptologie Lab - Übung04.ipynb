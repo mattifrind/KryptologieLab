{
 "cells": [
  {
   "cell_type": "markdown",
   "source": [
    "# Kryptologie Lab - Übung 04"
   ],
   "metadata": {}
  },
  {
   "cell_type": "code",
   "execution_count": 179,
   "source": [
    "import numpy as np"
   ],
   "outputs": [],
   "metadata": {}
  },
  {
   "cell_type": "code",
   "execution_count": 180,
   "source": [
    "encryptGaloisMatrix = np.array([[2,3,1,1],[1,2,3,1],[1,1,2,3],[3,1,1,2]])\r\n",
    "decryptGaloisMatrix = np.array([[0xE,0xB,0xD,9],[9,0xE,0xB,0xD],[0xD,9,0xE,0xB],[0xB,0xD,9,0xE]])"
   ],
   "outputs": [],
   "metadata": {}
  },
  {
   "cell_type": "code",
   "execution_count": 181,
   "source": [
    "with open('SBox.txt') as f:\r\n",
    "    lines = f.readlines()\r\n",
    "    hexValues = \"\".join(lines).replace(\"\\n\", \" \").split(\", \")\r\n",
    "    byteValues = [int(x, base=16) for x in hexValues]\r\n",
    "    sbox = np.reshape(np.array(byteValues, dtype=np.dtype('B')), (16,16))\r\n",
    "\r\n",
    "with open('SBoxInvers.txt') as f:\r\n",
    "    lines = f.readlines()\r\n",
    "    hexValues = \"\".join(lines).replace(\"\\n\", \" \").split(\", \")\r\n",
    "    byteValues = [int(x, base=16) for x in hexValues]\r\n",
    "    sbox_inverse = np.reshape(np.array(byteValues, dtype=np.dtype('B')), (16,16))"
   ],
   "outputs": [],
   "metadata": {}
  },
  {
   "cell_type": "markdown",
   "source": [
    "## Init Galoiskörper-Operationen"
   ],
   "metadata": {}
  },
  {
   "cell_type": "code",
   "execution_count": 182,
   "source": [
    "def gfAddition(a,b):\r\n",
    "    return np.bitwise_xor(a,b)\r\n",
    "\r\n",
    "def xTimes(a):\r\n",
    "    t = a << 1\r\n",
    "    if a & (1 << 7) != 0:\r\n",
    "        t = t ^ 0x1b\r\n",
    "    return t\r\n",
    "\r\n",
    "def gfMultiply(a,b):\r\n",
    "    index = 0\r\n",
    "    out = 0\r\n",
    "    while b != 0:\r\n",
    "        if (b & 1 == 1):\r\n",
    "            val = a\r\n",
    "            for i in range(index):\r\n",
    "                val = xTimes(val)\r\n",
    "            out = gfAddition(out, val)\r\n",
    "        index += 1\r\n",
    "        b = b >> 1\r\n",
    "    return out"
   ],
   "outputs": [],
   "metadata": {}
  },
  {
   "cell_type": "markdown",
   "source": [
    "## Init algorithm steps"
   ],
   "metadata": {}
  },
  {
   "cell_type": "code",
   "execution_count": 183,
   "source": [
    "def initBlock(textblock):\r\n",
    "    chars = [ord(c) for c in textblock]\r\n",
    "    if (len(chars) < 16):\r\n",
    "        fill = [0 for i in range(16 - len(chars))]\r\n",
    "        chars.extend(fill)\r\n",
    "    return np.reshape(np.array(chars, dtype=np.dtype('B')), (4,4), order=\"F\")\r\n",
    "\r\n",
    "def blockToText(textblock):\r\n",
    "    text = textblock.transpose().flatten()\r\n",
    "    toChar = lambda c: chr(c)\r\n",
    "    return \"\".join(np.array([toChar(c) for c in text]))\r\n",
    "\r\n",
    "def addRoundKey(textblock, key):\r\n",
    "    return np.bitwise_xor(textblock, key)\r\n",
    "    \r\n",
    "def subByte(byte, box):\r\n",
    "    row = (byte >> 4) & 0xF\r\n",
    "    col = byte & 0xF\r\n",
    "    return box[row, col]\r\n",
    "\r\n",
    "def subBytes(textblock, reverse=False):\r\n",
    "    if reverse:\r\n",
    "        box = sbox_inverse\r\n",
    "    else:\r\n",
    "        box = sbox\r\n",
    "    for y in range(len(textblock)):\r\n",
    "        for x in range(len(textblock[y])):\r\n",
    "            textblock[y,x] = subByte(textblock[y,x], box)\r\n",
    "    return textblock\r\n",
    "\r\n",
    "def shiftRows(textblock, reverse=False):\r\n",
    "    for i in range(4):\r\n",
    "        if reverse:\r\n",
    "            shiftAmount = i\r\n",
    "        else:\r\n",
    "            shiftAmount = -i\r\n",
    "        textblock[i] = np.roll(textblock[i], shiftAmount)\r\n",
    "    return textblock\r\n",
    "\r\n",
    "def subColumn(inputColumn, matrix):\r\n",
    "    outputColumn = np.copy(inputColumn)\r\n",
    "    for row in range(4):\r\n",
    "        val = 0\r\n",
    "        for column in range(4):\r\n",
    "            val = gfAddition(val, gfMultiply(matrix[row, column], inputColumn[column]))\r\n",
    "        outputColumn[row] = val\r\n",
    "    return outputColumn\r\n",
    "\r\n",
    "def mixColumns(textblock, reverse=False):\r\n",
    "    if reverse:\r\n",
    "        matrix = decryptGaloisMatrix\r\n",
    "    else:\r\n",
    "        matrix = encryptGaloisMatrix\r\n",
    "    for column in range(4):\r\n",
    "        textblock[:, column] = subColumn(textblock[:, column], matrix)\r\n",
    "    return textblock"
   ],
   "outputs": [],
   "metadata": {}
  },
  {
   "cell_type": "markdown",
   "source": [
    "## Init algorithm process"
   ],
   "metadata": {}
  },
  {
   "cell_type": "code",
   "execution_count": 184,
   "source": [
    "def encryptBlock(textblock, keys):\r\n",
    "    textblock = initBlock(textblock)\r\n",
    "    textblock = addRoundKey(textblock, keys[0])\r\n",
    "    for i in range(1, 10):\r\n",
    "        textblock = subBytes(textblock)\r\n",
    "        textblock = shiftRows(textblock)\r\n",
    "        textblock = mixColumns(textblock)\r\n",
    "        textblock = addRoundKey(textblock, keys[i])\r\n",
    "    textblock = subBytes(textblock)\r\n",
    "    textblock = shiftRows(textblock)\r\n",
    "    textblock = addRoundKey(textblock, keys[10])\r\n",
    "    return blockToText(textblock)\r\n",
    "\r\n",
    "def decryptBlock(textblock, keys):\r\n",
    "    textblock = initBlock(textblock)\r\n",
    "    textblock = addRoundKey(textblock, keys[10])\r\n",
    "    textblock = shiftRows(textblock, reverse=True)\r\n",
    "    textblock = subBytes(textblock, reverse=True)\r\n",
    "    for i in range(9, 0, -1):\r\n",
    "        textblock = addRoundKey(textblock, keys[i])\r\n",
    "        textblock = mixColumns(textblock, reverse=True)\r\n",
    "        textblock = shiftRows(textblock, reverse=True)\r\n",
    "        textblock = subBytes(textblock, reverse=True)\r\n",
    "    textblock = addRoundKey(textblock, keys[0])\r\n",
    "    return blockToText(textblock)"
   ],
   "outputs": [],
   "metadata": {}
  },
  {
   "cell_type": "markdown",
   "source": [
    "## Init block splitting"
   ],
   "metadata": {}
  },
  {
   "cell_type": "code",
   "execution_count": 185,
   "source": [
    "def encrypt(text, keys):\r\n",
    "    blocks = [text[i:i+16] for i in range(0, len(text), 16)]\r\n",
    "    return \"\".join([encryptBlock(block, keys) for block in blocks])\r\n",
    "\r\n",
    "def decrypt(text, keys):\r\n",
    "    blocks = [text[i:i+16] for i in range(0, len(text), 16)]\r\n",
    "    return \"\".join([decryptBlock(block, keys) for block in blocks])"
   ],
   "outputs": [],
   "metadata": {}
  },
  {
   "cell_type": "markdown",
   "source": [
    "## Schlüsselgenerierung"
   ],
   "metadata": {}
  },
  {
   "cell_type": "code",
   "execution_count": 186,
   "source": [
    "key = [\"EINSCHLUESSEL123\" for i in range(11)]"
   ],
   "outputs": [],
   "metadata": {}
  },
  {
   "cell_type": "code",
   "execution_count": 187,
   "source": [
    "def rotWord(word):\r\n",
    "    pass\r\n",
    "\r\n",
    "def subWord(word):\r\n",
    "    return np.roll([subByte(byte, sbox) for byte in word], shift=-1)\r\n",
    "\r\n",
    "def rcon(i):\r\n",
    "    array = [0x1, 0x2, 0x4, 0x8, 0x10, 0x20, 0x40, 0x80, 0x1b, 0x36]\r\n",
    "    return array[i]\r\n",
    "\r\n",
    "# input 16 character string\r\n",
    "def generateKey(key):\r\n",
    "    chars = [ord(c) for c in key]\r\n",
    "    words = []\r\n",
    "    words.append(chars[0:4])\r\n",
    "    words.append(chars[4:8])\r\n",
    "    words.append(chars[8:12])\r\n",
    "    words.append(chars[12:16])\r\n",
    "    for i in range(4, 44):\r\n",
    "        if i % 4 == 0:\r\n",
    "            val = gfAddition(words[i-4], rcon(round(i/4) - 1))\r\n",
    "            val = gfAddition(subWord(words[i-1]), val)\r\n",
    "            words.append(val)\r\n",
    "        else:\r\n",
    "            words.append(gfAddition(words[i-4], words[i-1]))\r\n",
    "    keys = np.empty((11, 4,4), dtype=np.dtype('B'))\r\n",
    "    for i in range(0, 44, 4):\r\n",
    "        keyNumber = round(i/4)\r\n",
    "        keys[keyNumber, 0] = words[i]\r\n",
    "        keys[keyNumber, 1] = words[i+1]\r\n",
    "        keys[keyNumber, 2] = words[i+2]\r\n",
    "        keys[keyNumber, 3] = words[i+3]\r\n",
    "    return keys"
   ],
   "outputs": [],
   "metadata": {}
  },
  {
   "cell_type": "code",
   "execution_count": 191,
   "source": [
    "keys = generateKey(\"EINSCHLUESSEL123\")\r\n",
    "print(keys)\r\n",
    "print(keys.shape)"
   ],
   "outputs": [
    {
     "output_type": "stream",
     "name": "stdout",
     "text": [
      "[[[ 69  73  78  83]\n",
      "  [ 67  72  76  85]\n",
      "  [ 69  83  83  69]\n",
      "  [ 76  49  50  51]]\n",
      "\n",
      " [[131 107 140 123]\n",
      "  [192  35 192  46]\n",
      "  [133 112 147 107]\n",
      "  [201  65 161  88]]\n",
      "\n",
      " [[  2  91 228 164]\n",
      "  [194 120  36 138]\n",
      "  [ 71   8 183 225]\n",
      "  [142  73  22 185]]\n",
      "\n",
      " [[ 61  24 182 185]\n",
      "  [255  96 146  51]\n",
      "  [184 104  37 210]\n",
      "  [ 54  33  51 107]]\n",
      "\n",
      " [[200 211 193 180]\n",
      "  [ 55 179  83 135]\n",
      "  [143 219 118  85]\n",
      "  [185 250  69  62]]\n",
      "\n",
      " [[245 173  99 242]\n",
      "  [194  30  48 117]\n",
      "  [ 77 197  70  32]\n",
      "  [244  63   3  30]]\n",
      "\n",
      " [[160 246  49 109]\n",
      "  [ 98 232   1  24]\n",
      "  [ 47  45  71  56]\n",
      "  [219  18  68  38]]\n",
      "\n",
      " [[ 41 173 134 148]\n",
      "  [ 75  69 135 140]\n",
      "  [100 104 192 180]\n",
      "  [191 122 132 146]]\n",
      "\n",
      " [[115 114  73  28]\n",
      "  [ 56  55 206 144]\n",
      "  [ 92  95  14  36]\n",
      "  [227  37 138 182]]\n",
      "\n",
      " [[ 87  23  28  22]\n",
      "  [111  32 210 134]\n",
      "  [ 51 127 220 162]\n",
      "  [208  90  86  20]]\n",
      "\n",
      " [[223 144 208  80]\n",
      "  [176 176   2 214]\n",
      "  [131 207 222 116]\n",
      "  [ 83 149 136  96]]]\n",
      "(11, 4, 4)\n"
     ]
    }
   ],
   "metadata": {}
  },
  {
   "cell_type": "code",
   "execution_count": 189,
   "source": [
    "text = \"Hallo, das ist ein geheimer Text. Mal schauen, ob er geheim bleibt. Der Text ist noch ein Stueck laenger.\"\r\n",
    "print(\"Input: \", text)\r\n",
    "cipher = encrypt(text, keys)\r\n",
    "print(\"cypher: \", cipher)\r\n",
    "new_text = decrypt(cipher, keys)\r\n",
    "print(\"text: \", new_text)"
   ],
   "outputs": [
    {
     "output_type": "stream",
     "name": "stdout",
     "text": [
      "Input:  Hallo, das ist ein geheimer Text. Mal schauen, ob er geheim bleibt. Der Text ist noch ein Stueck laenger.\n",
      "cypher:  \u000b7RÉ\u0002\u000bG×&@çÜ\u0004c.kÚÍ@¯Ïý¬UGè\u0003â2\u0005}ïÁÅ\u001dº\u0015Ã\u0006¡;V/\u0011%y\u000f (äÈXÝû\u0011&u\u001dÐ\u0014ß|W!hE­mD%ÖG×Ý °ÎÒ\fú¬=ü¹Wo®äÛY\n",
      "L\u001a\u0010µã²3P\u0018ÀäT\n",
      "text:  Hallo, das ist ein geheimer Text. Mal schauen, ob er geheim bleibt. Der Text ist noch ein Stueck laenger.\n"
     ]
    }
   ],
   "metadata": {}
  }
 ],
 "metadata": {
  "interpreter": {
   "hash": "743cc418bf85dc03c7a8b2e88c0c4a43aa5b803c26546c0935c684a5ec19e593"
  },
  "kernelspec": {
   "name": "python3",
   "display_name": "Python 3.8.5 64-bit ('base': conda)"
  },
  "language_info": {
   "codemirror_mode": {
    "name": "ipython",
    "version": 3
   },
   "file_extension": ".py",
   "mimetype": "text/x-python",
   "name": "python",
   "nbconvert_exporter": "python",
   "pygments_lexer": "ipython3",
   "version": "3.8.5"
  },
  "orig_nbformat": 4
 },
 "nbformat": 4,
 "nbformat_minor": 2
}