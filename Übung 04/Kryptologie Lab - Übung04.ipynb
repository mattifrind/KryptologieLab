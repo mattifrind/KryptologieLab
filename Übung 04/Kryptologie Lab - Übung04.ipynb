{
 "cells": [
  {
   "cell_type": "markdown",
   "source": [
    "# Kryptologie Lab - Übung 04"
   ],
   "metadata": {}
  },
  {
   "cell_type": "code",
   "execution_count": 221,
   "source": [
    "import numpy as np"
   ],
   "outputs": [],
   "metadata": {}
  },
  {
   "cell_type": "code",
   "execution_count": 222,
   "source": [
    "encryptGaloisMatrix = np.array([[2,3,1,1],[1,2,3,1],[1,1,2,3],[3,1,1,2]])\r\n",
    "decryptGaloisMatrix = np.array([[0xE,0xB,0xD,9],[9,0xE,0xB,0xD],[0xD,9,0xE,0xB],[0xB,0xD,9,0xE]])"
   ],
   "outputs": [],
   "metadata": {}
  },
  {
   "cell_type": "code",
   "execution_count": 223,
   "source": [
    "with open('SBox.txt') as f:\r\n",
    "    lines = f.readlines()\r\n",
    "    hexValues = \"\".join(lines).replace(\"\\n\", \" \").split(\", \")\r\n",
    "    byteValues = [int(x, base=16) for x in hexValues]\r\n",
    "    sbox = np.reshape(np.array(byteValues, dtype=np.dtype('B')), (16,16))\r\n",
    "\r\n",
    "with open('SBoxInvers.txt') as f:\r\n",
    "    lines = f.readlines()\r\n",
    "    hexValues = \"\".join(lines).replace(\"\\n\", \" \").split(\", \")\r\n",
    "    byteValues = [int(x, base=16) for x in hexValues]\r\n",
    "    sbox_inverse = np.reshape(np.array(byteValues, dtype=np.dtype('B')), (16,16))"
   ],
   "outputs": [],
   "metadata": {}
  },
  {
   "cell_type": "markdown",
   "source": [
    "## Init Galoiskörper-Operationen"
   ],
   "metadata": {}
  },
  {
   "cell_type": "code",
   "execution_count": 224,
   "source": [
    "def gfAddition(a,b):\r\n",
    "    return np.bitwise_xor(a,b)\r\n",
    "\r\n",
    "def xTimes(a):\r\n",
    "    t = a << 1\r\n",
    "    if a & (1 << 7) != 0:\r\n",
    "        t = t ^ 0x1b\r\n",
    "    return t\r\n",
    "\r\n",
    "def gfMultiply(a,b):\r\n",
    "    index = 0\r\n",
    "    out = 0\r\n",
    "    while b != 0:\r\n",
    "        if (b & 1 == 1):\r\n",
    "            val = a\r\n",
    "            for i in range(index):\r\n",
    "                val = xTimes(val)\r\n",
    "            out = gfAddition(out, val)\r\n",
    "        index += 1\r\n",
    "        b = b >> 1\r\n",
    "    return out"
   ],
   "outputs": [],
   "metadata": {}
  },
  {
   "cell_type": "markdown",
   "source": [
    "## Init algorithm steps"
   ],
   "metadata": {}
  },
  {
   "cell_type": "code",
   "execution_count": 225,
   "source": [
    "def initBlock(textblock):\r\n",
    "    chars = [ord(c) for c in textblock]\r\n",
    "    if (len(chars) < 16):\r\n",
    "        fill = [0 for i in range(16 - len(chars))]\r\n",
    "        chars.extend(fill)\r\n",
    "    return np.reshape(np.array(chars, dtype=np.dtype('B')), (4,4), order=\"F\")\r\n",
    "\r\n",
    "def blockToText(textblock):\r\n",
    "    text = textblock.transpose().flatten()\r\n",
    "    toChar = lambda c: chr(c)\r\n",
    "    return \"\".join(np.array([toChar(c) for c in text]))\r\n",
    "\r\n",
    "def addRoundKey(textblock, key):\r\n",
    "    return np.bitwise_xor(textblock, key)\r\n",
    "    \r\n",
    "def subByte(byte, box):\r\n",
    "    row = (byte >> 4) & 0xF\r\n",
    "    col = byte & 0xF\r\n",
    "    return box[row, col]\r\n",
    "\r\n",
    "def subBytes(textblock, reverse=False):\r\n",
    "    if reverse:\r\n",
    "        box = sbox_inverse\r\n",
    "    else:\r\n",
    "        box = sbox\r\n",
    "    for y in range(len(textblock)):\r\n",
    "        for x in range(len(textblock[y])):\r\n",
    "            textblock[y,x] = subByte(textblock[y,x], box)\r\n",
    "    return textblock\r\n",
    "\r\n",
    "def shiftRows(textblock, reverse=False):\r\n",
    "    for i in range(4):\r\n",
    "        if reverse:\r\n",
    "            shiftAmount = i\r\n",
    "        else:\r\n",
    "            shiftAmount = -i\r\n",
    "        textblock[i] = np.roll(textblock[i], shiftAmount)\r\n",
    "    return textblock\r\n",
    "\r\n",
    "def subColumn(inputColumn, matrix):\r\n",
    "    outputColumn = np.copy(inputColumn)\r\n",
    "    for row in range(4):\r\n",
    "        val = 0\r\n",
    "        for column in range(4):\r\n",
    "            val = gfAddition(val, gfMultiply(matrix[row, column], inputColumn[column]))\r\n",
    "        outputColumn[row] = val\r\n",
    "    return outputColumn\r\n",
    "\r\n",
    "def mixColumns(textblock, reverse=False):\r\n",
    "    if reverse:\r\n",
    "        matrix = decryptGaloisMatrix\r\n",
    "    else:\r\n",
    "        matrix = encryptGaloisMatrix\r\n",
    "    for column in range(4):\r\n",
    "        textblock[:, column] = subColumn(textblock[:, column], matrix)\r\n",
    "    return textblock"
   ],
   "outputs": [],
   "metadata": {}
  },
  {
   "cell_type": "markdown",
   "source": [
    "## Init algorithm process"
   ],
   "metadata": {}
  },
  {
   "cell_type": "code",
   "execution_count": 226,
   "source": [
    "def encryptBlock(textblock, keys):\r\n",
    "    textblock = initBlock(textblock)\r\n",
    "    textblock = addRoundKey(textblock, keys[0])\r\n",
    "    for i in range(1, 10):\r\n",
    "        textblock = subBytes(textblock)\r\n",
    "        textblock = shiftRows(textblock)\r\n",
    "        textblock = mixColumns(textblock)\r\n",
    "        textblock = addRoundKey(textblock, keys[i])\r\n",
    "    textblock = subBytes(textblock)\r\n",
    "    textblock = shiftRows(textblock)\r\n",
    "    textblock = addRoundKey(textblock, keys[10])\r\n",
    "    return blockToText(textblock)\r\n",
    "\r\n",
    "def decryptBlock(textblock, keys):\r\n",
    "    textblock = initBlock(textblock)\r\n",
    "    textblock = addRoundKey(textblock, keys[10])\r\n",
    "    textblock = shiftRows(textblock, reverse=True)\r\n",
    "    textblock = subBytes(textblock, reverse=True)\r\n",
    "    for i in range(9, 0, -1):\r\n",
    "        textblock = addRoundKey(textblock, keys[i])\r\n",
    "        textblock = mixColumns(textblock, reverse=True)\r\n",
    "        textblock = shiftRows(textblock, reverse=True)\r\n",
    "        textblock = subBytes(textblock, reverse=True)\r\n",
    "    textblock = addRoundKey(textblock, keys[0])\r\n",
    "    return blockToText(textblock)"
   ],
   "outputs": [],
   "metadata": {}
  },
  {
   "cell_type": "markdown",
   "source": [
    "## Init block splitting"
   ],
   "metadata": {}
  },
  {
   "cell_type": "code",
   "execution_count": 227,
   "source": [
    "def encrypt(text, keys):\r\n",
    "    blocks = [text[i:i+16] for i in range(0, len(text), 16)]\r\n",
    "    return \"\".join([encryptBlock(block, keys) for block in blocks])\r\n",
    "\r\n",
    "def decrypt(text, keys):\r\n",
    "    blocks = [text[i:i+16] for i in range(0, len(text), 16)]\r\n",
    "    return \"\".join([decryptBlock(block, keys) for block in blocks])"
   ],
   "outputs": [],
   "metadata": {}
  },
  {
   "cell_type": "markdown",
   "source": [
    "## Schlüsselgenerierung"
   ],
   "metadata": {}
  },
  {
   "cell_type": "code",
   "execution_count": 228,
   "source": [
    "key = [\"EINSCHLUESSEL123\" for i in range(11)]"
   ],
   "outputs": [],
   "metadata": {}
  },
  {
   "cell_type": "code",
   "execution_count": 229,
   "source": [
    "def rotWord(word):\r\n",
    "    return np.roll(word, shift=-1)\r\n",
    "\r\n",
    "def subWord(word):\r\n",
    "    return [subByte(byte, sbox) for byte in word]\r\n",
    "\r\n",
    "def rcon(i):\r\n",
    "    array = [0x1, 0x2, 0x4, 0x8, 0x10, 0x20, 0x40, 0x80, 0x1b, 0x36]\r\n",
    "    return array[i]\r\n",
    "\r\n",
    "# input 16 character string\r\n",
    "def generateKey(key):\r\n",
    "    block = initBlock(key)\r\n",
    "    words = []\r\n",
    "    words.append(block[:,0])\r\n",
    "    words.append(block[:,1])\r\n",
    "    words.append(block[:,2])\r\n",
    "    words.append(block[:,3])\r\n",
    "    for i in range(4, 44):\r\n",
    "        if i % 4 == 0:\r\n",
    "            val = gfAddition(words[i-4], rcon(i // 4 - 1))\r\n",
    "            val = gfAddition(subWord(rotWord(words[i-1])), val)\r\n",
    "            words.append(val)\r\n",
    "        else:\r\n",
    "            words.append(gfAddition(words[i-4], words[i-1]))\r\n",
    "    keys = np.empty((11, 4,4), dtype=np.dtype('B'))\r\n",
    "    for i in range(0, 44):\r\n",
    "        keys[i // 4, :, i % 4] = words[i]\r\n",
    "    return keys"
   ],
   "outputs": [],
   "metadata": {}
  },
  {
   "cell_type": "code",
   "execution_count": 230,
   "source": [
    "keys = generateKey(\"EINSCHLUESSEL123\")\r\n",
    "print(keys)\r\n",
    "print(keys.shape)"
   ],
   "outputs": [
    {
     "output_type": "stream",
     "name": "stdout",
     "text": [
      "[[[ 69  67  69  76]\n",
      "  [ 73  72  83  49]\n",
      "  [ 78  76  83  50]\n",
      "  [ 83  85  69  51]]\n",
      "\n",
      " [[131 192 133 201]\n",
      "  [107  35 112  65]\n",
      "  [140 192 147 161]\n",
      "  [123  46 107  88]]\n",
      "\n",
      " [[  2 194  71 142]\n",
      "  [ 91 120   8  73]\n",
      "  [228  36 183  22]\n",
      "  [164 138 225 185]]\n",
      "\n",
      " [[ 61 255 184  54]\n",
      "  [ 24  96 104  33]\n",
      "  [182 146  37  51]\n",
      "  [185  51 210 107]]\n",
      "\n",
      " [[200  55 143 185]\n",
      "  [211 179 219 250]\n",
      "  [193  83 118  69]\n",
      "  [180 135  85  62]]\n",
      "\n",
      " [[245 194  77 244]\n",
      "  [173  30 197  63]\n",
      "  [ 99  48  70   3]\n",
      "  [242 117  32  30]]\n",
      "\n",
      " [[160  98  47 219]\n",
      "  [246 232  45  18]\n",
      "  [ 49   1  71  68]\n",
      "  [109  24  56  38]]\n",
      "\n",
      " [[ 41  75 100 191]\n",
      "  [173  69 104 122]\n",
      "  [134 135 192 132]\n",
      "  [148 140 180 146]]\n",
      "\n",
      " [[115  56  92 227]\n",
      "  [114  55  95  37]\n",
      "  [ 73 206  14 138]\n",
      "  [ 28 144  36 182]]\n",
      "\n",
      " [[ 87 111  51 208]\n",
      "  [ 23  32 127  90]\n",
      "  [ 28 210 220  86]\n",
      "  [ 22 134 162  20]]\n",
      "\n",
      " [[223 176 131  83]\n",
      "  [144 176 207 149]\n",
      "  [208   2 222 136]\n",
      "  [ 80 214 116  96]]]\n",
      "(11, 4, 4)\n"
     ]
    }
   ],
   "metadata": {}
  },
  {
   "cell_type": "code",
   "execution_count": 231,
   "source": [
    "text = \"Hallo, das ist ein geheimer Text. Mal schauen, ob er geheim bleibt. Der Text ist noch ein Stueck laenger.\"\r\n",
    "print(\"Input: \", text)\r\n",
    "cipher = encrypt(text, keys)\r\n",
    "print(\"cypher: \", cipher)\r\n",
    "new_text = decrypt(cipher, keys)\r\n",
    "print(\"text: \", new_text)"
   ],
   "outputs": [
    {
     "output_type": "stream",
     "name": "stdout",
     "text": [
      "Input:  Hallo, das ist ein geheimer Text. Mal schauen, ob er geheim bleibt. Der Text ist noch ein Stueck laenger.\n",
      "cypher:  \u0001OFÞè2ï¸£öãYèÖ\\\u000fþ±è\ftî@j\u0007kà¤G5aFúýÆÄf·m\u001d\u0002ÌÖrO\u001b°\u0007xù\u0004cNuV>\u0016yîÂ¹oRyËYþ[!Azæk \u000bÒoH»ó+\u001aÌþ\u0016×äµâ\u001bb\u0017J¶\n",
      "text:  Hallo, das ist ein geheimer Text. Mal schauen, ob er geheim bleibt. Der Text ist noch ein Stueck laenger.\n"
     ]
    }
   ],
   "metadata": {}
  }
 ],
 "metadata": {
  "interpreter": {
   "hash": "743cc418bf85dc03c7a8b2e88c0c4a43aa5b803c26546c0935c684a5ec19e593"
  },
  "kernelspec": {
   "name": "python3",
   "display_name": "Python 3.8.5 64-bit ('base': conda)"
  },
  "language_info": {
   "codemirror_mode": {
    "name": "ipython",
    "version": 3
   },
   "file_extension": ".py",
   "mimetype": "text/x-python",
   "name": "python",
   "nbconvert_exporter": "python",
   "pygments_lexer": "ipython3",
   "version": "3.8.5"
  },
  "orig_nbformat": 4
 },
 "nbformat": 4,
 "nbformat_minor": 2
}