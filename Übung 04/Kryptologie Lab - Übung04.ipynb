{
 "cells": [
  {
   "cell_type": "markdown",
   "metadata": {},
   "source": [
    "# Kryptologie Lab - Übung 04 - AES Key Generation\n",
    "\n",
    "> AES siehe Übung 03!"
   ]
  },
  {
   "cell_type": "code",
   "execution_count": 12,
   "metadata": {},
   "outputs": [],
   "source": [
    "import numpy as np"
   ]
  },
  {
   "cell_type": "markdown",
   "metadata": {},
   "source": [
    "## AES aus Übung 03"
   ]
  },
  {
   "cell_type": "code",
   "execution_count": 13,
   "metadata": {},
   "outputs": [],
   "source": [
    "encryptGaloisMatrix = np.array([[2,3,1,1],[1,2,3,1],[1,1,2,3],[3,1,1,2]])\n",
    "decryptGaloisMatrix = np.array([[0xE,0xB,0xD,9],[9,0xE,0xB,0xD],[0xD,9,0xE,0xB],[0xB,0xD,9,0xE]])"
   ]
  },
  {
   "cell_type": "code",
   "execution_count": 14,
   "metadata": {},
   "outputs": [],
   "source": [
    "with open('SBox.txt') as f:\n",
    "    lines = f.readlines()\n",
    "    hexValues = \"\".join(lines).replace(\"\\n\", \" \").split(\", \")\n",
    "    byteValues = [int(x, base=16) for x in hexValues]\n",
    "    sbox = np.reshape(np.array(byteValues, dtype=np.dtype('B')), (16,16))\n",
    "\n",
    "with open('SBoxInvers.txt') as f:\n",
    "    lines = f.readlines()\n",
    "    hexValues = \"\".join(lines).replace(\"\\n\", \" \").split(\", \")\n",
    "    byteValues = [int(x, base=16) for x in hexValues]\n",
    "    sbox_inverse = np.reshape(np.array(byteValues, dtype=np.dtype('B')), (16,16))"
   ]
  },
  {
   "cell_type": "markdown",
   "metadata": {},
   "source": [
    "### Init Galoiskörper-Operationen"
   ]
  },
  {
   "cell_type": "code",
   "execution_count": 15,
   "metadata": {},
   "outputs": [],
   "source": [
    "def gfAddition(a,b):\n",
    "    return np.bitwise_xor(a,b)\n",
    "\n",
    "def xTimes(a):\n",
    "    t = a << 1\n",
    "    if a & (1 << 7) != 0:\n",
    "        t = t ^ 0x1b\n",
    "    return t\n",
    "\n",
    "def gfMultiply(a,b):\n",
    "    index = 0\n",
    "    out = 0\n",
    "    while b != 0:\n",
    "        if (b & 1 == 1):\n",
    "            val = a\n",
    "            for i in range(index):\n",
    "                val = xTimes(val)\n",
    "            out = gfAddition(out, val)\n",
    "        index += 1\n",
    "        b = b >> 1\n",
    "    return out"
   ]
  },
  {
   "cell_type": "markdown",
   "metadata": {},
   "source": [
    "### Init algorithm steps"
   ]
  },
  {
   "cell_type": "code",
   "execution_count": 16,
   "metadata": {},
   "outputs": [],
   "source": [
    "def initBlock(textblock):\n",
    "    chars = [ord(c) for c in textblock]\n",
    "    if (len(chars) < 16):\n",
    "        fill = [0 for i in range(16 - len(chars))]\n",
    "        chars.extend(fill)\n",
    "    return np.reshape(np.array(chars, dtype=np.dtype('B')), (4,4), order=\"F\")\n",
    "\n",
    "def blockToText(textblock):\n",
    "    chars = [chr(c) for c in np.nditer(textblock, order=\"F\")]\n",
    "    return \"\".join(chars)\n",
    "\n",
    "def addRoundKey(textblock, key):\n",
    "    return np.bitwise_xor(textblock, key)\n",
    "    \n",
    "def subByte(byte, box):\n",
    "    row = (byte >> 4) & 0xF\n",
    "    col = byte & 0xF\n",
    "    return box[row, col]\n",
    "\n",
    "def subBytes(textblock, reverse=False):\n",
    "    if reverse:\n",
    "        box = sbox_inverse\n",
    "    else:\n",
    "        box = sbox\n",
    "    for y in range(len(textblock)):\n",
    "        for x in range(len(textblock[y])):\n",
    "            textblock[y,x] = subByte(textblock[y,x], box)\n",
    "    return textblock\n",
    "\n",
    "def shiftRows(textblock, reverse=False):\n",
    "    for i in range(4):\n",
    "        if reverse:\n",
    "            shiftAmount = i\n",
    "        else:\n",
    "            shiftAmount = -i\n",
    "        textblock[i] = np.roll(textblock[i], shiftAmount)\n",
    "    return textblock\n",
    "\n",
    "def subColumn(inputColumn, matrix):\n",
    "    outputColumn = np.copy(inputColumn)\n",
    "    for row in range(4):\n",
    "        val = 0\n",
    "        for column in range(4):\n",
    "            val = gfAddition(val, gfMultiply(matrix[row, column], inputColumn[column]))\n",
    "        outputColumn[row] = val\n",
    "    return outputColumn\n",
    "\n",
    "def mixColumns(textblock, reverse=False):\n",
    "    if reverse:\n",
    "        matrix = decryptGaloisMatrix\n",
    "    else:\n",
    "        matrix = encryptGaloisMatrix\n",
    "    for column in range(4):\n",
    "        textblock[:, column] = subColumn(textblock[:, column], matrix)\n",
    "    return textblock"
   ]
  },
  {
   "cell_type": "markdown",
   "metadata": {},
   "source": [
    "### Init algorithm process"
   ]
  },
  {
   "cell_type": "code",
   "execution_count": 17,
   "metadata": {},
   "outputs": [],
   "source": [
    "def encryptBlock(textblock, keys):\n",
    "    textblock = initBlock(textblock)\n",
    "    textblock = addRoundKey(textblock, keys[0])\n",
    "    for i in range(1, 10):\n",
    "        textblock = subBytes(textblock)\n",
    "        textblock = shiftRows(textblock)\n",
    "        textblock = mixColumns(textblock)\n",
    "        textblock = addRoundKey(textblock, keys[i])\n",
    "    textblock = subBytes(textblock)\n",
    "    textblock = shiftRows(textblock)\n",
    "    textblock = addRoundKey(textblock, keys[10])\n",
    "    return blockToText(textblock)\n",
    "\n",
    "def decryptBlock(textblock, keys):\n",
    "    textblock = initBlock(textblock)\n",
    "    textblock = addRoundKey(textblock, keys[10])\n",
    "    textblock = shiftRows(textblock, reverse=True)\n",
    "    textblock = subBytes(textblock, reverse=True)\n",
    "    for i in range(9, 0, -1):\n",
    "        textblock = addRoundKey(textblock, keys[i])\n",
    "        textblock = mixColumns(textblock, reverse=True)\n",
    "        textblock = shiftRows(textblock, reverse=True)\n",
    "        textblock = subBytes(textblock, reverse=True)\n",
    "    textblock = addRoundKey(textblock, keys[0])\n",
    "    return blockToText(textblock)"
   ]
  },
  {
   "cell_type": "markdown",
   "metadata": {},
   "source": [
    "### Init block splitting"
   ]
  },
  {
   "cell_type": "code",
   "execution_count": 18,
   "metadata": {},
   "outputs": [],
   "source": [
    "def encrypt(text, keys):\n",
    "    blocks = [text[i:i+16] for i in range(0, len(text), 16)]\n",
    "    return \"\".join([encryptBlock(block, keys) for block in blocks])\n",
    "\n",
    "def decrypt(text, keys):\n",
    "    blocks = [text[i:i+16] for i in range(0, len(text), 16)]\n",
    "    return \"\".join([decryptBlock(block, keys) for block in blocks])"
   ]
  },
  {
   "cell_type": "markdown",
   "metadata": {},
   "source": [
    "## Schlüsselgenerierung"
   ]
  },
  {
   "cell_type": "code",
   "execution_count": 19,
   "metadata": {},
   "outputs": [],
   "source": [
    "# RotWord(W) = RotWord(b0, b1, b2, b3) = (b1, b2, b3, b0)\n",
    "def rotWord(word):\n",
    "    return np.roll(word, shift=-1)\n",
    "\n",
    "# SubWord(b0, b1, b2, b3) = (S[b0], S[b1], S[b2], S[b3])\n",
    "# subByte from AES (SBox)\n",
    "def subWord(word):\n",
    "    return [subByte(byte, sbox) for byte in word]\n",
    "\n",
    "# rcon(i) = (rci 0016 0016 0016) \n",
    "# rci = x^(i-1) in GF -> implemented as lookup table\n",
    "def rcon(i):\n",
    "    array = [0x1, 0x2, 0x4, 0x8, 0x10, 0x20, 0x40, 0x80, 0x1b, 0x36]\n",
    "    return [array[i], 0,0,0]\n",
    "\n",
    "# input 16 character string\n",
    "def generateKey(key):\n",
    "    block = initBlock(key)\n",
    "    words = []\n",
    "    # first 4 words are directly from the key\n",
    "    words.append(block[:,0])\n",
    "    words.append(block[:,1])\n",
    "    words.append(block[:,2])\n",
    "    words.append(block[:,3])\n",
    "    # generates 44 words\n",
    "    for i in range(4, 44):\n",
    "        if i % 4 == 0:\n",
    "            val = gfAddition(words[i-4], rcon(i // 4 - 1))\n",
    "            val = gfAddition(subWord(rotWord(words[i-1])), val)\n",
    "            words.append(val)\n",
    "        else:\n",
    "            words.append(gfAddition(words[i-4], words[i-1]))\n",
    "    keys = np.empty((11, 4,4), dtype=np.dtype('B'))\n",
    "    for i in range(0, 44):\n",
    "        keys[i // 4, :, i % 4] = words[i]\n",
    "    return keys"
   ]
  },
  {
   "cell_type": "code",
   "execution_count": 20,
   "metadata": {},
   "outputs": [
    {
     "name": "stdout",
     "output_type": "stream",
     "text": [
      "[[[ 49  53  57  51]\n",
      "  [ 50  54  48  52]\n",
      "  [ 51  55  49  53]\n",
      "  [ 52  56  50  54]]\n",
      "\n",
      " [[ 40  29  36  23]\n",
      "  [164 146 162 150]\n",
      "  [ 54   1  48   5]\n",
      "  [247 207 253 203]]\n",
      "\n",
      " [[186 167 131 148]\n",
      "  [207  93 255 105]\n",
      "  [ 41  40  24  29]\n",
      "  [  7 200  53 254]]\n",
      "\n",
      " [[ 71 224  99 247]\n",
      "  [107  54 201 160]\n",
      "  [146 186 162 191]\n",
      "  [ 37 237 216  38]]\n",
      "\n",
      " [[175  79  44 219]\n",
      "  [ 99  85 156  60]\n",
      "  [101 223 125 194]\n",
      "  [ 77 160 120  94]]\n",
      "\n",
      " [[ 84  27  55 236]\n",
      "  [ 70  19 143 179]\n",
      "  [ 61 226 159  93]\n",
      "  [244  84  44 114]]\n",
      "\n",
      " [[ 25   2  53 217]\n",
      "  [ 10  25 150  37]\n",
      "  [125 159   0  93]\n",
      "  [ 58 110  66  48]]\n",
      "\n",
      " [[102 100  81 136]\n",
      "  [ 70  95 201 236]\n",
      "  [121 230 230 187]\n",
      "  [ 15  97  35  19]]\n",
      "\n",
      " [[ 40  76  29 149]\n",
      "  [172 243  58 214]\n",
      "  [  4 226   4 191]\n",
      "  [203 170 137 154]]\n",
      "\n",
      " [[197 137 148   1]\n",
      "  [164  87 109 187]\n",
      "  [188  94  90 229]\n",
      "  [225  75 194  88]]\n",
      "\n",
      " [[ 25 144   4   5]\n",
      "  [125  42  71 252]\n",
      "  [214 136 210  55]\n",
      "  [157 214  20  76]]]\n",
      "(11, 4, 4)\n"
     ]
    }
   ],
   "source": [
    "keys = generateKey(\"1234567890123456\")\n",
    "print(keys)\n",
    "print(keys.shape)"
   ]
  },
  {
   "cell_type": "code",
   "execution_count": 21,
   "metadata": {},
   "outputs": [
    {
     "name": "stdout",
     "output_type": "stream",
     "text": [
      "Input:  Hallo, das ist ein geheimer Text. Mal schauen, ob er geheim bleibt. Der Text ist noch ein Stueck laenger.\n",
      "cypher:  T\u0000\u0018~û9};eJÛZ\u001cuÔVU0Þö\u0012%U{ë$­tÚÓ\u000f\u0002*%/þã_Å­Aÿ¨¯sv\u0017RiãÌø})®ä\u0018<\u0015ªÊ¿Îy£n\u0003ÝâaÏ@&){|éaçz!¦Õ:\f¥G×Û~\u0001óªOÈ\n",
      "text:  Hallo, das ist ein geheimer Text. Mal schauen, ob er geheim bleibt. Der Text ist noch ein Stueck laenger.\u0000\u0000\u0000\u0000\u0000\u0000\u0000\n"
     ]
    }
   ],
   "source": [
    "text = \"Hallo, das ist ein geheimer Text. Mal schauen, ob er geheim bleibt. Der Text ist noch ein Stueck laenger.\"\n",
    "print(\"Input: \", text)\n",
    "cipher = encrypt(text, keys)\n",
    "print(\"cypher: \", cipher)\n",
    "new_text = decrypt(cipher, keys)\n",
    "print(\"text: \", new_text)"
   ]
  }
 ],
 "metadata": {
  "interpreter": {
   "hash": "743cc418bf85dc03c7a8b2e88c0c4a43aa5b803c26546c0935c684a5ec19e593"
  },
  "kernelspec": {
   "display_name": "Python 3.8.5 64-bit ('base': conda)",
   "name": "python3"
  },
  "language_info": {
   "codemirror_mode": {
    "name": "ipython",
    "version": 3
   },
   "file_extension": ".py",
   "mimetype": "text/x-python",
   "name": "python",
   "nbconvert_exporter": "python",
   "pygments_lexer": "ipython3",
   "version": "3.8.5"
  },
  "orig_nbformat": 4
 },
 "nbformat": 4,
 "nbformat_minor": 2
}
