{
 "cells": [
  {
   "cell_type": "markdown",
   "metadata": {},
   "source": [
    "# Kryptologie Lab - Übung 07"
   ]
  },
  {
   "cell_type": "markdown",
   "metadata": {},
   "source": [
    "## RSA"
   ]
  },
  {
   "cell_type": "code",
   "execution_count": 3,
   "metadata": {},
   "outputs": [],
   "source": [
    "import random\n",
    "import math"
   ]
  },
  {
   "cell_type": "code",
   "execution_count": 11,
   "metadata": {},
   "outputs": [],
   "source": [
    "class RSA:\n",
    "    small_primes = [1,7,11,13,17, 19,23,29]\n",
    "\n",
    "    def eea(self, a,b):\n",
    "        k = 0\n",
    "        r = [a, b]\n",
    "        s = [1, 0]\n",
    "        t = [0, 1]\n",
    "        while r[k+1] != 0:\n",
    "            k += 1\n",
    "            q_k = r[k-1] // r[k]\n",
    "            r.append(r[k-1]-q_k*r[k])\n",
    "            s.append(s[k-1]-q_k*s[k])\n",
    "            t.append(t[k-1]-q_k*t[k])\n",
    "        return (r[k], s[k], t[k])\n",
    "\n",
    "    # x^m mod n\n",
    "    def potModN(self, x, m, n):\n",
    "        y = 1\n",
    "        b = m\n",
    "        while b != 0:\n",
    "            if (b & 0x1) == 1:\n",
    "                y = (y * x) % n\n",
    "            x = (x*x) % n\n",
    "            b = b >> 1\n",
    "        return y\n",
    "\n",
    "    def millerRabin(self, n):\n",
    "        # determine k and m\n",
    "        temp = n-1\n",
    "        k = 0\n",
    "        while (temp % 2) == 0:\n",
    "            temp //= 2\n",
    "            k += 1\n",
    "        m = temp\n",
    "        # determine a\n",
    "        a = random.randrange(2,n)\n",
    "        b = self.potModN(a, m, n)\n",
    "        if b == 1:\n",
    "            return True\n",
    "        for i in range(1, k+1):\n",
    "            if b == n-1:\n",
    "                return True\n",
    "            else:\n",
    "                b = self.potModN(b, 2, n)\n",
    "        return False\n",
    "        \n",
    "\n",
    "    def testPrim(self, n):\n",
    "        success = False\n",
    "        for i in range(8):\n",
    "            success = self.millerRabin(n)\n",
    "            if success: return True\n",
    "        return False\n",
    "\n",
    "    def genPrim(self, max_z = 10**130):\n",
    "        z = random.randint(1000, max_z)\n",
    "        hit = False\n",
    "        i = 1\n",
    "        while not hit:\n",
    "            number = 30 * z + self.small_primes[i]\n",
    "            hit = self.testPrim(number)\n",
    "            i += 1\n",
    "            if i == 8:\n",
    "                i = 0\n",
    "                z += 1\n",
    "        return number\n",
    "    \n",
    "    def genKeyPair(self):\n",
    "        # generate primes\n",
    "        p = self.genPrim()\n",
    "        q = self.genPrim()\n",
    "        while min([p,q]) * 1.2 > max([p,q]):\n",
    "            q = self.genPrim()\n",
    "        # gen e\n",
    "        n = p * q\n",
    "        phi_n = (p-1) * (q-1)\n",
    "        hit = False\n",
    "        while not hit:\n",
    "            e = random.randint(1000, 10**180)\n",
    "            ggt, d, _ = self.eea(e, phi_n)\n",
    "            hit = ggt == 1\n",
    "        if d < 0:\n",
    "            d = phi_n + d\n",
    "        return ((e,n), (d, n))\n",
    "\n",
    "\n",
    "    def encrypt(self, x, public):\n",
    "        e, n = public\n",
    "        return self.potModN(x,e,n)\n",
    "\n",
    "    def decrypt(self, x, private):\n",
    "        d, n = private\n",
    "        return self.potModN(x,d,n)\n",
    "        "
   ]
  },
  {
   "cell_type": "code",
   "execution_count": 12,
   "metadata": {},
   "outputs": [
    {
     "name": "stdout",
     "output_type": "stream",
     "text": [
      "PUBLIC\n",
      "e -  180  decimal digits\n",
      "n -  261  decimal digits\n",
      "PRIVATE\n",
      "d -  260  decimal digits\n",
      "n -  261  decimal digits\n"
     ]
    }
   ],
   "source": [
    "rsa = RSA()\n",
    "(public, private) = rsa.genKeyPair()\n",
    "print(\"PUBLIC\")\n",
    "print(\"e - \", (int(math.log10(public[0]))+1), \" decimal digits\")\n",
    "print(\"n - \", (int(math.log10(public[1]))+1), \" decimal digits\")\n",
    "print(\"PRIVATE\")\n",
    "print(\"d - \", (int(math.log10(private[0]))+1), \" decimal digits\")\n",
    "print(\"n - \", (int(math.log10(private[1]))+1), \" decimal digits\")"
   ]
  },
  {
   "cell_type": "code",
   "execution_count": 5,
   "metadata": {},
   "outputs": [
    {
     "name": "stdout",
     "output_type": "stream",
     "text": [
      "9572141373985502410636994228686446285378478999524653580581453750084304592188099961740750366147283365471611521338999508378943570269437748907302138659655363870996391596131878389106322158204273432737718427164010457631729735810907415502334522312712967833353571173620478278172732985939695527261807558949202\n"
     ]
    }
   ],
   "source": [
    "input = 999999999\n",
    "encrypted = rsa.encrypt(input, public)\n",
    "print(encrypted)\n",
    "output = rsa.decrypt(encrypted, private)\n",
    "assert output == input"
   ]
  },
  {
   "cell_type": "markdown",
   "metadata": {},
   "source": [
    "## Differenz der Quadrate"
   ]
  },
  {
   "cell_type": "code",
   "execution_count": 7,
   "metadata": {},
   "outputs": [],
   "source": [
    "def diffOfQuads(n):\n",
    "    u = math.ceil(math.sqrt(n))\n",
    "    while not math.sqrt(u*u-n).is_integer():\n",
    "        u += 1\n",
    "        if u > n:\n",
    "            raise Exception(\"Couldn't find factorization\")\n",
    "    w = math.sqrt(u*u - n)\n",
    "    return (int(u+w), int(u-w))"
   ]
  },
  {
   "cell_type": "code",
   "execution_count": 10,
   "metadata": {},
   "outputs": [
    {
     "data": {
      "text/plain": [
       "(98939, 85081)"
      ]
     },
     "execution_count": 10,
     "metadata": {},
     "output_type": "execute_result"
    }
   ],
   "source": [
    "n = 98939*85081\n",
    "diffOfQuads(n)"
   ]
  }
 ],
 "metadata": {
  "interpreter": {
   "hash": "2db524e06e9f5f4ffedc911c917cb75e12dbc923643829bf417064a77eb14d37"
  },
  "kernelspec": {
   "display_name": "Python 3.8.3 64-bit",
   "language": "python",
   "name": "python3"
  },
  "language_info": {
   "codemirror_mode": {
    "name": "ipython",
    "version": 3
   },
   "file_extension": ".py",
   "mimetype": "text/x-python",
   "name": "python",
   "nbconvert_exporter": "python",
   "pygments_lexer": "ipython3",
   "version": "3.8.3"
  },
  "orig_nbformat": 4
 },
 "nbformat": 4,
 "nbformat_minor": 2
}
