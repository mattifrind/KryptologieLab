{
 "cells": [
  {
   "cell_type": "markdown",
   "metadata": {},
   "source": [
    "# Kryptologie LAB - Übung 10 - DSA"
   ]
  },
  {
   "cell_type": "code",
   "execution_count": 1,
   "metadata": {},
   "outputs": [],
   "source": [
    "import math\n",
    "import hashlib"
   ]
  },
  {
   "cell_type": "markdown",
   "metadata": {},
   "source": [
    "## Parametergenerierung"
   ]
  },
  {
   "cell_type": "code",
   "execution_count": 2,
   "metadata": {},
   "outputs": [],
   "source": [
    "# https://wiki.python.org/moin/BitManipulation\n",
    "def bitLen(int_type):\n",
    "    length = 0\n",
    "    while (int_type):\n",
    "        int_type >>= 1\n",
    "        length += 1\n",
    "    return(length)"
   ]
  },
  {
   "cell_type": "code",
   "execution_count": 3,
   "metadata": {},
   "outputs": [],
   "source": [
    "# from Übung 07\n",
    "import random\n",
    "\n",
    "# x^m mod n\n",
    "def potModN(x, m, n):\n",
    "    y = 1\n",
    "    b = m\n",
    "    while b != 0:\n",
    "        if (b & 0x1) == 1:\n",
    "            y = (y * x) % n\n",
    "        x = (x*x) % n\n",
    "        b = b >> 1\n",
    "    return y\n",
    "\n",
    "class RSA:\n",
    "    small_primes = [1,7,11,13,17, 19,23,29]\n",
    "\n",
    "    def eea(self, a,b):\n",
    "        k = 0\n",
    "        r = [a, b]\n",
    "        s = [1, 0]\n",
    "        t = [0, 1]\n",
    "        while r[k+1] != 0:\n",
    "            k += 1\n",
    "            q_k = r[k-1] // r[k]\n",
    "            r.append(r[k-1]-q_k*r[k])\n",
    "            s.append(s[k-1]-q_k*s[k])\n",
    "            t.append(t[k-1]-q_k*t[k])\n",
    "        return (r[k], s[k], t[k])\n",
    "\n",
    "    def millerRabin(self, n):\n",
    "        # determine k and m\n",
    "        temp = n-1\n",
    "        k = 0\n",
    "        while (temp % 2) == 0:\n",
    "            temp //= 2\n",
    "            k += 1\n",
    "        m = temp\n",
    "        # determine a\n",
    "        a = random.randrange(2,n)\n",
    "        b = potModN(a, m, n)\n",
    "        if b == 1:\n",
    "            return True\n",
    "        for i in range(1, k+1):\n",
    "            if b == n-1:\n",
    "                return True\n",
    "            else:\n",
    "                b = potModN(b, 2, n)\n",
    "        return False\n",
    "        \n",
    "\n",
    "    def testPrim(self, n):\n",
    "        success = False\n",
    "        for i in range(8):\n",
    "            success = self.millerRabin(n)\n",
    "            if success: return True\n",
    "        return False\n",
    "\n",
    "    def genPrim(self, min_z = 1000, max_z = 10**130):\n",
    "        z = random.randint(min_z, max_z)\n",
    "        hit = False\n",
    "        i = 1\n",
    "        while not hit:\n",
    "            number = 30 * z + self.small_primes[i]\n",
    "            hit = self.testPrim(number)\n",
    "            i += 1\n",
    "            if i == 8:\n",
    "                i = 0\n",
    "                z += 1\n",
    "        return number\n",
    "    \n",
    "    def genKeyPair(self):\n",
    "        # generate primes\n",
    "        p = self.genPrim()\n",
    "        q = self.genPrim()\n",
    "        while min([p,q]) * 1.2 > max([p,q]):\n",
    "            q = self.genPrim()\n",
    "        # gen e\n",
    "        n = p * q\n",
    "        phi_n = (p-1) * (q-1)\n",
    "        hit = False\n",
    "        while not hit:\n",
    "            e = random.randint(1000, 10**180)\n",
    "            ggt, d, _ = self.eea(e, phi_n)\n",
    "            hit = ggt == 1\n",
    "        if d < 0:\n",
    "            d = phi_n + d\n",
    "        return ((e,n), (d, n))\n",
    "\n",
    "\n",
    "    def encrypt(self, x, public):\n",
    "        e, n = public\n",
    "        return self.potModN(x,e,n)\n",
    "\n",
    "    def decrypt(self, x, private):\n",
    "        d, n = private\n",
    "        return self.potModN(x,d,n)"
   ]
  },
  {
   "cell_type": "code",
   "execution_count": 4,
   "metadata": {},
   "outputs": [],
   "source": [
    "def ones(n):\n",
    "    return (2**n)-1\n",
    "\n",
    "def genQ(n):\n",
    "    rsa = RSA()\n",
    "    return rsa.genPrim(min_z=math.floor((1<<(n-1)) / 30), max_z=math.ceil(ones(n) / 30))\n",
    "\n",
    "def genParameters(l: int, n: int):\n",
    "    rsa = RSA()\n",
    "    q = genQ(n)\n",
    "    hit = False\n",
    "    tries = 0\n",
    "    while not hit:\n",
    "        k = random.randint(2 ** (l - n), 2 ** (l - n + 1))\n",
    "        p = q * k + 1\n",
    "        hit = rsa.testPrim(p) and bitLen(p) == l\n",
    "        tries += 1\n",
    "        if tries > 100000:\n",
    "            print(\"Generating new q\")\n",
    "            q = genQ(n)\n",
    "            tries = 0\n",
    "    print(\"q length: \", bitLen(q))\n",
    "    print(\"p length: \", bitLen(p))\n",
    "\n",
    "    g = 1\n",
    "    while g == 1:\n",
    "        h = random.randint(2, p-1)\n",
    "        g = potModN(h,(p-1) // q, p)\n",
    "    print(\"g: \", g)\n",
    "    return p, q, g\n"
   ]
  },
  {
   "cell_type": "markdown",
   "metadata": {},
   "source": [
    "## Schlüsselgenerierung"
   ]
  },
  {
   "cell_type": "code",
   "execution_count": 5,
   "metadata": {},
   "outputs": [],
   "source": [
    "def genKey(p, q, g):\n",
    "    x = random.randint(2,q)\n",
    "    y = potModN(g,x,p)\n",
    "    return x,y"
   ]
  },
  {
   "cell_type": "markdown",
   "metadata": {},
   "source": [
    "## Signieren"
   ]
  },
  {
   "cell_type": "code",
   "execution_count": 6,
   "metadata": {},
   "outputs": [],
   "source": [
    "hasher = hashlib.sha1()\n",
    "\n",
    "def sha1(input):\n",
    "    hasher.update(input)\n",
    "    return hasher.digest()\n",
    "\n",
    "# helper functions https://stackoverflow.com/a/30375198/6600660\n",
    "\n",
    "def int_to_bytes(x: int) -> bytes:\n",
    "    return x.to_bytes((x.bit_length() + 7) // 8, 'big')\n",
    "\n",
    "def int_from_bytes(xbytes: bytes) -> int:\n",
    "    return int.from_bytes(xbytes, 'big')"
   ]
  },
  {
   "cell_type": "code",
   "execution_count": 10,
   "metadata": {},
   "outputs": [],
   "source": [
    "def sign(m,p,q,g,x):\n",
    "    hashedMessage = int_from_bytes(sha1(m))\n",
    "    r = 0\n",
    "    s = 0\n",
    "    rsa = RSA()\n",
    "    while r == 0 or s == 0:\n",
    "        j = random.randint(2, q)\n",
    "        r = potModN(g,j,p) % q\n",
    "        invertedJ, _, _ = rsa.eea(j,q)\n",
    "        s = (invertedJ * (hashedMessage + r * x)) % q\n",
    "    return r,s\n",
    "\n",
    "def verify(m,p,q,g,y,r,s):\n",
    "    hashedMessage = int_from_bytes(sha1(m))\n",
    "    rsa = RSA()\n",
    "    if 0 < r < q and 0 < s < q:\n",
    "        w, _, _ = rsa.eea(s,q)\n",
    "        u_1 = (hashedMessage * w) % q\n",
    "        u_2 = (r*w) % q\n",
    "        v = ((potModN(g,u_1,p) * potModN(y,u_2,p)) % p) % q\n",
    "        if v == r:\n",
    "            print(\"Valid signature\")\n",
    "            return True\n",
    "        else:\n",
    "            print(\"Invalid signature (v: \", v, \" - r: \", r, \")\")\n",
    "            return False\n",
    "    else:\n",
    "        print(\"r and s in wrong intervalls\")\n",
    "        return False\n"
   ]
  },
  {
   "cell_type": "code",
   "execution_count": 8,
   "metadata": {},
   "outputs": [
    {
     "name": "stdout",
     "output_type": "stream",
     "text": [
      "q length:  160\n",
      "p length:  1024\n",
      "g:  13474087914347154663417055442739033242903728477996430796131965385857329503110282696550209961077850839761278592047677296102580458705731372653442498144130271709674617573163443365795678638738470759590679643182003048442382978943482293459197770626588530974997275188238174650631886711235899758131685811017177958578\n"
     ]
    }
   ],
   "source": [
    "p, q, g = genParameters(1024,160)\n",
    "x,y = genKey(p,q,g)"
   ]
  },
  {
   "cell_type": "code",
   "execution_count": 11,
   "metadata": {},
   "outputs": [
    {
     "name": "stdout",
     "output_type": "stream",
     "text": [
      "r:  160\n",
      "s:  159\n",
      "Invalid signature (v:  919404015247550905792339837699358098697452453662  - r:  893841596410225988213505328988598947596880044625 )\n"
     ]
    },
    {
     "data": {
      "text/plain": [
       "False"
      ]
     },
     "execution_count": 11,
     "metadata": {},
     "output_type": "execute_result"
    }
   ],
   "source": [
    "message = b\"Hallo, das ist ein Test\"\n",
    "r,s = sign(message,p,q,g,x)\n",
    "print(\"r: \", bitLen(r))\n",
    "print(\"s: \", bitLen(s))\n",
    "verify(message,p,q,g,y,r,s)"
   ]
  }
 ],
 "metadata": {
  "interpreter": {
   "hash": "2db524e06e9f5f4ffedc911c917cb75e12dbc923643829bf417064a77eb14d37"
  },
  "kernelspec": {
   "display_name": "Python 3.8.3 64-bit",
   "language": "python",
   "name": "python3"
  },
  "language_info": {
   "codemirror_mode": {
    "name": "ipython",
    "version": 3
   },
   "file_extension": ".py",
   "mimetype": "text/x-python",
   "name": "python",
   "nbconvert_exporter": "python",
   "pygments_lexer": "ipython3",
   "version": "3.8.3"
  },
  "orig_nbformat": 4
 },
 "nbformat": 4,
 "nbformat_minor": 2
}
