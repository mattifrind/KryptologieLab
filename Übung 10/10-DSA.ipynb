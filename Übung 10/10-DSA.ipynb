{
 "cells": [
  {
   "cell_type": "markdown",
   "metadata": {},
   "source": [
    "# Kryptologie LAB - Übung 10 - DSA\n",
    "- Signaturalgorithmus\n",
    "- Basiert auf Diskreten Logarithmen\n",
    "- Definiert im ’Digital Signature Standard’ (DSS)\n",
    "- Benötigt globale Parameter p, q, g und Hashfunktion hash\n",
    "- q ist Primzahl der Länge N\n",
    "- p ist Primzahl der Länge L und darstellbar als p = kq + 1\n",
    "- g ist ein Element aus Z∗p mit Ordnung q\n",
    "- Erlaubte Längen (L,N) sind:\n",
    "- (1024, 160),(2048, 224),(2048, 256),(3072, 256)\n",
    "- Zusätzlich muss gelten N ≤ |hash|\n",
    "- Hier: (L,N) = (1024, 160), hash = sha-1"
   ]
  },
  {
   "cell_type": "code",
   "execution_count": 1,
   "metadata": {},
   "outputs": [],
   "source": [
    "import math\n",
    "import hashlib"
   ]
  },
  {
   "cell_type": "markdown",
   "metadata": {},
   "source": [
    "## Parametergenerierung"
   ]
  },
  {
   "cell_type": "code",
   "execution_count": 2,
   "metadata": {},
   "outputs": [],
   "source": [
    "# from Übung 07\n",
    "import random\n",
    "\n",
    "# x^m mod n\n",
    "def potModN(x, m, n):\n",
    "    y = 1\n",
    "    b = m\n",
    "    while b != 0:\n",
    "        if (b & 0x1) == 1:\n",
    "            y = (y * x) % n\n",
    "        x = (x*x) % n\n",
    "        b = b >> 1\n",
    "    return y\n",
    "\n",
    "class RSA:\n",
    "    small_primes = [1,7,11,13,17, 19,23,29]\n",
    "\n",
    "    def eea(self, a,b):\n",
    "        k = 0\n",
    "        r = [a, b]\n",
    "        s = [1, 0]\n",
    "        t = [0, 1]\n",
    "        while r[k+1] != 0:\n",
    "            k += 1\n",
    "            q_k = r[k-1] // r[k]\n",
    "            r.append(r[k-1]-q_k*r[k])\n",
    "            s.append(s[k-1]-q_k*s[k])\n",
    "            t.append(t[k-1]-q_k*t[k])\n",
    "        # ggt\n",
    "        return (r[k], s[k], t[k])\n",
    "\n",
    "    def millerRabin(self, n):\n",
    "        # determine k and m\n",
    "        temp = n-1\n",
    "        k = 0\n",
    "        while (temp % 2) == 0:\n",
    "            temp //= 2\n",
    "            k += 1\n",
    "        m = temp\n",
    "        # determine a\n",
    "        a = random.randrange(2,n)\n",
    "        b = potModN(a, m, n)\n",
    "        if b == 1:\n",
    "            return True\n",
    "        for i in range(1, k+1):\n",
    "            if b == n-1:\n",
    "                return True\n",
    "            else:\n",
    "                b = potModN(b, 2, n)\n",
    "        return False\n",
    "        \n",
    "\n",
    "    def testPrim(self, n):\n",
    "        success = False\n",
    "        for i in range(8):\n",
    "            success = self.millerRabin(n)\n",
    "            if success: return True\n",
    "        return False\n",
    "\n",
    "    def genPrim(self, min_z = 1000, max_z = 10**130):\n",
    "        z = random.randint(min_z, max_z)\n",
    "        hit = False\n",
    "        i = 1\n",
    "        while not hit:\n",
    "            number = 30 * z + self.small_primes[i]\n",
    "            hit = self.testPrim(number)\n",
    "            i += 1\n",
    "            if i == 8:\n",
    "                i = 0\n",
    "                z += 1\n",
    "        return number\n",
    "    \n",
    "    def genKeyPair(self):\n",
    "        # generate primes\n",
    "        p = self.genPrim()\n",
    "        q = self.genPrim()\n",
    "        while min([p,q]) * 1.2 > max([p,q]):\n",
    "            q = self.genPrim()\n",
    "        # gen e\n",
    "        n = p * q\n",
    "        phi_n = (p-1) * (q-1)\n",
    "        hit = False\n",
    "        while not hit:\n",
    "            e = random.randint(1000, 10**180)\n",
    "            ggt, d, _ = self.eea(e, phi_n)\n",
    "            hit = ggt == 1\n",
    "        if d < 0:\n",
    "            d = phi_n + d\n",
    "        return ((e,n), (d, n))\n",
    "\n",
    "\n",
    "    def encrypt(self, x, public):\n",
    "        e, n = public\n",
    "        return self.potModN(x,e,n)\n",
    "\n",
    "    def decrypt(self, x, private):\n",
    "        d, n = private\n",
    "        return self.potModN(x,d,n)"
   ]
  },
  {
   "cell_type": "markdown",
   "metadata": {},
   "source": [
    "## Parametergenerierung"
   ]
  },
  {
   "cell_type": "code",
   "execution_count": 3,
   "metadata": {},
   "outputs": [],
   "source": [
    "# generate n ones in int\n",
    "def ones(n):\n",
    "    return (2**n)-1\n",
    "\n",
    "# generate prime wit n bits\n",
    "def genQ(n):\n",
    "    rsa = RSA()\n",
    "    return rsa.genPrim(min_z=math.floor((1<<(n-1)) / 30), max_z=math.ceil(ones(n) / 30))\n",
    "\n",
    "def genParameters(l: int, n: int):\n",
    "    rsa = RSA()\n",
    "    q = genQ(n)\n",
    "    hit = False\n",
    "    tries = 0\n",
    "    while not hit:\n",
    "        # random h with 1 < h < p-1\n",
    "        k = random.randint(2 ** (l - n), 2 ** (l - n + 1))\n",
    "        p = q * k + 1\n",
    "        # check if p is prime and and the correct length\n",
    "        hit = rsa.testPrim(p) and p.bit_length() == l\n",
    "        tries += 1\n",
    "        if tries > 10000:\n",
    "            print(\"Generating new q\")\n",
    "            q = genQ(n)\n",
    "            tries = 0\n",
    "    assert (p - 1) % q == 0\n",
    "    assert q.bit_length() == n\n",
    "    assert p.bit_length() == l\n",
    "    print(\"q length: \", q.bit_length())\n",
    "    print(\"p length: \", p.bit_length())\n",
    "\n",
    "    # Bestimme g aus Z*_P mit Ordnung q\n",
    "    g = 1\n",
    "    while g == 1:\n",
    "        h = random.randint(2, p-1)\n",
    "        # g = h ^ ((p-1) / q) mod p\n",
    "        g = potModN(h,(p-1) // q, p)\n",
    "    print(\"g: \", g)\n",
    "    return p, q, g\n"
   ]
  },
  {
   "cell_type": "markdown",
   "metadata": {},
   "source": [
    "## Schlüsselgenerierung"
   ]
  },
  {
   "cell_type": "code",
   "execution_count": 4,
   "metadata": {},
   "outputs": [],
   "source": [
    "def genKey(p, q, g):\n",
    "    x = random.randint(2,q)\n",
    "    y = potModN(g,x,p)\n",
    "    return x,y"
   ]
  },
  {
   "cell_type": "markdown",
   "metadata": {},
   "source": [
    "## Signieren"
   ]
  },
  {
   "cell_type": "code",
   "execution_count": 5,
   "metadata": {},
   "outputs": [],
   "source": [
    "def sha1(input):\n",
    "    return hashlib.sha1(input).digest()\n",
    "\n",
    "# helper functions https://stackoverflow.com/a/30375198/6600660\n",
    "\n",
    "def int_to_bytes(x: int) -> bytes:\n",
    "    return x.to_bytes((x.bit_length() + 7) // 8, 'big')\n",
    "\n",
    "def int_from_bytes(xbytes: bytes) -> int:\n",
    "    return int.from_bytes(xbytes, 'big')"
   ]
  },
  {
   "cell_type": "code",
   "execution_count": 6,
   "metadata": {},
   "outputs": [],
   "source": [
    "# Sign Algorithm with Inputs:\n",
    "# m - message\n",
    "# p - one of the primes\n",
    "# q - other of the primes\n",
    "# g - generator\n",
    "# x - private key\n",
    "def sign(m,p,q,g,x):\n",
    "    hashedMessage = int_from_bytes(sha1(m))\n",
    "    r = 0\n",
    "    s = 0\n",
    "    rsa = RSA()\n",
    "    while r == 0 or s == 0:\n",
    "        j = random.randint(2, q)\n",
    "        r = potModN(g,j,p) % q\n",
    "        one, invertedJ, _ = rsa.eea(j,q)\n",
    "        assert one == 1\n",
    "        s = (invertedJ * (hashedMessage + r * x)) % q\n",
    "    return r,s\n",
    "\n",
    "# Verify Algorithm\n",
    "# m - message\n",
    "# p - one of the primes\n",
    "# q - other of the primes\n",
    "# g - generator\n",
    "# y - public key\n",
    "# r - signature part 1\n",
    "# s - signature part 2\n",
    "def verify(m,p,q,g,y,r,s):\n",
    "    hashedMessage = int_from_bytes(sha1(m))\n",
    "    rsa = RSA()\n",
    "    # Check intervals of r and s\n",
    "    if 0 < r < q and 0 < s < q:\n",
    "        _, w, _ = rsa.eea(s,q)\n",
    "        u_1 = (hashedMessage * w) % q\n",
    "        u_2 = (r*w) % q\n",
    "        # v = (g^u1 * y^u2 mod p) mod q\n",
    "        v = ((potModN(g,u_1,p) * potModN(y,u_2,p)) % p) % q\n",
    "        if v == r:\n",
    "            print(\"Valid signature\")\n",
    "            return True\n",
    "        else:\n",
    "            print(\"Invalid signature (v: \", v, \" - r: \", r, \")\")\n",
    "            return False\n",
    "    else:\n",
    "        print(\"r and s in wrong intervalls\")\n",
    "        return False\n"
   ]
  },
  {
   "cell_type": "code",
   "execution_count": 7,
   "metadata": {},
   "outputs": [
    {
     "name": "stdout",
     "output_type": "stream",
     "text": [
      "q length:  160\n",
      "p length:  1024\n",
      "g:  34812612395891250039585782671029308420759872903547711834001001395583278187989384253500322833547947155537225572377417237744854481791962087277850249470792018763554509445598998637586431184925452137961147520846973033052710147325274599474220870650132058364882948826949600688317481215421661576239249740703355081856\n"
     ]
    }
   ],
   "source": [
    "p, q, g = genParameters(1024,160)\n",
    "x,y = genKey(p,q,g)"
   ]
  },
  {
   "cell_type": "code",
   "execution_count": 8,
   "metadata": {},
   "outputs": [
    {
     "name": "stdout",
     "output_type": "stream",
     "text": [
      "r:  160\n",
      "s:  158\n",
      "Valid signature\n"
     ]
    },
    {
     "data": {
      "text/plain": [
       "True"
      ]
     },
     "execution_count": 8,
     "metadata": {},
     "output_type": "execute_result"
    }
   ],
   "source": [
    "message = b\"Hallo, das ist ein Test\"\n",
    "r,s = sign(message,p,q,g,x)\n",
    "print(\"r: \", r.bit_length())\n",
    "print(\"s: \", s.bit_length())\n",
    "verify(message,p,q,g,y,r,s)"
   ]
  }
 ],
 "metadata": {
  "interpreter": {
   "hash": "2db524e06e9f5f4ffedc911c917cb75e12dbc923643829bf417064a77eb14d37"
  },
  "kernelspec": {
   "display_name": "Python 3.8.3 64-bit",
   "language": "python",
   "name": "python3"
  },
  "language_info": {
   "codemirror_mode": {
    "name": "ipython",
    "version": 3
   },
   "file_extension": ".py",
   "mimetype": "text/x-python",
   "name": "python",
   "nbconvert_exporter": "python",
   "pygments_lexer": "ipython3",
   "version": "3.8.3"
  },
  "orig_nbformat": 4
 },
 "nbformat": 4,
 "nbformat_minor": 2
}
