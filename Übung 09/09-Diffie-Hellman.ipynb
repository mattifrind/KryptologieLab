{
 "cells": [
  {
   "cell_type": "markdown",
   "metadata": {},
   "source": [
    "# Kryptologie LAB - Diffie Hellman Schlüsseltausch"
   ]
  },
  {
   "cell_type": "code",
   "execution_count": 1,
   "metadata": {},
   "outputs": [],
   "source": [
    "import random"
   ]
  },
  {
   "cell_type": "code",
   "execution_count": 2,
   "metadata": {},
   "outputs": [],
   "source": [
    "# x^m mod n\n",
    "def potModN(x, m, n):\n",
    "    y = 1\n",
    "    b = m\n",
    "    while b != 0:\n",
    "        if (b & 0x1) == 1:\n",
    "            y = (y * x) % n\n",
    "        x = (x*x) % n\n",
    "        b = b >> 1\n",
    "    return y"
   ]
  },
  {
   "cell_type": "code",
   "execution_count": 3,
   "metadata": {},
   "outputs": [],
   "source": [
    "# from the standard 2048-bit MODP Group\n",
    "# https://www.rfc-editor.org/rfc/rfc3526#page-4\n",
    "\n",
    "p = 0xFFFFFFFFFFFFFFFFC90FDAA22168C234C4C6628B80DC1CD129024E088A67CC74020BBEA63B139B22514A08798E3404DDEF9519B3CD3A431B302B0A6DF25F14374FE1356D6D51C245E485B576625E7EC6F44C42E9A637ED6B0BFF5CB6F406B7EDEE386BFB5A899FA5AE9F24117C4B1FE649286651ECE45B3DC2007CB8A163BF0598DA48361C55D39A69163FA8FD24CF5F83655D23DCA3AD961C62F356208552BB9ED529077096966D670C354E4ABC9804F1746C08CA18217C32905E462E36CE3BE39E772C180E86039B2783A2EC07A28FB5C55DF06F4C52C9DE2BCBF6955817183995497CEA956AE515D2261898FA051015728E5A8AACAA68FFFFFFFFFFFFFFFF\n",
    "g = 2"
   ]
  },
  {
   "cell_type": "code",
   "execution_count": 4,
   "metadata": {},
   "outputs": [],
   "source": [
    "def genA(a):\n",
    "    return potModN(g,a,p)\n",
    "\n",
    "def getSFromB(B,a):\n",
    "    return potModN(B, a, p)"
   ]
  },
  {
   "cell_type": "code",
   "execution_count": 5,
   "metadata": {},
   "outputs": [],
   "source": [
    "def genB(b):\n",
    "    return potModN(g,b,p)\n",
    "\n",
    "def getSFromA(A,b):\n",
    "    return potModN(A, b, p)"
   ]
  },
  {
   "cell_type": "code",
   "execution_count": 6,
   "metadata": {},
   "outputs": [
    {
     "name": "stdout",
     "output_type": "stream",
     "text": [
      "29561225385498325274615496130638282978776025845954743750039662877398738299317090549440222368720448169683274996181669067586218797924694546412868217858793969194778629544490103633119945404247754207352954140398838267667845952306500809715567071707277876196552971204376183716292202345546841532481414950745611819529002427635703585055722760455458827098393243024286974519985187701922904129896284589203667071278236269923642979069548614462081582850659204348209823072752645718726330297178335028055647438968924646141156255618336122109896167569033170600025716239991129913858900393614066407054698295839781501688122263466844223428178\n"
     ]
    }
   ],
   "source": [
    "# Simulated key exchange\n",
    "\n",
    "# A\n",
    "a = random.randint(1000,p-1)\n",
    "# A = g^a mod p\n",
    "A = genA(a)\n",
    "\n",
    "# B\n",
    "b = random.randint(1000,p-1)\n",
    "# B = g^b mod p\n",
    "B = genB(b)\n",
    "\n",
    "# Exchanging...\n",
    "# Computing S\n",
    "# S1 = B^a mod p = (g^b)^a\n",
    "S1 = getSFromB(B,a)\n",
    "# S2 = A^b mod p = (g^a)^b\n",
    "S2 = getSFromA(A,b)\n",
    "\n",
    "print(S1)\n",
    "assert(S1 == S2)"
   ]
  }
 ],
 "metadata": {
  "interpreter": {
   "hash": "2db524e06e9f5f4ffedc911c917cb75e12dbc923643829bf417064a77eb14d37"
  },
  "kernelspec": {
   "display_name": "Python 3.8.3 64-bit",
   "language": "python",
   "name": "python3"
  },
  "language_info": {
   "codemirror_mode": {
    "name": "ipython",
    "version": 3
   },
   "file_extension": ".py",
   "mimetype": "text/x-python",
   "name": "python",
   "nbconvert_exporter": "python",
   "pygments_lexer": "ipython3",
   "version": "3.8.3"
  },
  "orig_nbformat": 4
 },
 "nbformat": 4,
 "nbformat_minor": 2
}
