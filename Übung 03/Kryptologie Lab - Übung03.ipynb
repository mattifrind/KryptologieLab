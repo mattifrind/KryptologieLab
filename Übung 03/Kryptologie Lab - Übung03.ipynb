{
 "cells": [
  {
   "cell_type": "markdown",
   "metadata": {},
   "source": [
    "# Kryptologie Lab - Übung 03 - AES\n",
    "- Blockchiffre mit 128 Bit Blöcken\n",
    "- Schlüssel auch 128, 192, 256 Bit\n",
    "- Wir betrachten nur 128 Bit Schlüssel\n",
    "- Aus Schlüssel werden 11 Rundenschlüssel erzeugt"
   ]
  },
  {
   "cell_type": "code",
   "execution_count": 168,
   "metadata": {},
   "outputs": [],
   "source": [
    "import numpy as np"
   ]
  },
  {
   "cell_type": "code",
   "execution_count": 169,
   "metadata": {},
   "outputs": [],
   "source": [
    "encryptGaloisMatrix = np.array([[2,3,1,1],[1,2,3,1],[1,1,2,3],[3,1,1,2]])\n",
    "decryptGaloisMatrix = np.array([[0xE,0xB,0xD,9],[9,0xE,0xB,0xD],[0xD,9,0xE,0xB],[0xB,0xD,9,0xE]])"
   ]
  },
  {
   "cell_type": "code",
   "execution_count": 170,
   "metadata": {},
   "outputs": [
    {
     "name": "stdout",
     "output_type": "stream",
     "text": [
      "SBox\n",
      "[[ 99 124 119 123 242 107 111 197  48   1 103  43 254 215 171 118]\n",
      " [202 130 201 125 250  89  71 240 173 212 162 175 156 164 114 192]\n",
      " [183 253 147  38  54  63 247 204  52 165 229 241 113 216  49  21]\n",
      " [  4 199  35 195  24 150   5 154   7  18 128 226 235  39 178 117]\n",
      " [  9 131  44  26  27 110  90 160  82  59 214 179  41 227  47 132]\n",
      " [ 83 209   0 237  32 252 177  91 106 203 190  57  74  76  88 207]\n",
      " [208 239 170 251  67  77  51 133  69 249   2 127  80  60 159 168]\n",
      " [ 81 163  64 143 146 157  56 245 188 182 218  33  16 255 243 210]\n",
      " [205  12  19 236  95 151  68  23 196 167 126  61 100  93  25 115]\n",
      " [ 96 129  79 220  34  42 144 136  70 238 184  20 222  94  11 219]\n",
      " [224  50  58  10  73   6  36  92 194 211 172  98 145 149 228 121]\n",
      " [231 200  55 109 141 213  78 169 108  86 244 234 101 122 174   8]\n",
      " [186 120  37  46  28 166 180 198 232 221 116  31  75 189 139 138]\n",
      " [112  62 181 102  72   3 246  14  97  53  87 185 134 193  29 158]\n",
      " [225 248 152  17 105 217 142 148 155  30 135 233 206  85  40 223]\n",
      " [140 161 137  13 191 230  66 104  65 153  45  15 176  84 187  22]]\n",
      "SBox Inverse\n",
      "[[ 82   9 106 213  48  54 165  56 191  64 163 158 129 243 215 251]\n",
      " [124 227  57 130 155  47 255 135  52 142  67  68 196 222 233 203]\n",
      " [ 84 123 148  50 166 194  35  61 238  76 149  11  66 250 195  78]\n",
      " [  8  46 161 102  40 217  36 178 118  91 162  73 109 139 209  37]\n",
      " [114 248 246 100 134 104 152  22 212 164  92 204  93 101 182 146]\n",
      " [108 112  72  80 253 237 185 218  94  21  70  87 167 141 157 132]\n",
      " [144 216 171   0 140 188 211  10 247 228  88   5 184 179  69   6]\n",
      " [208  44  30 143 202  63  15   2 193 175 189   3   1  19 138 107]\n",
      " [ 58 145  17  65  79 103 220 234 151 242 207 206 240 180 230 115]\n",
      " [150 172 116  34 231 173  53 133 226 249  55 232  28 117 223 110]\n",
      " [ 71 241  26 113  29  41 197 137 111 183  98  14 170  24 190  27]\n",
      " [252  86  62  75 198 210 121  32 154 219 192 254 120 205  90 244]\n",
      " [ 31 221 168  51 136   7 199  49 177  18  16  89  39 128 236  95]\n",
      " [ 96  81 127 169  25 181  74  13  45 229 122 159 147 201 156 239]\n",
      " [160 224  59  77 174  42 245 176 200 235 187  60 131  83 153  97]\n",
      " [ 23  43   4 126 186 119 214  38 225 105  20  99  85  33  12 125]]\n"
     ]
    }
   ],
   "source": [
    "with open('SBox.txt') as f:\n",
    "    lines = f.readlines()\n",
    "    hexValues = \"\".join(lines).replace(\"\\n\", \" \").split(\", \")\n",
    "    byteValues = [int(x, base=16) for x in hexValues]\n",
    "    sbox = np.reshape(np.array(byteValues, dtype=np.dtype('B')), (16,16))\n",
    "    print(\"SBox\")\n",
    "    print(sbox)\n",
    "\n",
    "with open('SBoxInvers.txt') as f:\n",
    "    lines = f.readlines()\n",
    "    hexValues = \"\".join(lines).replace(\"\\n\", \" \").split(\", \")\n",
    "    byteValues = [int(x, base=16) for x in hexValues]\n",
    "    sbox_inverse = np.reshape(np.array(byteValues, dtype=np.dtype('B')), (16,16))\n",
    "    print(\"SBox Inverse\")\n",
    "    print(sbox_inverse)"
   ]
  },
  {
   "cell_type": "markdown",
   "metadata": {},
   "source": [
    "## Init Galoiskörper-Operationen"
   ]
  },
  {
   "cell_type": "code",
   "execution_count": 171,
   "metadata": {},
   "outputs": [],
   "source": [
    "# Addition im Galois Körper\n",
    "def gfAddition(a,b):\n",
    "    return np.bitwise_xor(a,b)\n",
    "\n",
    "# Verdopplungsfunktion\n",
    "def xTimes(a):\n",
    "    t = a << 1\n",
    "    if a & (1 << 7) != 0:\n",
    "        t = t ^ 0x1b\n",
    "    return t\n",
    "\n",
    "# Addition im Galois Körper\n",
    "def gfMultiply(a,b):\n",
    "    index = 0\n",
    "    out = 0\n",
    "    while b != 0:\n",
    "        if (b & 1 == 1):\n",
    "            val = a\n",
    "            for i in range(index):\n",
    "                val = xTimes(val)\n",
    "            out = gfAddition(out, val)\n",
    "        index += 1\n",
    "        b = b >> 1\n",
    "    return out"
   ]
  },
  {
   "cell_type": "markdown",
   "metadata": {},
   "source": [
    "## Init algorithm steps"
   ]
  },
  {
   "cell_type": "code",
   "execution_count": 172,
   "metadata": {},
   "outputs": [],
   "source": [
    "# Initializes Block (4x4 matrix)\n",
    "# \n",
    "# Input: 16 byte as text (16 chars)\n",
    "# Output: 4x4 byte matrix (row first)\n",
    "def initBlock(textblock):\n",
    "    chars = [ord(c) for c in textblock]\n",
    "    if (len(chars) < 16):\n",
    "        fill = [0 for i in range(16 - len(chars))]\n",
    "        chars.extend(fill)\n",
    "    return np.reshape(np.array(chars, dtype=np.dtype('B')), (4,4),order=\"F\")\n",
    "\n",
    "# Reverse to initBlock\n",
    "# Input: 4x4 byte matrix (row first)\n",
    "# Output: 16 byte as text (16 chars)\n",
    "def blockToText(textblock):\n",
    "    chars = [chr(c) for c in np.nditer(textblock, order=\"F\")]\n",
    "    return \"\".join(chars)\n",
    "\n",
    "\n",
    "# Add key on 4x4 block\n",
    "# Input: 4x4 block and key as text (16 chars)\n",
    "# Output: 4x4 block\n",
    "def addRoundKey(textblock, key):\n",
    "    chars = [ord(c) for c in key]\n",
    "    key = np.reshape(np.array(chars, dtype=np.dtype('B')), (4,4),order=\"F\")\n",
    "    return np.bitwise_xor(textblock, key)\n",
    "\n",
    "# Local substitution with sbox\n",
    "# Input: 4x4 block\n",
    "# Output: 4x4 block\n",
    "def subBytes(textblock, reverse=False):\n",
    "    if reverse:\n",
    "        box = sbox_inverse\n",
    "    else:\n",
    "        box = sbox\n",
    "    for y in range(len(textblock)):\n",
    "        for x in range(len(textblock[y])):\n",
    "            # first 4 bits are row\n",
    "            row = (textblock[y,x] >> 4) & 0xF\n",
    "            # second 4 bits are column\n",
    "            col = textblock[y,x] & 0xF\n",
    "            textblock[y,x] = box[row, col]\n",
    "    return textblock\n",
    "\n",
    "# Permutation\n",
    "# Shifts row i, i times to the right\n",
    "def shiftRows(textblock, reverse=False):\n",
    "    for i in range(4):\n",
    "        if reverse:\n",
    "            shiftAmount = i\n",
    "        else:\n",
    "            shiftAmount = -i\n",
    "        textblock[i] = np.roll(textblock[i], shiftAmount)\n",
    "    return textblock\n",
    "\n",
    "# column operation of a matrix multiplication in a galois field\n",
    "# Input: inputColumn (4x1) and matrix (4x4)\n",
    "def subColumn(inputColumn, matrix):\n",
    "    outputColumn = np.copy(inputColumn)\n",
    "    for row in range(4):\n",
    "        val = 0\n",
    "        for column in range(4):\n",
    "            val = gfAddition(val, gfMultiply(matrix[row, column], inputColumn[column]))\n",
    "        outputColumn[row] = val\n",
    "    return outputColumn\n",
    "\n",
    "# matrix multiplication in the galois field\n",
    "def mixColumns(textblock, reverse=False):\n",
    "    if reverse:\n",
    "        matrix = decryptGaloisMatrix\n",
    "    else:\n",
    "        matrix = encryptGaloisMatrix\n",
    "    for column in range(4):\n",
    "        textblock[:, column] = subColumn(textblock[:, column], matrix)\n",
    "    return textblock"
   ]
  },
  {
   "cell_type": "code",
   "execution_count": 173,
   "metadata": {},
   "outputs": [
    {
     "name": "stdout",
     "output_type": "stream",
     "text": [
      "[[65 69 73 77]\n",
      " [66 70 74 78]\n",
      " [67 71 75 79]\n",
      " [68 72 76 80]]\n",
      "[[65 69 73 77]\n",
      " [70 74 78 66]\n",
      " [75 79 67 71]\n",
      " [80 68 72 76]]\n"
     ]
    }
   ],
   "source": [
    "text = \"ABCDEFGHIJKLMNOP\"\n",
    "\n",
    "block = initBlock(text)\n",
    "print(block)\n",
    "new = shiftRows(block)\n",
    "print(new)\n",
    "new2 = shiftRows(new, reverse = True)"
   ]
  },
  {
   "cell_type": "code",
   "execution_count": 174,
   "metadata": {},
   "outputs": [],
   "source": [
    "## some tests\n",
    "text = \"ABCDEFGHIJKLMNOP\"\n",
    "\n",
    "block = initBlock(text)\n",
    "initialBlock = np.array(block)\n",
    "textResult = blockToText(block)\n",
    "assert text == textResult\n",
    "\n",
    "block = np.array(initialBlock)\n",
    "substitutedBlock = subBytes(block)\n",
    "newBlock = subBytes(substitutedBlock, reverse=True)\n",
    "assert np.array_equal(initialBlock, newBlock)\n",
    "\n",
    "block = np.array(initialBlock)\n",
    "roundKeyBlock = addRoundKey(block, \"9876543210987654\")\n",
    "newBlock = addRoundKey(roundKeyBlock, \"9876543210987654\")\n",
    "assert np.array_equal(initialBlock, newBlock)\n",
    "\n",
    "block = np.array(initialBlock)\n",
    "block = shiftRows(block)\n",
    "block = shiftRows(block, reverse=True)\n",
    "assert np.array_equal(initialBlock, block)\n",
    "\n",
    "block = np.array(initialBlock)\n",
    "mixedBlock = mixColumns(block)\n",
    "newBlock = mixColumns(mixedBlock, reverse=True)\n",
    "assert np.array_equal(initialBlock, newBlock)"
   ]
  },
  {
   "cell_type": "markdown",
   "metadata": {},
   "source": [
    "## Init algorithm process"
   ]
  },
  {
   "cell_type": "code",
   "execution_count": 175,
   "metadata": {},
   "outputs": [],
   "source": [
    "# Encrypts textblock (16 chars) in 11 rounds with given keys\n",
    "# Output: Encrypted textblock\n",
    "def encryptBlock(textblock, keys):\n",
    "    textblock = initBlock(textblock)\n",
    "    textblock = addRoundKey(textblock, keys[0])\n",
    "    for i in range(1, 10):\n",
    "        textblock = subBytes(textblock)\n",
    "        textblock = shiftRows(textblock)\n",
    "        textblock = mixColumns(textblock)\n",
    "        textblock = addRoundKey(textblock, keys[i])\n",
    "    textblock = subBytes(textblock)\n",
    "    textblock = shiftRows(textblock)\n",
    "    textblock = addRoundKey(textblock, keys[10])\n",
    "    return blockToText(textblock)\n",
    "\n",
    "# Decrypts textblock (16 chars) in 11 rounds with given keys\n",
    "# Output: Decrypted textblock\n",
    "def decryptBlock(textblock, keys):\n",
    "    textblock = initBlock(textblock)\n",
    "    textblock = addRoundKey(textblock, keys[10])\n",
    "    textblock = shiftRows(textblock, reverse=True)\n",
    "    textblock = subBytes(textblock, reverse=True)\n",
    "    for i in range(9, 0, -1):\n",
    "        textblock = addRoundKey(textblock, keys[i])\n",
    "        textblock = mixColumns(textblock, reverse=True)\n",
    "        textblock = shiftRows(textblock, reverse=True)\n",
    "        textblock = subBytes(textblock, reverse=True)\n",
    "    textblock = addRoundKey(textblock, keys[0])\n",
    "    return blockToText(textblock)"
   ]
  },
  {
   "cell_type": "markdown",
   "metadata": {},
   "source": [
    "## Init block splitting"
   ]
  },
  {
   "cell_type": "code",
   "execution_count": 176,
   "metadata": {},
   "outputs": [],
   "source": [
    "# Encrypts any text with given keys.\n",
    "# Splits text into blocks and encrypts them separately\n",
    "# returns encrypted text\n",
    "def encrypt(text, keys):\n",
    "    blocks = [text[i:i+16] for i in range(0, len(text), 16)]\n",
    "    return \"\".join([encryptBlock(block, keys) for block in blocks])\n",
    "\n",
    "# Decrypts any text with given keys.\n",
    "# Splits text into blocks and decrypts them separately\n",
    "# returns decrypted text\n",
    "def decrypt(text, keys):\n",
    "    blocks = [text[i:i+16] for i in range(0, len(text), 16)]\n",
    "    return \"\".join([decryptBlock(block, keys) for block in blocks])"
   ]
  },
  {
   "cell_type": "markdown",
   "metadata": {},
   "source": [
    "## Testing"
   ]
  },
  {
   "cell_type": "code",
   "execution_count": 177,
   "metadata": {},
   "outputs": [],
   "source": [
    "key = [\"1234567890123456\" for i in range(11)]"
   ]
  },
  {
   "cell_type": "code",
   "execution_count": 178,
   "metadata": {},
   "outputs": [
    {
     "name": "stdout",
     "output_type": "stream",
     "text": [
      "ABCDEFGHIJKLMNOP\n",
      "?2¯\u001câ\u0000£\u0013\u0018ûÊÈ\u0016m\n",
      "ABCDEFGHIJKLMNOP\n"
     ]
    }
   ],
   "source": [
    "text = \"ABCDEFGHIJKLMNOP\"\n",
    "print(text)\n",
    "cipher = encryptBlock(text, key)\n",
    "print(cipher)\n",
    "decryptedText = decryptBlock(cipher, key)\n",
    "print(decryptedText)\n",
    "assert text == decryptedText"
   ]
  },
  {
   "cell_type": "code",
   "execution_count": 179,
   "metadata": {},
   "outputs": [
    {
     "name": "stdout",
     "output_type": "stream",
     "text": [
      "Input:  Hallo, das ist ein geheimer Text. Mal schauen, ob er geheim bleibt. Der Text ist noch ein Stueck laenger.\n",
      "cypher:  \u001bÄÛüÔí>ùGÎè\u0004w§´ì¿Ù­\u0001\u001bz\u0012\t\u0000wjy/2ç<K°Ç+ó<SúÜJõ.ÓqI ö¢Nô\u001e\u0019è\u0006å\u0001Ë²²QQM`\u0005\u0014ÝQ.\u001cðý\u0006wÆqÜ/uÈ¯ªÅ±Z}2Y\u0014[\u001eò\n",
      "text:  Hallo, das ist ein geheimer Text. Mal schauen, ob er geheim bleibt. Der Text ist noch ein Stueck laenger.\u0000\u0000\u0000\u0000\u0000\u0000\u0000\n"
     ]
    }
   ],
   "source": [
    "text = \"Hallo, das ist ein geheimer Text. Mal schauen, ob er geheim bleibt. Der Text ist noch ein Stueck laenger.\"\n",
    "print(\"Input: \", text)\n",
    "cipher = encrypt(text, key)\n",
    "print(\"cypher: \", cipher)\n",
    "new_text = decrypt(cipher, key)\n",
    "print(\"text: \", new_text)"
   ]
  }
 ],
 "metadata": {
  "interpreter": {
   "hash": "743cc418bf85dc03c7a8b2e88c0c4a43aa5b803c26546c0935c684a5ec19e593"
  },
  "kernelspec": {
   "display_name": "Python 3.8.5 64-bit ('base': conda)",
   "name": "python3"
  },
  "language_info": {
   "codemirror_mode": {
    "name": "ipython",
    "version": 3
   },
   "file_extension": ".py",
   "mimetype": "text/x-python",
   "name": "python",
   "nbconvert_exporter": "python",
   "pygments_lexer": "ipython3",
   "version": "3.8.5"
  },
  "orig_nbformat": 4
 },
 "nbformat": 4,
 "nbformat_minor": 2
}
