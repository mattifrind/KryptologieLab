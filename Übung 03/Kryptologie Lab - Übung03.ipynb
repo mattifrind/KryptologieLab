{
 "cells": [
  {
   "cell_type": "markdown",
   "metadata": {},
   "source": [
    "# Kryptologie Lab - Übung 03"
   ]
  },
  {
   "cell_type": "code",
   "execution_count": 1,
   "metadata": {},
   "outputs": [],
   "source": [
    "import numpy as np"
   ]
  },
  {
   "cell_type": "code",
   "execution_count": 2,
   "metadata": {},
   "outputs": [],
   "source": [
    "encryptGaloisMatrix = np.array([[2,3,1,1],[1,2,3,1],[1,1,2,3],[3,1,1,2]])\n",
    "decryptGaloisMatrix = np.array([[14,11,13,9],[9,14,11,13],[13,9,14,11],[11,13,9,14]])"
   ]
  },
  {
   "cell_type": "markdown",
   "metadata": {},
   "source": [
    "## Init Galoiskörper-Operationen"
   ]
  },
  {
   "cell_type": "code",
   "execution_count": 4,
   "metadata": {},
   "outputs": [],
   "source": [
    "def gfAddition(a,b):\n",
    "    return np.bitwise_xor(a,b)\n",
    "\n",
    "def gfMuliply(a,b):\n",
    "    # to fill\n",
    "    pass\n",
    "\n",
    "def xTimes(a):\n",
    "    t = a << 1\n",
    "    if (a & 1 << 7):\n",
    "        t = t ^ 0x1b\n",
    "    return t"
   ]
  },
  {
   "cell_type": "markdown",
   "metadata": {},
   "source": [
    "## Init algorithm steps"
   ]
  },
  {
   "cell_type": "code",
   "execution_count": 22,
   "metadata": {},
   "outputs": [],
   "source": [
    "def initBlock(textblock):\n",
    "    chars = [ord(c) for c in textblock]\n",
    "    return np.reshape(np.array(chars, dtype=np.dtype('B')), (4,4),order=\"F\")\n",
    "\n",
    "def blockToText(textblock):\n",
    "    text = textblock.transpose().flatten()\n",
    "    toChar = lambda c: chr(c)\n",
    "    return \"\".join(np.array([toChar(c) for c in text]))\n",
    "\n",
    "def addRoundKey(textblock, key):\n",
    "    chars = [ord(c) for c in key]\n",
    "    key = np.reshape(np.array(chars, dtype=np.dtype('B')), (4,4),order=\"F\")\n",
    "    return np.bitwise_xor(textblock, key)\n",
    "\n",
    "def subBytes(textblock, reverse=False):\n",
    "    # to fill\n",
    "    return textblock\n",
    "\n",
    "def shiftRows(textblock, reverse=False):\n",
    "    for i in range(4):\n",
    "        if reverse:\n",
    "            shiftAmount = i\n",
    "        else:\n",
    "            shiftAmount = -i\n",
    "        textblock[i] = np.roll(textblock[i], shiftAmount)\n",
    "    return textblock\n",
    "\n",
    "def mixColumns(textblock, reverse=False):\n",
    "    if reverse:\n",
    "        matrix = decryptGaloisMatrix\n",
    "    else:\n",
    "        matrix = encryptGaloisMatrix\n",
    "    for column in range(4):\n",
    "        textblock[column] = subColumn(textblock[column], matrix)\n",
    "    return textblock\n",
    "\n",
    "def subColumn(inputColumn, matrix):\n",
    "    outputColumn = np.copy(inputColumn)\n",
    "    for row in range(4):\n",
    "        val = 0\n",
    "        for column in range(4):\n",
    "            val = gfAddition(val, gfMuliply(matrix[row, column], inputColumn[column]))\n",
    "        outputColumn[row] = val\n",
    "    return outputColumn"
   ]
  },
  {
   "cell_type": "code",
   "execution_count": 23,
   "metadata": {},
   "outputs": [
    {
     "data": {
      "text/plain": [
       "'ABCDEFGHIJKLMNOP'"
      ]
     },
     "execution_count": 23,
     "metadata": {},
     "output_type": "execute_result"
    }
   ],
   "source": [
    "block = initBlock(\"ABCDEFGHIJKLMNOP\")\n",
    "blockToText(block)"
   ]
  },
  {
   "cell_type": "markdown",
   "metadata": {},
   "source": [
    "## Init algorithm process"
   ]
  },
  {
   "cell_type": "code",
   "execution_count": 5,
   "metadata": {},
   "outputs": [],
   "source": [
    "def encryptBlock(textblock, keys):\n",
    "    textblock = initBlock(textblock)\n",
    "    textblock = addRoundKey(textblock, keys[0])\n",
    "    for i in range(1, 10):\n",
    "        textblock = subBytes(textblock)\n",
    "        textblock = shiftRows(textblock)\n",
    "        textblock = mixColumns(textblock)\n",
    "        textblock = addRoundKey(textblock, keys[i])\n",
    "    textblock = subBytes(textblock)\n",
    "    textblock = shiftRows(textblock)\n",
    "    textblock = addRoundKey(textblock, keys[10])\n",
    "    return blockToText(textblock)\n",
    "\n",
    "def decryptBlock(textblock, keys):\n",
    "    textblock = initBlock(textblock)\n",
    "    textblock = addRoundKey(textblock, keys[0])\n",
    "    for i in range(1, 10):\n",
    "        textblock = subBytes(textblock, reverse=True)\n",
    "        textblock = shiftRows(textblock, reverse=True)\n",
    "        textblock = mixColumns(textblock, reverse=True)\n",
    "        textblock = addRoundKey(textblock, keys[i])\n",
    "    textblock = subBytes(textblock, reverse=True)\n",
    "    textblock = shiftRows(textblock, reverse=True)\n",
    "    textblock = addRoundKey(textblock, keys[10])\n",
    "    return blockToText(textblock)"
   ]
  },
  {
   "cell_type": "markdown",
   "metadata": {},
   "source": [
    "## Init block splitting"
   ]
  },
  {
   "cell_type": "code",
   "execution_count": 11,
   "metadata": {},
   "outputs": [
    {
     "name": "stdout",
     "output_type": "stream",
     "text": [
      "[['Hallo ich heiße '], ['matti und ich bi'], ['n leider nicht l'], ['ustig. Geht das '], ['hier noch viel w'], ['eiter']]\n"
     ]
    }
   ],
   "source": [
    "def encrypt(text, keys):\n",
    "    blocks = [[text[i:i+16]] for i in range(0, len(text), 16)]\n",
    "    return \"\".join([encryptBlock(block, keys) for block in blocks])\n",
    "\n",
    "def decrypt(text, keys):\n",
    "    blocks = [[text[i:i+16]] for i in range(0, len(text), 16)]\n",
    "    return \"\".join([decryptBlock(block, keys) for block in blocks])"
   ]
  },
  {
   "cell_type": "markdown",
   "metadata": {},
   "source": [
    "## Testing"
   ]
  }
 ],
 "metadata": {
  "interpreter": {
   "hash": "63fd5069d213b44bf678585dea6b12cceca9941eaf7f819626cde1f2670de90d"
  },
  "kernelspec": {
   "display_name": "Python 3.9.0 64-bit",
   "language": "python",
   "name": "python3"
  },
  "language_info": {
   "codemirror_mode": {
    "name": "ipython",
    "version": 3
   },
   "file_extension": ".py",
   "mimetype": "text/x-python",
   "name": "python",
   "nbconvert_exporter": "python",
   "pygments_lexer": "ipython3",
   "version": "3.9.0"
  },
  "orig_nbformat": 4
 },
 "nbformat": 4,
 "nbformat_minor": 2
}
