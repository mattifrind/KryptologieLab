{
 "cells": [
  {
   "cell_type": "markdown",
   "source": [
    "# Kryptologie Lab - Übung 03"
   ],
   "metadata": {}
  },
  {
   "cell_type": "code",
   "execution_count": 133,
   "source": [
    "import numpy as np"
   ],
   "outputs": [],
   "metadata": {}
  },
  {
   "cell_type": "code",
   "execution_count": 134,
   "source": [
    "encryptGaloisMatrix = np.array([[2,3,1,1],[1,2,3,1],[1,1,2,3],[3,1,1,2]])\r\n",
    "decryptGaloisMatrix = np.array([[0xE,0xB,0xD,9],[9,0xE,0xB,0xD],[0xD,9,0xE,0xB],[0xB,0xD,9,0xE]])"
   ],
   "outputs": [],
   "metadata": {}
  },
  {
   "cell_type": "code",
   "execution_count": 135,
   "source": [
    "with open('SBox.txt') as f:\r\n",
    "    lines = f.readlines()\r\n",
    "    hexValues = \"\".join(lines).replace(\"\\n\", \" \").split(\", \")\r\n",
    "    byteValues = [int(x, base=16) for x in hexValues]\r\n",
    "    sbox = np.reshape(np.array(byteValues, dtype=np.dtype('B')), (16,16))\r\n",
    "    print(\"SBox\")\r\n",
    "    print(sbox)\r\n",
    "\r\n",
    "with open('SBoxInvers.txt') as f:\r\n",
    "    lines = f.readlines()\r\n",
    "    hexValues = \"\".join(lines).replace(\"\\n\", \" \").split(\", \")\r\n",
    "    byteValues = [int(x, base=16) for x in hexValues]\r\n",
    "    sbox_inverse = np.reshape(np.array(byteValues, dtype=np.dtype('B')), (16,16))\r\n",
    "    print(\"SBox Inverse\")\r\n",
    "    print(sbox_inverse)"
   ],
   "outputs": [
    {
     "output_type": "stream",
     "name": "stdout",
     "text": [
      "SBox\n",
      "[[ 99 124 119 123 242 107 111 197  48   1 103  43 254 215 171 118]\n",
      " [202 130 201 125 250  89  71 240 173 212 162 175 156 164 114 192]\n",
      " [183 253 147  38  54  63 247 204  52 165 229 241 113 216  49  21]\n",
      " [  4 199  35 195  24 150   5 154   7  18 128 226 235  39 178 117]\n",
      " [  9 131  44  26  27 110  90 160  82  59 214 179  41 227  47 132]\n",
      " [ 83 209   0 237  32 252 177  91 106 203 190  57  74  76  88 207]\n",
      " [208 239 170 251  67  77  51 133  69 249   2 127  80  60 159 168]\n",
      " [ 81 163  64 143 146 157  56 245 188 182 218  33  16 255 243 210]\n",
      " [205  12  19 236  95 151  68  23 196 167 126  61 100  93  25 115]\n",
      " [ 96 129  79 220  34  42 144 136  70 238 184  20 222  94  11 219]\n",
      " [224  50  58  10  73   6  36  92 194 211 172  98 145 149 228 121]\n",
      " [231 200  55 109 141 213  78 169 108  86 244 234 101 122 174   8]\n",
      " [186 120  37  46  28 166 180 198 232 221 116  31  75 189 139 138]\n",
      " [112  62 181 102  72   3 246  14  97  53  87 185 134 193  29 158]\n",
      " [225 248 152  17 105 217 142 148 155  30 135 233 206  85  40 223]\n",
      " [140 161 137  13 191 230  66 104  65 153  45  15 176  84 187  22]]\n",
      "SBox Inverse\n",
      "[[ 82   9 106 213  48  54 165  56 191  64 163 158 129 243 215 251]\n",
      " [124 227  57 130 155  47 255 135  52 142  67  68 196 222 233 203]\n",
      " [ 84 123 148  50 166 194  35  61 238  76 149  11  66 250 195  78]\n",
      " [  8  46 161 102  40 217  36 178 118  91 162  73 109 139 209  37]\n",
      " [114 248 246 100 134 104 152  22 212 164  92 204  93 101 182 146]\n",
      " [108 112  72  80 253 237 185 218  94  21  70  87 167 141 157 132]\n",
      " [144 216 171   0 140 188 211  10 247 228  88   5 184 179  69   6]\n",
      " [208  44  30 143 202  63  15   2 193 175 189   3   1  19 138 107]\n",
      " [ 58 145  17  65  79 103 220 234 151 242 207 206 240 180 230 115]\n",
      " [150 172 116  34 231 173  53 133 226 249  55 232  28 117 223 110]\n",
      " [ 71 241  26 113  29  41 197 137 111 183  98  14 170  24 190  27]\n",
      " [252  86  62  75 198 210 121  32 154 219 192 254 120 205  90 244]\n",
      " [ 31 221 168  51 136   7 199  49 177  18  16  89  39 128 236  95]\n",
      " [ 96  81 127 169  25 181  74  13  45 229 122 159 147 201 156 239]\n",
      " [160 224  59  77 174  42 245 176 200 235 187  60 131  83 153  97]\n",
      " [ 23  43   4 126 186 119 214  38 225 105  20  99  85  33  12 125]]\n"
     ]
    }
   ],
   "metadata": {}
  },
  {
   "cell_type": "markdown",
   "source": [
    "## Init Galoiskörper-Operationen"
   ],
   "metadata": {}
  },
  {
   "cell_type": "code",
   "execution_count": 136,
   "source": [
    "def gfAddition(a,b):\r\n",
    "    return np.bitwise_xor(a,b)\r\n",
    "\r\n",
    "def gfMultiply(a,b):\r\n",
    "    index = 0\r\n",
    "    out = 0\r\n",
    "    while b != 0:\r\n",
    "        if (b & 1 == 1):\r\n",
    "            val = a\r\n",
    "            for i in range(index):\r\n",
    "                val = xTimes(val)\r\n",
    "            out = gfAddition(out, val)\r\n",
    "        index += 1\r\n",
    "        b = b >> 1\r\n",
    "    return out\r\n",
    "\r\n",
    "def xTimes(a):\r\n",
    "    t = a << 1\r\n",
    "    if a & (1 << 7) != 0:\r\n",
    "        t = t ^ 0x1b\r\n",
    "    return t"
   ],
   "outputs": [],
   "metadata": {}
  },
  {
   "cell_type": "markdown",
   "source": [
    "## Init algorithm steps"
   ],
   "metadata": {}
  },
  {
   "cell_type": "code",
   "execution_count": 137,
   "source": [
    "def initBlock(textblock):\r\n",
    "    chars = [ord(c) for c in textblock]\r\n",
    "    if (len(chars) < 16):\r\n",
    "        fill = [0 for i in range(16 - len(chars))]\r\n",
    "        chars.extend(fill)\r\n",
    "    return np.reshape(np.array(chars, dtype=np.dtype('B')), (4,4),order=\"F\")\r\n",
    "\r\n",
    "def blockToText(textblock):\r\n",
    "    text = textblock.transpose().flatten()\r\n",
    "    toChar = lambda c: chr(c)\r\n",
    "    return \"\".join(np.array([toChar(c) for c in text]))\r\n",
    "\r\n",
    "def addRoundKey(textblock, key):\r\n",
    "    chars = [ord(c) for c in key]\r\n",
    "    key = np.reshape(np.array(chars, dtype=np.dtype('B')), (4,4),order=\"F\")\r\n",
    "    return np.bitwise_xor(textblock, key)\r\n",
    "\r\n",
    "def subBytes(textblock, reverse=False):\r\n",
    "    if reverse:\r\n",
    "        box = sbox_inverse\r\n",
    "    else:\r\n",
    "        box = sbox\r\n",
    "    for y in range(len(textblock)):\r\n",
    "        for x in range(len(textblock[y])):\r\n",
    "            row = (textblock[y,x] >> 4) & 0xF\r\n",
    "            col = textblock[y,x] & 0xF\r\n",
    "            textblock[y,x] = box[row, col]\r\n",
    "    return textblock\r\n",
    "\r\n",
    "def shiftRows(textblock, reverse=False):\r\n",
    "    for i in range(4):\r\n",
    "        if reverse:\r\n",
    "            shiftAmount = i\r\n",
    "        else:\r\n",
    "            shiftAmount = -i\r\n",
    "        textblock[i] = np.roll(textblock[i], shiftAmount)\r\n",
    "    return textblock\r\n",
    "\r\n",
    "def mixColumns(textblock, reverse=False):\r\n",
    "    if reverse:\r\n",
    "        matrix = decryptGaloisMatrix\r\n",
    "    else:\r\n",
    "        matrix = encryptGaloisMatrix\r\n",
    "    for column in range(4):\r\n",
    "        textblock[column] = subColumn(textblock[column], matrix)\r\n",
    "    return textblock\r\n",
    "\r\n",
    "def subColumn(inputColumn, matrix):\r\n",
    "    outputColumn = np.copy(inputColumn)\r\n",
    "    for row in range(4):\r\n",
    "        val = 0\r\n",
    "        for column in range(4):\r\n",
    "            val = gfAddition(val, gfMultiply(matrix[row, column], inputColumn[column]))\r\n",
    "        outputColumn[row] = val\r\n",
    "    return outputColumn"
   ],
   "outputs": [],
   "metadata": {}
  },
  {
   "cell_type": "code",
   "execution_count": 138,
   "source": [
    "text = \"ABCDEFGHIJKLMNOP\"\r\n",
    "\r\n",
    "block = initBlock(text)\r\n",
    "print(block)\r\n",
    "new = shiftRows(block)\r\n",
    "print(new)\r\n",
    "new2 = shiftRows(new, reverse = True)\r\n",
    "print(new2)"
   ],
   "outputs": [
    {
     "output_type": "stream",
     "name": "stdout",
     "text": [
      "[[65 69 73 77]\n",
      " [66 70 74 78]\n",
      " [67 71 75 79]\n",
      " [68 72 76 80]]\n",
      "[[65 69 73 77]\n",
      " [70 74 78 66]\n",
      " [75 79 67 71]\n",
      " [80 68 72 76]]\n",
      "[[65 69 73 77]\n",
      " [66 70 74 78]\n",
      " [67 71 75 79]\n",
      " [68 72 76 80]]\n"
     ]
    }
   ],
   "metadata": {}
  },
  {
   "cell_type": "code",
   "execution_count": 139,
   "source": [
    "text = \"ABCDEFGHIJKLMNOP\"\r\n",
    "\r\n",
    "block = initBlock(text)\r\n",
    "initialBlock = np.copy(block)\r\n",
    "textResult = blockToText(block)\r\n",
    "assert text == textResult\r\n",
    "\r\n",
    "block = np.copy(initialBlock)\r\n",
    "substitutedBlock = subBytes(block)\r\n",
    "newBlock = subBytes(substitutedBlock, reverse=True)\r\n",
    "assert np.array_equal(initialBlock, newBlock)\r\n",
    "\r\n",
    "block = np.copy(initialBlock)\r\n",
    "roundKeyBlock = addRoundKey(block, \"EINSCHLÜSSEL1234\")\r\n",
    "newBlock = addRoundKey(roundKeyBlock, \"EINSCHLÜSSEL1234\")\r\n",
    "assert np.array_equal(initialBlock, newBlock)\r\n",
    "\r\n",
    "block = np.copy(initialBlock)\r\n",
    "block = shiftRows(block)\r\n",
    "block = shiftRows(block, reverse=True)\r\n",
    "assert np.array_equal(initialBlock, block)\r\n",
    "\r\n",
    "block = np.copy(initialBlock)\r\n",
    "mixedBlock = mixColumns(block)\r\n",
    "newBlock = mixColumns(block, reverse=True)\r\n",
    "assert np.array_equal(initialBlock, newBlock)"
   ],
   "outputs": [],
   "metadata": {}
  },
  {
   "cell_type": "markdown",
   "source": [
    "## Init algorithm process"
   ],
   "metadata": {}
  },
  {
   "cell_type": "code",
   "execution_count": 140,
   "source": [
    "def encryptBlock(textblock, keys):\r\n",
    "    textblock = initBlock(textblock)\r\n",
    "    textblock = addRoundKey(textblock, keys[0])\r\n",
    "    for i in range(1, 10):\r\n",
    "        textblock = subBytes(textblock)\r\n",
    "        textblock = shiftRows(textblock)\r\n",
    "        textblock = mixColumns(textblock)\r\n",
    "        textblock = addRoundKey(textblock, keys[i])\r\n",
    "    textblock = subBytes(textblock)\r\n",
    "    textblock = shiftRows(textblock)\r\n",
    "    textblock = addRoundKey(textblock, keys[10])\r\n",
    "    return blockToText(textblock)\r\n",
    "\r\n",
    "def decryptBlock(textblock, keys):\r\n",
    "    textblock = initBlock(textblock)\r\n",
    "    textblock = addRoundKey(textblock, keys[10])\r\n",
    "    textblock = shiftRows(textblock, reverse=True)\r\n",
    "    textblock = subBytes(textblock, reverse=True)\r\n",
    "    for i in range(9, 0, -1):\r\n",
    "        textblock = addRoundKey(textblock, keys[i])\r\n",
    "        textblock = mixColumns(textblock, reverse=True)\r\n",
    "        textblock = shiftRows(textblock, reverse=True)\r\n",
    "        textblock = subBytes(textblock, reverse=True)\r\n",
    "    textblock = addRoundKey(textblock, keys[0])\r\n",
    "    return blockToText(textblock)"
   ],
   "outputs": [],
   "metadata": {}
  },
  {
   "cell_type": "markdown",
   "source": [
    "## Init block splitting"
   ],
   "metadata": {}
  },
  {
   "cell_type": "code",
   "execution_count": 141,
   "source": [
    "def encrypt(text, keys):\r\n",
    "    blocks = [text[i:i+16] for i in range(0, len(text), 16)]\r\n",
    "    return \"\".join([encryptBlock(block, keys) for block in blocks])\r\n",
    "\r\n",
    "def decrypt(text, keys):\r\n",
    "    blocks = [text[i:i+16] for i in range(0, len(text), 16)]\r\n",
    "    return \"\".join([decryptBlock(block, keys) for block in blocks])"
   ],
   "outputs": [],
   "metadata": {}
  },
  {
   "cell_type": "markdown",
   "source": [
    "## Testing"
   ],
   "metadata": {}
  },
  {
   "cell_type": "code",
   "execution_count": 142,
   "source": [
    "key = [\"EINSCHLÜSSEL1234\" for i in range(11)]"
   ],
   "outputs": [],
   "metadata": {}
  },
  {
   "cell_type": "code",
   "execution_count": 143,
   "source": [
    "text = \"ABCDEFGHIJKLMNOP\"\r\n",
    "textblock = initBlock(text)\r\n",
    "textblock = subBytes(textblock)\r\n",
    "\r\n",
    "cipher = subBytes(textblock, reverse=True)\r\n",
    "assert np.array_equal(cipher, textblock)\r\n",
    "cipher = blockToText(cipher)\r\n",
    "\r\n",
    "assert text == cipher"
   ],
   "outputs": [],
   "metadata": {}
  },
  {
   "cell_type": "code",
   "execution_count": 144,
   "source": [
    "text = \"ABCDEFGHIJKLMNOP\"\r\n",
    "cipher = encryptBlock(text, key)\r\n",
    "decryptedText = decryptBlock(cipher, key)\r\n",
    "assert text == decryptedText"
   ],
   "outputs": [],
   "metadata": {}
  },
  {
   "cell_type": "code",
   "execution_count": 147,
   "source": [
    "text = \"Hallo, das ist ein geheimer Text.\"\r\n",
    "print(\"Input: \", text)\r\n",
    "cipher = encrypt(text, key)\r\n",
    "print(\"cypher: \", cipher)\r\n",
    "new_text = decrypt(cipher, key)\r\n",
    "print(\"text: \", new_text)"
   ],
   "outputs": [
    {
     "output_type": "stream",
     "name": "stdout",
     "text": [
      "Input:  Hallo, das ist ein geheimer Text.\n",
      "cypher:  ò²<\u0013\u001f½ºî \u001a'm¾åq¢§\u0006²Ö£¦Fÿ\u0004â\u0006ìè'íÚ] ð¬øå¨Äè\n",
      "text:  Hallo, das ist ein geheimer Text.\n"
     ]
    }
   ],
   "metadata": {}
  }
 ],
 "metadata": {
  "interpreter": {
   "hash": "743cc418bf85dc03c7a8b2e88c0c4a43aa5b803c26546c0935c684a5ec19e593"
  },
  "kernelspec": {
   "name": "python3",
   "display_name": "Python 3.8.5 64-bit ('base': conda)"
  },
  "language_info": {
   "codemirror_mode": {
    "name": "ipython",
    "version": 3
   },
   "file_extension": ".py",
   "mimetype": "text/x-python",
   "name": "python",
   "nbconvert_exporter": "python",
   "pygments_lexer": "ipython3",
   "version": "3.8.5"
  },
  "orig_nbformat": 4
 },
 "nbformat": 4,
 "nbformat_minor": 2
}