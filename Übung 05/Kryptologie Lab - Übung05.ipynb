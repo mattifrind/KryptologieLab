{
 "cells": [
  {
   "cell_type": "markdown",
   "metadata": {},
   "source": [
    "# Kryptologie Lab - Übung 05 - Substitutions Permutations Netwerk\n",
    "- Designprinzip für Blockchiffren\n",
    "- Lokale Substitution durch S Boxen\n",
    "- ’Globale’ Permutation\n",
    "- Schlüsseladdition\n",
    "- Arbeitet in Runden\n",
    "- Beispiel: AES\n",
    "- ![SPN](SPN.PNG)"
   ]
  },
  {
   "cell_type": "code",
   "execution_count": 123,
   "metadata": {},
   "outputs": [],
   "source": [
    "from tqdm.notebook import tqdm"
   ]
  },
  {
   "cell_type": "code",
   "execution_count": 124,
   "metadata": {},
   "outputs": [],
   "source": [
    "sbox = [0xE, 0x4, 0xD, 0x1, 0x2, 0xF, 0xB, 0x8, 0x3, 0xA, 0x6, 0xC, 0x5, 0x9, 0x0, 0x7]\n",
    "perm = [1, 5, 9, 13, 2, 6, 10, 14, 3, 7, 11, 15, 4, 8, 12, 16]"
   ]
  },
  {
   "cell_type": "code",
   "execution_count": 125,
   "metadata": {},
   "outputs": [],
   "source": [
    "# sbox substitution \n",
    "def sbox_block(value, inverse=False):\n",
    "    if inverse:\n",
    "        return sbox.index(value)\n",
    "    else: \n",
    "        return sbox[value]\n",
    "\n",
    "# lokale Substitution durch SBox\n",
    "# sbox auf jeden der 4 Blocke (mit jeweils 4 Bits)\n",
    "def executeSbox(value,inverse=False):\n",
    "    block0 = sbox_block(value & 0xF, inverse)\n",
    "    block1 = sbox_block((value & 0xF0) >> 4, inverse)\n",
    "    block2 = sbox_block((value & 0xF00) >> 8, inverse)\n",
    "    block3 = sbox_block((value & 0xF000) >> 12, inverse)\n",
    "    return (block3 << 12) | (block2 << 8) | (block1 << 4) | block0\n",
    "\n",
    "# Globale Permutation der 16 Bit\n",
    "def permutation(value):\n",
    "    output = 0\n",
    "    for i in range(1, 16):\n",
    "        bit = value & 0x1\n",
    "        output = output | (bit << (perm[i] - 1))\n",
    "        value = value >> 1\n",
    "    return output\n",
    "\n",
    "def addRoundKey(value, key):\n",
    "    return value ^ key"
   ]
  },
  {
   "cell_type": "code",
   "execution_count": 126,
   "metadata": {},
   "outputs": [],
   "source": [
    "# Encrypt via SPN in 4 Runden\n",
    "# Input: 4 Block á 4 Bit\n",
    "# Output: 4 Block á 4 Bit\n",
    "def encrypt(value, key):\n",
    "    for i in range(3):\n",
    "        value = addRoundKey(value, key)\n",
    "        value = executeSbox(value)\n",
    "        value = permutation(value)\n",
    "    value = addRoundKey(value, key)\n",
    "    value = executeSbox(value)\n",
    "    value = addRoundKey(value, key)\n",
    "    return value"
   ]
  },
  {
   "cell_type": "markdown",
   "metadata": {},
   "source": [
    "## Testing"
   ]
  },
  {
   "cell_type": "code",
   "execution_count": 127,
   "metadata": {},
   "outputs": [
    {
     "data": {
      "text/plain": [
       "50256"
      ]
     },
     "execution_count": 127,
     "metadata": {},
     "output_type": "execute_result"
    }
   ],
   "source": [
    "for i in range(0, 16):\n",
    "    encrypted = sbox_block(i)\n",
    "    decrypted = sbox_block(encrypted, inverse=True)\n",
    "    assert i == decrypted\n",
    "\n",
    "value = 0xABCD\n",
    "encrypted = executeSbox(value)\n",
    "decrypted = executeSbox(encrypted, inverse=True)\n",
    "assert value == decrypted\n",
    "\n",
    "encrypt(0xABCD, 0xFABE)"
   ]
  },
  {
   "cell_type": "markdown",
   "metadata": {},
   "source": [
    "## Lineare Kryptonanalyse\n",
    "Idee: Suche lineare Approximation an S-Boxen\n",
    "\n",
    "Known-plaintext attack"
   ]
  },
  {
   "cell_type": "code",
   "execution_count": 128,
   "metadata": {},
   "outputs": [],
   "source": [
    "import random"
   ]
  },
  {
   "cell_type": "code",
   "execution_count": 129,
   "metadata": {},
   "outputs": [],
   "source": [
    "# returns bit of val at position\n",
    "def getBit(val, index):\n",
    "    return (val >> (15-index)) & 0x1\n",
    "\n",
    "# only second and fourth byte and extends to 4 byte. rest zeros\n",
    "def expandKey(subkey):\n",
    "    return ((subkey & 0xF) << 8) ^ ((subkey & 0xF0) >> 4)\n",
    "\n",
    "def getProbabilityOfKeys(pairs):\n",
    "    possibleKeys = dict()\n",
    "    # iterate possible keys\n",
    "    for subkey in range(0xFF+1):\n",
    "        key = expandKey(subkey)\n",
    "        hits = 0\n",
    "        # iterate text-cipher pairs to find correct part of the key\n",
    "        for pair in pairs:\n",
    "            x = pair[0]\n",
    "            y = pair[1]\n",
    "            v4 = addRoundKey(y, key)\n",
    "            u4 = executeSbox(v4, inverse=True)\n",
    "            approx = getBit(x,4) ^ getBit(x,6) ^ getBit(x,7) ^ getBit(u4,5) ^ getBit(u4,7) ^ getBit(u4,13) ^ getBit(u4,15)\n",
    "            if approx == 0:\n",
    "                hits += 1\n",
    "        possibleKeys[subkey] = hits/len(pairs)\n",
    "    return possibleKeys\n",
    "\n",
    "def getBestSubKeyOrder(probabilities):\n",
    "    for data in probabilities.items():\n",
    "        probabilities.update({data[0]: abs(data[1] - 0.5)})\n",
    "    return sorted(probabilities.items(), key=lambda item: item[1])"
   ]
  },
  {
   "cell_type": "markdown",
   "metadata": {},
   "source": [
    "## Generate Text-Cipher Pairs"
   ]
  },
  {
   "cell_type": "code",
   "execution_count": 130,
   "metadata": {},
   "outputs": [
    {
     "data": {
      "application/vnd.jupyter.widget-view+json": {
       "model_id": "9067979bc76f4ccc9b7a47f260857afc",
       "version_major": 2,
       "version_minor": 0
      },
      "text/plain": [
       "HBox(children=(HTML(value=''), FloatProgress(value=0.0, max=12000.0), HTML(value='')))"
      ]
     },
     "metadata": {},
     "output_type": "display_data"
    },
    {
     "name": "stdout",
     "output_type": "stream",
     "text": [
      "\n"
     ]
    }
   ],
   "source": [
    "key = 0xFFAE\n",
    "amount = 12000\n",
    "\n",
    "M = []\n",
    "for i in tqdm(range(amount)):\n",
    "    input = random.getrandbits(16)\n",
    "    M.append((input, encrypt(input, key)))"
   ]
  },
  {
   "cell_type": "code",
   "execution_count": 131,
   "metadata": {},
   "outputs": [
    {
     "name": "stdout",
     "output_type": "stream",
     "text": [
      "[8, 120, 224, 145, 123, 126, 159, 168, 170, 239, 44, 152, 41, 28, 156, 195, 222, 124, 184, 189, 223, 19, 48, 76, 92, 226, 228, 86, 30, 32, 237, 64, 134, 149, 201, 211, 116, 136, 173, 248, 88, 119, 12, 77, 104, 132, 241, 72, 230, 15, 165, 95, 151, 17, 27, 157, 214, 83, 93, 167, 246, 58, 74, 112, 206, 255, 2, 34, 164, 25, 78, 148, 240, 40, 125, 154, 247, 5, 84, 204, 100, 109, 129, 251, 45, 143, 131, 150, 177, 13, 221, 182, 63, 96, 245, 20, 65, 141, 180, 31, 38, 216, 106, 181, 133, 174, 213, 22, 155, 205, 3, 68, 4, 192, 146, 171, 70, 47, 37, 117, 242, 80, 102, 153, 160, 197, 16, 79, 82, 191, 29, 53, 219, 67, 121, 59, 183, 193, 35, 208, 209, 172, 9, 39, 122, 144, 188, 75, 229, 252, 81, 249, 18, 24, 158, 99, 36, 51, 90, 254, 147, 97, 110, 21, 85, 114, 118, 108, 166, 244, 49, 127, 128, 140, 236, 0, 194, 220, 207, 227, 250, 66, 199, 232, 179, 23, 6, 42, 26, 185, 176, 52, 71, 187, 231, 186, 94, 169, 212, 55, 210, 253, 113, 101, 203, 43, 115, 111, 61, 234, 91, 60, 190, 218, 107, 215, 163, 243, 57, 62, 10, 196, 87, 103, 175, 56, 69, 138, 217, 161, 46, 178, 142, 200, 130, 7, 89, 54, 1, 50, 238, 225, 73, 233, 139, 135, 162, 98, 202, 235, 137, 11, 105, 33, 14, 198]\n"
     ]
    }
   ],
   "source": [
    "probabilities = getProbabilityOfKeys(M)\n",
    "subkeysInOrderWithProbability = getBestSubKeyOrder(probabilities)\n",
    "subkeysInOrder = [entry[0] for entry in subkeysInOrderWithProbability]\n",
    "print(subkeysInOrder)"
   ]
  },
  {
   "cell_type": "markdown",
   "metadata": {},
   "source": [
    "## Brutforce in better order"
   ]
  },
  {
   "cell_type": "code",
   "execution_count": 132,
   "metadata": {},
   "outputs": [
    {
     "data": {
      "application/vnd.jupyter.widget-view+json": {
       "model_id": "c0ef94f07e0d4cbf8d7b853062f295a8",
       "version_major": 2,
       "version_minor": 0
      },
      "text/plain": [
       "HBox(children=(HTML(value=''), FloatProgress(value=0.0, max=256.0), HTML(value='')))"
      ]
     },
     "metadata": {},
     "output_type": "display_data"
    },
    {
     "name": "stdout",
     "output_type": "stream",
     "text": [
      "Hit\n",
      "Key:  0xffae\n",
      "Cracked after  10  tries\n",
      "\n"
     ]
    }
   ],
   "source": [
    "countKeyTries = 0\n",
    "cracked = False\n",
    "for key in tqdm(subkeysInOrder):\n",
    "    countKeyTries += 1\n",
    "    for brutforceSubkey in range(0xFF+1):\n",
    "        expandedKey = expandKey(key)\n",
    "        testKey = ((brutforceSubkey & 0xF) << 4) ^ ((brutforceSubkey & 0xF0) << 8) ^ expandedKey\n",
    "        cipher = encrypt(M[0][0], testKey)\n",
    "        if cipher == M[0][1]:\n",
    "            print(\"Hit\")\n",
    "            correct = 0\n",
    "            for m in M:\n",
    "                cipher = encrypt(m[0], testKey)\n",
    "                if cipher == m[1]:\n",
    "                    correct += 1\n",
    "            if correct == len(M):\n",
    "                print(\"Key: \", hex(testKey))\n",
    "                print(\"Cracked after \", countKeyTries, \" tries\")\n",
    "                cracked = True\n",
    "                break\n",
    "    if cracked:\n",
    "        break       "
   ]
  },
  {
   "cell_type": "markdown",
   "metadata": {},
   "source": [
    "With more than 8000 samples the brutforce step becomes even faster. With less, the correct key is more at the back."
   ]
  }
 ],
 "metadata": {
  "interpreter": {
   "hash": "743cc418bf85dc03c7a8b2e88c0c4a43aa5b803c26546c0935c684a5ec19e593"
  },
  "kernelspec": {
   "display_name": "Python 3.8.5 64-bit ('base': conda)",
   "name": "python3"
  },
  "language_info": {
   "codemirror_mode": {
    "name": "ipython",
    "version": 3
   },
   "file_extension": ".py",
   "mimetype": "text/x-python",
   "name": "python",
   "nbconvert_exporter": "python",
   "pygments_lexer": "ipython3",
   "version": "3.8.5"
  },
  "orig_nbformat": 4
 },
 "nbformat": 4,
 "nbformat_minor": 2
}
