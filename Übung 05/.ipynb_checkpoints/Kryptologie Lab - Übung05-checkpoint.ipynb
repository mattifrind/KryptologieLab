{
 "cells": [
  {
   "cell_type": "markdown",
   "metadata": {},
   "source": [
    "# Kryptologie Lab - Übung 05"
   ]
  },
  {
   "cell_type": "code",
   "execution_count": 14,
   "metadata": {},
   "outputs": [],
   "source": [
    "import numpy as np"
   ]
  },
  {
   "cell_type": "code",
   "execution_count": 65,
   "metadata": {},
   "outputs": [],
   "source": [
    "sbox = np.array([0xE, 0x4, 0xD, 0x1, 0x2, 0xF, 0xB, 0x8, 0x3, 0xA, 0x6, 0xC, 0x5, 0x9, 0x0, 0x7])\n",
    "sbox_inverse = [0x3, 0x4, 0x8, 0x1, 0xC, 0xA, 0xF, 0x7, 0xD, 0x9, 0x6, 0xB, 0x2, 0x0, 0x5]\n",
    "\n",
    "permutation = [1, 5, 9, 13, 2, 6, 10, 14, 3, 7, 11, 15, 4, 8, 12, 16]"
   ]
  },
  {
   "cell_type": "code",
   "execution_count": 70,
   "metadata": {},
   "outputs": [],
   "source": [
    "def sbox_block(value, inverse=False):\n",
    "    if inverse:\n",
    "        return sbox_inverse(value)\n",
    "    else: \n",
    "        return sbox(value)\n",
    "\n",
    "def sbox(value,inverse=False):\n",
    "    block0 = value & 0xF\n",
    "    block1 = sbox_block((value & 0xF0) >> 4, inverse)\n",
    "    block2 = sbox_block((value & 0xF00) >> 8, inverse)\n",
    "    block3 = sbox_block((value & 0xF000) >> 12, inverse)\n",
    "    return (block0 << 12) | (block1 << 8) | (block2 << 4) | block3\n",
    "\n",
    "def perm(value,inverse=False):\n",
    "    print(\"Input: \", value)\n",
    "    output = 0\n",
    "    for i in range(15, 1, -1):\n",
    "        if inverse:\n",
    "            shift = permutation.index(i)\n",
    "        else:\n",
    "            shift = permutation[i]\n",
    "        shift_count =  16 - shift\n",
    "        bit = (value & 1) << shift_count\n",
    "        output = output | bit\n",
    "        value = value >> 1\n",
    "        print(\"{0:b}\".format(value))\n",
    "    print(\"Output: \", output)\n",
    "    return output\n",
    "\n",
    "def addRoundKey(value, key):\n",
    "    return value ^ key"
   ]
  },
  {
   "cell_type": "code",
   "execution_count": 71,
   "metadata": {},
   "outputs": [
    {
     "name": "stdout",
     "output_type": "stream",
     "text": [
      "Input:  43981\n",
      "101010111100110\n",
      "10101011110011\n",
      "1010101111001\n",
      "101010111100\n",
      "10101011110\n",
      "1010101111\n",
      "101010111\n",
      "10101011\n",
      "1010101\n",
      "101010\n",
      "10101\n",
      "1010\n",
      "101\n",
      "10\n",
      "Output:  29637\n",
      "Input:  29637\n",
      "11100111100010\n",
      "1110011110001\n",
      "111001111000\n",
      "11100111100\n",
      "1110011110\n",
      "111001111\n",
      "11100111\n",
      "1110011\n",
      "111001\n",
      "11100\n",
      "1110\n",
      "111\n",
      "11\n",
      "1\n",
      "Output:  31144\n"
     ]
    },
    {
     "ename": "AssertionError",
     "evalue": "",
     "output_type": "error",
     "traceback": [
      "\u001b[1;31m---------------------------------------------------------------------------\u001b[0m",
      "\u001b[1;31mAssertionError\u001b[0m                            Traceback (most recent call last)",
      "\u001b[1;32m<ipython-input-71-39525759172c>\u001b[0m in \u001b[0;36m<module>\u001b[1;34m\u001b[0m\n\u001b[0;32m      2\u001b[0m \u001b[0mencrypted\u001b[0m \u001b[1;33m=\u001b[0m \u001b[0mperm\u001b[0m\u001b[1;33m(\u001b[0m\u001b[0mvalue\u001b[0m\u001b[1;33m)\u001b[0m\u001b[1;33m\u001b[0m\u001b[1;33m\u001b[0m\u001b[0m\n\u001b[0;32m      3\u001b[0m \u001b[0mdecrypted\u001b[0m \u001b[1;33m=\u001b[0m \u001b[0mperm\u001b[0m\u001b[1;33m(\u001b[0m\u001b[0mencrypted\u001b[0m\u001b[1;33m,\u001b[0m \u001b[0minverse\u001b[0m\u001b[1;33m=\u001b[0m\u001b[1;32mTrue\u001b[0m\u001b[1;33m)\u001b[0m\u001b[1;33m\u001b[0m\u001b[1;33m\u001b[0m\u001b[0m\n\u001b[1;32m----> 4\u001b[1;33m \u001b[1;32massert\u001b[0m \u001b[0mvalue\u001b[0m \u001b[1;33m==\u001b[0m \u001b[0mdecrypted\u001b[0m\u001b[1;33m\u001b[0m\u001b[1;33m\u001b[0m\u001b[0m\n\u001b[0m\u001b[0;32m      5\u001b[0m \u001b[1;33m\u001b[0m\u001b[0m\n\u001b[0;32m      6\u001b[0m \u001b[0mvalue\u001b[0m \u001b[1;33m=\u001b[0m \u001b[1;36m0xABCD\u001b[0m\u001b[1;33m\u001b[0m\u001b[1;33m\u001b[0m\u001b[0m\n",
      "\u001b[1;31mAssertionError\u001b[0m: "
     ]
    }
   ],
   "source": [
    "value = 0xABCD\n",
    "encrypted = perm(value)\n",
    "decrypted = perm(encrypted, inverse=True)\n",
    "assert value == decrypted\n",
    "\n",
    "value = 0xABCD\n",
    "encrypted = sbox(value)\n",
    "decrypted = sbox(encrypted, inverse=True)\n",
    "assert value == decrypted"
   ]
  }
 ],
 "metadata": {
  "hide_input": false,
  "interpreter": {
   "hash": "743cc418bf85dc03c7a8b2e88c0c4a43aa5b803c26546c0935c684a5ec19e593"
  },
  "kernelspec": {
   "display_name": "Python 3",
   "language": "python",
   "name": "python3"
  },
  "language_info": {
   "codemirror_mode": {
    "name": "ipython",
    "version": 3
   },
   "file_extension": ".py",
   "mimetype": "text/x-python",
   "name": "python",
   "nbconvert_exporter": "python",
   "pygments_lexer": "ipython3",
   "version": "3.8.5"
  },
  "toc": {
   "base_numbering": 1,
   "nav_menu": {},
   "number_sections": false,
   "sideBar": true,
   "skip_h1_title": false,
   "title_cell": "Table of Contents",
   "title_sidebar": "Contents",
   "toc_cell": false,
   "toc_position": {},
   "toc_section_display": true,
   "toc_window_display": false
  },
  "varInspector": {
   "cols": {
    "lenName": 16,
    "lenType": 16,
    "lenVar": 40
   },
   "kernels_config": {
    "python": {
     "delete_cmd_postfix": "",
     "delete_cmd_prefix": "del ",
     "library": "var_list.py",
     "varRefreshCmd": "print(var_dic_list())"
    },
    "r": {
     "delete_cmd_postfix": ") ",
     "delete_cmd_prefix": "rm(",
     "library": "var_list.r",
     "varRefreshCmd": "cat(var_dic_list()) "
    }
   },
   "types_to_exclude": [
    "module",
    "function",
    "builtin_function_or_method",
    "instance",
    "_Feature"
   ],
   "window_display": false
  }
 },
 "nbformat": 4,
 "nbformat_minor": 2
}
