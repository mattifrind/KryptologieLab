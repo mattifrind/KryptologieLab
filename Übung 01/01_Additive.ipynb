{
 "cells": [
  {
   "cell_type": "markdown",
   "source": [
    "# Additive Cypher"
   ],
   "metadata": {}
  },
  {
   "cell_type": "code",
   "execution_count": 2,
   "source": [
    "input = \"Das ist ein Test\"\r\n",
    "\r\n",
    "def encrypt(input, key):\r\n",
    "    output = \"\"\r\n",
    "    for i, v in enumerate(input):\r\n",
    "        output += chr((ord(v) + key) % 128)\r\n",
    "    return output\r\n",
    "\r\n",
    "def decrypt(input, key):\r\n",
    "    output = \"\"\r\n",
    "    for i, v in enumerate(input):\r\n",
    "        output += chr((ord(v) - key) % 128)\r\n",
    "    return output\r\n"
   ],
   "outputs": [],
   "metadata": {}
  },
  {
   "cell_type": "code",
   "execution_count": 3,
   "source": [
    "cipher = encrypt(input, 5)\r\n",
    "print(\"cipher: \", cipher)\r\n",
    "print(\"plain: \", decrypt(cipher,5))"
   ],
   "outputs": [
    {
     "output_type": "stream",
     "name": "stdout",
     "text": [
      "cipher:  Ifx%nxy%jns%Yjxy\n",
      "plain:  Das ist ein Test\n"
     ]
    }
   ],
   "metadata": {}
  },
  {
   "cell_type": "markdown",
   "source": [
    "## Auto decryption"
   ],
   "metadata": {}
  },
  {
   "cell_type": "code",
   "execution_count": 4,
   "source": [
    "def countFrequencies(string):\r\n",
    "    frequencies = dict()\r\n",
    "    for char in string:\r\n",
    "        frequencies[char] = frequencies.get(char,0) + 1\r\n",
    "    return frequencies\r\n",
    "\r\n",
    "def countFrequenciesFromLines(lines):\r\n",
    "    return countFrequencies(\"\".join(lines))"
   ],
   "outputs": [],
   "metadata": {}
  },
  {
   "cell_type": "code",
   "execution_count": 9,
   "source": [
    "with open('01_LoremIpsumEncrypted.txt') as f:\r\n",
    "    lines = f.readlines()\r\n",
    "    frequencies = countFrequenciesFromLines(lines)\r\n",
    "    max_key = max(frequencies, key=frequencies.get)\r\n",
    "    print(\"max_key: \", max_key) # probably a space\r\n",
    "    key = ((ord(max_key) - ord(\" \")) % 128)\r\n",
    "    print(\"diff cipher to max_key (key): \", key)\r\n",
    "    print(\"Decrypted message: \")\r\n",
    "    print(decrypt(\"\".join(lines), key))"
   ],
   "outputs": [
    {
     "output_type": "stream",
     "name": "stdout",
     "text": [
      "max_key:  U\n",
      "diff cipher to max_key (key):  53\n",
      "Decrypted message: \n",
      "Lorem ipsum dolor sit amet, consetetur sadipscing elitr, sed diam nonumy eirmod tempor invidunt ut labore et dolore magna aliquyam erat, sed diam voluptua. At vero eos et accusam et justo duo dolores et ea rebum. Stet clita kasd gubergren, no sea takimata sanctus est Lorem ipsum dolor sit amet. Lorem ipsum dolor sit amet, consetetur sadipscing elitr, sed diam nonumy eirmod tempor invidunt ut labore et dolore magna aliquyam erat, sed diam voluptua. At vero eos et accusam et justo duo dolores et ea rebum. Stet clita kasd gubergren, no sea takimata sanctus est Lorem ipsum dolor sit amet. Lorem ipsum dolor sit amet, consetetur sadipscing elitr, sed diam nonumy eirmod tempor invidunt ut labore et dolore magna aliquyam erat, sed diam voluptua. At vero eos et accusam et justo duo dolores et ea rebum. Stet clita kasd gubergren, no sea takimata sanctus est Lorem ipsum dolor sit amet. \n"
     ]
    }
   ],
   "metadata": {}
  }
 ],
 "metadata": {
  "orig_nbformat": 4,
  "language_info": {
   "name": "python",
   "version": "3.8.5",
   "mimetype": "text/x-python",
   "codemirror_mode": {
    "name": "ipython",
    "version": 3
   },
   "pygments_lexer": "ipython3",
   "nbconvert_exporter": "python",
   "file_extension": ".py"
  },
  "kernelspec": {
   "name": "python3",
   "display_name": "Python 3.8.5 64-bit ('base': conda)"
  },
  "interpreter": {
   "hash": "743cc418bf85dc03c7a8b2e88c0c4a43aa5b803c26546c0935c684a5ec19e593"
  }
 },
 "nbformat": 4,
 "nbformat_minor": 2
}