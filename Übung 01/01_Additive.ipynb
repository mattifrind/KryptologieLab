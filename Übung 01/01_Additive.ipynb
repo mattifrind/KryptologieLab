{
 "cells": [
  {
   "cell_type": "markdown",
   "metadata": {},
   "source": [
    "# Kryptologie Lab - Übung 01 - Additive Cypher"
   ]
  },
  {
   "cell_type": "code",
   "execution_count": 1,
   "metadata": {},
   "outputs": [],
   "source": [
    "input = \"Das ist ein Test\"\n",
    "\n",
    "def encrypt(input, key):\n",
    "    output = \"\"\n",
    "    for i, v in enumerate(input):\n",
    "        output += chr((ord(v) + key) % 128)\n",
    "    return output\n",
    "\n",
    "def decrypt(input, key):\n",
    "    output = \"\"\n",
    "    for i, v in enumerate(input):\n",
    "        output += chr((ord(v) - key) % 128)\n",
    "    return output\n"
   ]
  },
  {
   "cell_type": "code",
   "execution_count": 2,
   "metadata": {},
   "outputs": [
    {
     "name": "stdout",
     "output_type": "stream",
     "text": [
      "cipher:  Ifx%nxy%jns%Yjxy\n",
      "plain:  Das ist ein Test\n"
     ]
    }
   ],
   "source": [
    "cipher = encrypt(input, 5)\n",
    "print(\"cipher: \", cipher)\n",
    "print(\"plain: \", decrypt(cipher,5))"
   ]
  },
  {
   "cell_type": "markdown",
   "metadata": {},
   "source": [
    "## Auto decryption"
   ]
  },
  {
   "cell_type": "code",
   "execution_count": 3,
   "metadata": {},
   "outputs": [],
   "source": [
    "def countFrequencies(string):\n",
    "    frequencies = dict()\n",
    "    for char in string:\n",
    "        frequencies[char] = frequencies.get(char,0) + 1\n",
    "    return frequencies\n",
    "\n",
    "def countFrequenciesFromLines(lines):\n",
    "    return countFrequencies(\"\".join(lines))"
   ]
  },
  {
   "cell_type": "code",
   "execution_count": 4,
   "metadata": {},
   "outputs": [
    {
     "name": "stdout",
     "output_type": "stream",
     "text": [
      "max_key:  U\n",
      "diff cipher to max_key (key):  53\n",
      "Decrypted message: \n",
      "Lorem ipsum dolor sit amet, consetetur sadipscing elitr, sed diam nonumy eirmod tempor invidunt ut labore et dolore magna aliquyam erat, sed diam voluptua. At vero eos et accusam et justo duo dolores et ea rebum. Stet clita kasd gubergren, no sea takimata sanctus est Lorem ipsum dolor sit amet. Lorem ipsum dolor sit amet, consetetur sadipscing elitr, sed diam nonumy eirmod tempor invidunt ut labore et dolore magna aliquyam erat, sed diam voluptua. At vero eos et accusam et justo duo dolores et ea rebum. Stet clita kasd gubergren, no sea takimata sanctus est Lorem ipsum dolor sit amet. Lorem ipsum dolor sit amet, consetetur sadipscing elitr, sed diam nonumy eirmod tempor invidunt ut labore et dolore magna aliquyam erat, sed diam voluptua. At vero eos et accusam et justo duo dolores et ea rebum. Stet clita kasd gubergren, no sea takimata sanctus est Lorem ipsum dolor sit amet. \n"
     ]
    }
   ],
   "source": [
    "with open('01_LoremIpsumEncrypted.txt') as f:\n",
    "    lines = f.readlines()\n",
    "    frequencies = countFrequenciesFromLines(lines)\n",
    "    max_key = max(frequencies, key=frequencies.get)\n",
    "    print(\"max_key: \", max_key) # probably a space\n",
    "    key = ((ord(max_key) - ord(\" \")) % 128)\n",
    "    print(\"diff cipher to max_key (key): \", key)\n",
    "    print(\"Decrypted message: \")\n",
    "    print(decrypt(\"\".join(lines), key))"
   ]
  }
 ],
 "metadata": {
  "interpreter": {
   "hash": "743cc418bf85dc03c7a8b2e88c0c4a43aa5b803c26546c0935c684a5ec19e593"
  },
  "kernelspec": {
   "display_name": "Python 3",
   "language": "python",
   "name": "python3"
  },
  "language_info": {
   "codemirror_mode": {
    "name": "ipython",
    "version": 3
   },
   "file_extension": ".py",
   "mimetype": "text/x-python",
   "name": "python",
   "nbconvert_exporter": "python",
   "pygments_lexer": "ipython3",
   "version": "3.8.5"
  }
 },
 "nbformat": 4,
 "nbformat_minor": 2
}
