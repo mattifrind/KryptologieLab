{
 "cells": [
  {
   "cell_type": "markdown",
   "metadata": {},
   "source": [
    "# Kryptologie Lab 11 - SHA"
   ]
  },
  {
   "cell_type": "code",
   "execution_count": 1,
   "metadata": {},
   "outputs": [],
   "source": [
    "import numpy as np"
   ]
  },
  {
   "cell_type": "code",
   "execution_count": 2,
   "metadata": {},
   "outputs": [],
   "source": [
    "h = np.zeros(5, dtype=np.uint32)\n",
    "h[0] = 0x67452301\n",
    "h[1] = 0xEFCDAB89\n",
    "h[2] = 0x98BADCFE\n",
    "h[3] = 0x10325476\n",
    "h[4] = 0xC3D2E1F0"
   ]
  },
  {
   "cell_type": "code",
   "execution_count": 4,
   "metadata": {},
   "outputs": [],
   "source": [
    "def intToText(numbers):\n",
    "    toChar = lambda c: chr(c)\n",
    "    return \"\".join(np.array([toChar(c) for c in numbers]))\n",
    "\n",
    "def textToInt(chars):\n",
    "    return np.array([ord(c) for c in chars], dtype=np.uint32)"
   ]
  },
  {
   "cell_type": "code",
   "execution_count": null,
   "metadata": {},
   "outputs": [],
   "source": [
    "def preprocess(m):\n",
    "    # extend message\n",
    "    while len(m)\n",
    "\n",
    "\n",
    "def hash(m):\n",
    "    mL = len(m)"
   ]
  }
 ],
 "metadata": {
  "interpreter": {
   "hash": "2db524e06e9f5f4ffedc911c917cb75e12dbc923643829bf417064a77eb14d37"
  },
  "kernelspec": {
   "display_name": "Python 3.8.3 64-bit",
   "language": "python",
   "name": "python3"
  },
  "language_info": {
   "codemirror_mode": {
    "name": "ipython",
    "version": 3
   },
   "file_extension": ".py",
   "mimetype": "text/x-python",
   "name": "python",
   "nbconvert_exporter": "python",
   "pygments_lexer": "ipython3",
   "version": "3.8.3"
  },
  "orig_nbformat": 4
 },
 "nbformat": 4,
 "nbformat_minor": 2
}
