{
 "cells": [
  {
   "cell_type": "markdown",
   "metadata": {},
   "source": [
    "# Kryptologie Lab 11 - SHA"
   ]
  },
  {
   "cell_type": "code",
   "execution_count": 36,
   "metadata": {},
   "outputs": [],
   "source": [
    "# helper functions https://stackoverflow.com/a/30375198/6600660\n",
    "\n",
    "def int_to_bytes(x: int) -> bytes:\n",
    "    return x.to_bytes((x.bit_length() + 7) // 8, 'big')\n",
    "\n",
    "def int_from_bytes(xbytes: bytes) -> int:\n",
    "    return int.from_bytes(xbytes, 'big')"
   ]
  },
  {
   "cell_type": "code",
   "execution_count": 37,
   "metadata": {},
   "outputs": [],
   "source": [
    "import numpy as np"
   ]
  },
  {
   "cell_type": "code",
   "execution_count": 38,
   "metadata": {},
   "outputs": [],
   "source": [
    "def initH():\n",
    "    global h\n",
    "    h = [0x67452301, 0xEFCDAB89, 0x98BADCFE, 0x10325476, 0xC3D2E1F0]"
   ]
  },
  {
   "cell_type": "code",
   "execution_count": 49,
   "metadata": {},
   "outputs": [],
   "source": [
    "def extendTo64(mL):\n",
    "    arr = bytearray(8)\n",
    "    for i in range(8):\n",
    "        arr[i] = mL & 0xFF\n",
    "        mL = mL >> 8\n",
    "    return arr\n",
    "\n",
    "def rotateleft(l):\n",
    "    most_significant = l & 0x80000000\n",
    "    return (l << 1) | (most_significant >> 31)\n",
    "\n",
    "def rotateLeftNTimes(l, n):\n",
    "    for i in range(n):\n",
    "        l = rotateleft(l)\n",
    "    return l\n",
    "\n",
    "def extendTo80(block):\n",
    "    print(block)\n",
    "    for i in range(16, 80):\n",
    "        block.append(rotateleft(block[i-3] ^ block[i-8] ^ block[i-14] ^ block[i-16]))\n",
    "    return block\n",
    "\n",
    "def scrumble(extendedBlock):\n",
    "    a,b,c,d,e = h\n",
    "    for i in range(80):\n",
    "        if 0 <= i and i <= 19:\n",
    "            f = (b & c) | ((0xFFFFFFFF ^ b) & d)\n",
    "            k = 0x5A827999\n",
    "        elif 20 <= i and i <= 39:\n",
    "            f = b ^ c ^ d\n",
    "            k = 0x6ED9EBA1\n",
    "        elif 40 <= i and i <= 59:\n",
    "            f = (b & c) | (b & d) | (c & d)\n",
    "            k = 0x8F1BBCDC\n",
    "        elif 60 <= i and i <= 79:\n",
    "            f = b ^ c ^ d\n",
    "            k = 0xCA62C1D6\n",
    "        tmp = (rotateLeftNTimes(a,5) + f + e + k + extendedBlock[i]) & 0xFFFFFFFF\n",
    "        e = d\n",
    "        d = c\n",
    "        c = rotateLeftNTimes(b, 30)\n",
    "        b = a\n",
    "        a = tmp\n",
    "\n",
    "    h[0] = (h[0] + a)  & 0xFFFFFFFF\n",
    "    h[1] = (h[1] + b) & 0xFFFFFFFF\n",
    "    h[2] = (h[2] + c) & 0xFFFFFFFF\n",
    "    h[3] = (h[3] + d) & 0xFFFFFFFF\n",
    "    h[4] = (h[4] + e) & 0xFFFFFFFF\n",
    "    \n",
    "\n",
    "\n",
    "def hash(m):\n",
    "    mL = len(m) * 8\n",
    "    m += bytes([0x80])\n",
    "    while (len(m) % 64) != (56 % 64):\n",
    "        m += bytes([0])\n",
    "    m += extendTo64(mL)\n",
    "\n",
    "    blocks = []\n",
    "    for i in range(0, len(m), 64):\n",
    "        inner_block = []\n",
    "        for j in range(0, 64, 4):\n",
    "            inner_block.append(int_from_bytes(m[i+j:i+j+4]))\n",
    "        blocks.append(inner_block)\n",
    "\n",
    "    initH()\n",
    "    for i in range(len(blocks)):\n",
    "        blocks[i] = scrumble(extendTo80(blocks[i]))\n",
    "\n",
    "    return hex(h[0] << 128 | h[1] << 96 | h[2] << 64 | h[3] << 32 | h[4])\n",
    "\n"
   ]
  },
  {
   "cell_type": "code",
   "execution_count": 50,
   "metadata": {},
   "outputs": [
    {
     "name": "stdout",
     "output_type": "stream",
     "text": [
      "[2147483648, 0, 0, 0, 0, 0, 0, 0, 0, 0, 0, 0, 0, 0, 0, 0]\n"
     ]
    },
    {
     "data": {
      "text/plain": [
       "'0xda39a3ee5e6b4b0d3255bfef95601890afd80709'"
      ]
     },
     "execution_count": 50,
     "metadata": {},
     "output_type": "execute_result"
    }
   ],
   "source": [
    "hash(b\"\")"
   ]
  }
 ],
 "metadata": {
  "interpreter": {
   "hash": "2db524e06e9f5f4ffedc911c917cb75e12dbc923643829bf417064a77eb14d37"
  },
  "kernelspec": {
   "display_name": "Python 3.8.3 64-bit",
   "language": "python",
   "name": "python3"
  },
  "language_info": {
   "codemirror_mode": {
    "name": "ipython",
    "version": 3
   },
   "file_extension": ".py",
   "mimetype": "text/x-python",
   "name": "python",
   "nbconvert_exporter": "python",
   "pygments_lexer": "ipython3",
   "version": "3.8.3"
  },
  "orig_nbformat": 4
 },
 "nbformat": 4,
 "nbformat_minor": 2
}
