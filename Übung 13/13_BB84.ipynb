{
 "cells": [
  {
   "cell_type": "markdown",
   "metadata": {},
   "source": [
    "# Kryptologie Lab - 13 - BB84\n",
    "- Quantenprotokoll zum Schlüsseltausch\n",
    "- Kann als Schlüssel für Onetime Pad verwendet werden\n",
    "- Fast alle asymmetrischen Verfahren unsicher gegen Quantencomputer"
   ]
  },
  {
   "cell_type": "code",
   "execution_count": 39,
   "metadata": {},
   "outputs": [],
   "source": [
    "import random"
   ]
  },
  {
   "cell_type": "code",
   "execution_count": 40,
   "metadata": {},
   "outputs": [],
   "source": [
    "from enum import Enum\n",
    "\n",
    "class QubitBase(Enum):\n",
    "    STANDARD = 0\n",
    "    HADMARD = 1\n",
    "\n",
    "class Qubit:\n",
    "    val = 0\n",
    "    base = QubitBase.STANDARD\n",
    "    destroyed = False\n",
    "\n",
    "    def __init__(self, data, baseData):\n",
    "        self.val = data\n",
    "        self.base = QubitBase(baseData)\n",
    "        self.destroyed = False\n",
    "\n",
    "    def read(self, readBase):\n",
    "        if self.destroyed:\n",
    "            raise Exception(\"Reading destroyed qubit\")\n",
    "        if self.base == readBase:\n",
    "            return self.val\n",
    "        else: return random.getrandbits(1)\n",
    "\n",
    "    def __repr__(self):\n",
    "        return \"Qubit(\" + str(self.val) + \",\" + str(self.base) + \")\""
   ]
  },
  {
   "cell_type": "markdown",
   "metadata": {},
   "source": [
    "## BB84 ohne Eavesdropping"
   ]
  },
  {
   "cell_type": "code",
   "execution_count": 41,
   "metadata": {},
   "outputs": [
    {
     "name": "stdout",
     "output_type": "stream",
     "text": [
      "goodAs:  [0, 1, 0, 1, 1, 1, 1, 1, 1]\n",
      "goodBs:  [0, 1, 0, 1, 1, 1, 1, 1, 1]\n"
     ]
    }
   ],
   "source": [
    "# Alice generates a, a' and qubits\n",
    "bitCount = 30\n",
    "a = []\n",
    "a_ = []\n",
    "qubits = []\n",
    "for i in range(bitCount):\n",
    "    a.append(random.getrandbits(1))\n",
    "    a_.append(random.getrandbits(1))\n",
    "    qubits.append(Qubit(a[i],a_[i]))\n",
    "\n",
    "# Bob generates b'\n",
    "b_ = []\n",
    "for i in range(bitCount):\n",
    "    b_.append(random.getrandbits(1))\n",
    "\n",
    "# Bob reads Qubits\n",
    "b = [qubits[i].read(QubitBase(b_[i])) for i in range(len(qubits))]\n",
    "\n",
    "# Bob and Alice compare a_ and b_\n",
    "goodAs = []\n",
    "goodBs = []\n",
    "for i in range(bitCount):\n",
    "    if (a_[i] == b_[i]):\n",
    "        goodAs.append(a[i])\n",
    "        goodBs.append(b[i])\n",
    "\n",
    "# Exchange random bits for eavesdropping and remove them\n",
    "for i in range(5):\n",
    "    index = random.randint(0,len(goodAs))\n",
    "    if (goodAs[i] != goodBs[i]):\n",
    "        raise Exception(\"eavesdropping!\")\n",
    "    del goodAs[index]\n",
    "    del goodBs[index]\n",
    "\n",
    "print(\"goodAs: \", goodAs)\n",
    "print(\"goodBs: \", goodBs)\n",
    "\n",
    "#debugging:\n",
    "assert goodAs == goodBs"
   ]
  },
  {
   "cell_type": "markdown",
   "metadata": {},
   "source": [
    "## BB84 ohne Eavesdropping"
   ]
  },
  {
   "cell_type": "code",
   "execution_count": 42,
   "metadata": {},
   "outputs": [
    {
     "ename": "Exception",
     "evalue": "eavesdropping!",
     "output_type": "error",
     "traceback": [
      "\u001b[1;31m---------------------------------------------------------------------------\u001b[0m",
      "\u001b[1;31mException\u001b[0m                                 Traceback (most recent call last)",
      "\u001b[1;32m<ipython-input-42-3e74fc476e94>\u001b[0m in \u001b[0;36m<module>\u001b[1;34m\u001b[0m\n\u001b[0;32m     36\u001b[0m     \u001b[0mindex\u001b[0m \u001b[1;33m=\u001b[0m \u001b[0mrandom\u001b[0m\u001b[1;33m.\u001b[0m\u001b[0mrandint\u001b[0m\u001b[1;33m(\u001b[0m\u001b[1;36m0\u001b[0m\u001b[1;33m,\u001b[0m\u001b[0mlen\u001b[0m\u001b[1;33m(\u001b[0m\u001b[0mgoodAs\u001b[0m\u001b[1;33m)\u001b[0m\u001b[1;33m)\u001b[0m\u001b[1;33m\u001b[0m\u001b[1;33m\u001b[0m\u001b[0m\n\u001b[0;32m     37\u001b[0m     \u001b[1;32mif\u001b[0m \u001b[1;33m(\u001b[0m\u001b[0mgoodAs\u001b[0m\u001b[1;33m[\u001b[0m\u001b[0mi\u001b[0m\u001b[1;33m]\u001b[0m \u001b[1;33m!=\u001b[0m \u001b[0mgoodBs\u001b[0m\u001b[1;33m[\u001b[0m\u001b[0mi\u001b[0m\u001b[1;33m]\u001b[0m\u001b[1;33m)\u001b[0m\u001b[1;33m:\u001b[0m\u001b[1;33m\u001b[0m\u001b[1;33m\u001b[0m\u001b[0m\n\u001b[1;32m---> 38\u001b[1;33m         \u001b[1;32mraise\u001b[0m \u001b[0mException\u001b[0m\u001b[1;33m(\u001b[0m\u001b[1;34m\"eavesdropping!\"\u001b[0m\u001b[1;33m)\u001b[0m\u001b[1;33m\u001b[0m\u001b[1;33m\u001b[0m\u001b[0m\n\u001b[0m\u001b[0;32m     39\u001b[0m     \u001b[1;32mdel\u001b[0m \u001b[0mgoodAs\u001b[0m\u001b[1;33m[\u001b[0m\u001b[0mindex\u001b[0m\u001b[1;33m]\u001b[0m\u001b[1;33m\u001b[0m\u001b[1;33m\u001b[0m\u001b[0m\n\u001b[0;32m     40\u001b[0m     \u001b[1;32mdel\u001b[0m \u001b[0mgoodBs\u001b[0m\u001b[1;33m[\u001b[0m\u001b[0mindex\u001b[0m\u001b[1;33m]\u001b[0m\u001b[1;33m\u001b[0m\u001b[1;33m\u001b[0m\u001b[0m\n",
      "\u001b[1;31mException\u001b[0m: eavesdropping!"
     ]
    }
   ],
   "source": [
    "# Alice generates a, a' and qubits\n",
    "bitCount = 30\n",
    "a = []\n",
    "a_ = []\n",
    "qubits = []\n",
    "for i in range(bitCount):\n",
    "    a.append(random.getrandbits(1))\n",
    "    a_.append(random.getrandbits(1))\n",
    "    qubits.append(Qubit(a[i],a_[i]))\n",
    "\n",
    "# Bob generates b'\n",
    "b_ = []\n",
    "for i in range(bitCount):\n",
    "    b_.append(random.getrandbits(1))\n",
    "\n",
    "# Eve intercepts qubits\n",
    "e = []\n",
    "for i in range(len(qubits)):\n",
    "    readBase = random.getrandbits(1)\n",
    "    e.append(qubits[i].read(QubitBase(readBase)))\n",
    "    qubits[i] = Qubit(e[i],readBase)\n",
    "\n",
    "# Bob reads Qubits\n",
    "b = [qubits[i].read(QubitBase(b_[i])) for i in range(len(qubits))]\n",
    "\n",
    "# Bob and Alice compare a_ and b_\n",
    "goodAs = []\n",
    "goodBs = []\n",
    "for i in range(bitCount):\n",
    "    if (a_[i] == b_[i]):\n",
    "        goodAs.append(a[i])\n",
    "        goodBs.append(b[i])\n",
    "\n",
    "# Exchange random bits for eavesdropping and remove them\n",
    "for i in range(5):\n",
    "    index = random.randint(0,len(goodAs))\n",
    "    if (goodAs[i] != goodBs[i]):\n",
    "        raise Exception(\"eavesdropping!\")\n",
    "    del goodAs[index]\n",
    "    del goodBs[index]\n",
    "\n",
    "print(\"goodAs: \", goodAs)\n",
    "print(\"goodBs: \", goodBs)\n",
    "\n",
    "#debugging:\n",
    "assert goodAs == goodBs"
   ]
  }
 ],
 "metadata": {
  "interpreter": {
   "hash": "743cc418bf85dc03c7a8b2e88c0c4a43aa5b803c26546c0935c684a5ec19e593"
  },
  "kernelspec": {
   "display_name": "Python 3.9.7 ('base')",
   "language": "python",
   "name": "python3"
  },
  "language_info": {
   "codemirror_mode": {
    "name": "ipython",
    "version": 3
   },
   "file_extension": ".py",
   "mimetype": "text/x-python",
   "name": "python",
   "nbconvert_exporter": "python",
   "pygments_lexer": "ipython3",
   "version": "3.8.5"
  },
  "orig_nbformat": 4
 },
 "nbformat": 4,
 "nbformat_minor": 2
}
