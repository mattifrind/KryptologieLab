{
 "cells": [
  {
   "cell_type": "markdown",
   "metadata": {},
   "source": [
    "# Kryptologie Lab - 13 - BB84"
   ]
  },
  {
   "cell_type": "code",
   "execution_count": 4,
   "metadata": {},
   "outputs": [],
   "source": [
    "import random\n",
    "import numpy as np"
   ]
  },
  {
   "cell_type": "code",
   "execution_count": 5,
   "metadata": {},
   "outputs": [],
   "source": [
    "from enum import Enum\n",
    "\n",
    "class QubitBase(Enum):\n",
    "    STANDARD = 0\n",
    "    HADMARD = 1\n",
    "\n",
    "class Qubit:\n",
    "    val = 0\n",
    "    base = QubitBase.STANDARD\n",
    "    destroyed = False\n",
    "\n",
    "    def __init__(self, data, baseData):\n",
    "        self.val = data\n",
    "        self.base = QubitBase(baseData)\n",
    "        self.destroyed = False\n",
    "\n",
    "    def read(self, readBase):\n",
    "        if self.destroyed:\n",
    "            raise Exception(\"Reading restroyed qubit\")\n",
    "        if self.base == readBase:\n",
    "            return self.val\n",
    "        else: return random.getrandbits(1)"
   ]
  },
  {
   "cell_type": "code",
   "execution_count": 6,
   "metadata": {},
   "outputs": [
    {
     "name": "stdout",
     "output_type": "stream",
     "text": [
      "goodAs:  [1, 1, 1, 0, 0, 1, 0, 1, 0, 0]\n",
      "goodBs:  [1, 1, 1, 0, 0, 1, 0, 1, 0, 0]\n"
     ]
    }
   ],
   "source": [
    "# Alice generates a, a' and qubits\n",
    "bitCount = 30\n",
    "a = []\n",
    "a_ = []\n",
    "qubits = []\n",
    "for i in range(bitCount):\n",
    "    a.append(random.getrandbits(1))\n",
    "    a_.append(random.getrandbits(1))\n",
    "    qubits.append(Qubit(a[i],a_[i]))\n",
    "\n",
    "# Bob generates b'\n",
    "b_ = []\n",
    "for i in range(bitCount):\n",
    "    b_.append(random.getrandbits(1))\n",
    "\n",
    "# Bob reads Qubits\n",
    "b = [qubits[i].read(QubitBase(b_[i])) for i in range(len(qubits))]\n",
    "\n",
    "# Bob and Alice compare a_ and b_\n",
    "goodAs = []\n",
    "goodBs = []\n",
    "for i in range(bitCount):\n",
    "    if (a_[i] == b_[i]):\n",
    "        goodAs.append(a[i])\n",
    "        goodBs.append(b[i])\n",
    "\n",
    "# Exchange random bits for eavesdropping and remove them\n",
    "for i in range(5):\n",
    "    index = random.randint(0,len(goodAs))\n",
    "    if (goodAs[i] != goodBs[i]):\n",
    "        raise Exception(\"eavesdropping!\")\n",
    "    del goodAs[index]\n",
    "    del goodBs[index]\n",
    "\n",
    "print(\"goodAs: \", goodAs)\n",
    "print(\"goodBs: \", goodBs)\n",
    "\n",
    "#debugging:\n",
    "assert goodAs == goodBs"
   ]
  }
 ],
 "metadata": {
  "interpreter": {
   "hash": "743cc418bf85dc03c7a8b2e88c0c4a43aa5b803c26546c0935c684a5ec19e593"
  },
  "kernelspec": {
   "display_name": "Python 3.9.7 ('base')",
   "language": "python",
   "name": "python3"
  },
  "language_info": {
   "codemirror_mode": {
    "name": "ipython",
    "version": 3
   },
   "file_extension": ".py",
   "mimetype": "text/x-python",
   "name": "python",
   "nbconvert_exporter": "python",
   "pygments_lexer": "ipython3",
   "version": "3.8.5"
  },
  "orig_nbformat": 4
 },
 "nbformat": 4,
 "nbformat_minor": 2
}
